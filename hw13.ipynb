{
 "metadata": {
  "name": "",
  "signature": "sha256:ddccad12003f5b30809644263d00b477884b35bf183d90f67277e99621c436f4"
 },
 "nbformat": 3,
 "nbformat_minor": 0,
 "worksheets": [
  {
   "cells": [
    {
     "cell_type": "markdown",
     "metadata": {},
     "source": [
      "## Analysis I - homework - week 14 (HW#13) {-}"
     ]
    },
    {
     "cell_type": "markdown",
     "metadata": {},
     "source": [
      "**1.** Suppose $F$ and $G$ are differentiable functions on $[a,b]$, $f=F'$, and $g=G'$. Prove that if $f$ and $g$ are Riemann integrable, then\n",
      "$$\\int_a^b F(x)g(x) \\,dx = F(b)G(b) - F(a)G(a) - \\int_a^b f(x)G(x)\\,dx.$$"
     ]
    },
    {
     "cell_type": "markdown",
     "metadata": {},
     "source": [
      "**Proof.** *Lemma.* If $T:[a,b]\\to \\mathbb{R}$ be differentiable and $t\\equiv T'$ is integrable. Then\n",
      "$$\\int_a^b t(x) \\,dx = T(b) - T(a).$$\n",
      "\n",
      "First, we prove this lemma. Let $P$ be a partition of $[a,b]$, which means $P = \\{x_0=a,x_1,\\ldots,x_{n-1},x_n=b\\}$, where $x_i < x_j$ if $i < j$. By the mean value theorem, in each $i$ ($0\\le i < n$), we have $T(x_{i+1})-T(x_i) = (x_{i+1}-x_i)T'(c_i)$ for some $c_i \\in (x_i,x_{i+1})$. So\n",
      "$$T(b) - T(a) = \\sum_{i=1}^{n-1}(T(x_{i+1})-T(x_i) ) = \\sum_{i=1}^{n-1} (x_{i+1}-x_i)t(c_i).$$\n",
      "\n",
      "Hence we have $L(t,P) \\le T(b) -T(a) \\le U(t,P)$ for all $P$. By the integrability of $t$, we conclude that\n",
      "$$\\int_a^b t(x) \\,dx = T(b) - T(a).$$\n",
      "\n",
      "Return to our problem, put $H=FG$, then $H$ is differentiable and $H'=F'G+FG' = fG + Fg$. By $f$ is integrable, the set of discontinuous point of $f$ has measure $0$, so the set of discontinuous points of $fG$ has measure zero. Similarly, the set of discontinuous points of $Fg$ has measure zero. By the union of two measure zero sets has measure zero, the set of discontinuous points of $H'$ has measure zero. So $H'$ is integrable. By the above lemma, we have\n",
      "$$\\int_a^bH'(x)\\,dx = H(b) - H(a).$$\n",
      "\n",
      "In other words, we have\n",
      "$$\\int_a^b (F(x)g(x) + f(x)G(x))\\,dx = F(b)G(b) - F(a)G(a),$$\n",
      "which is exactly what we want to prove. $\\Box$"
     ]
    },
    {
     "cell_type": "markdown",
     "metadata": {},
     "source": [
      "**2.** Let $f:[a,b]\\to \\mathbb{R}$ be continuous and differentible on $(a,b)$. Assume $f(a) = 0$, $f(b) = -1$, and $\\int_a^bf(x)\\,dx = 0$. Prove that there is a $c\\in (a,b)$ such that $f'(c) = 0$."
     ]
    },
    {
     "cell_type": "markdown",
     "metadata": {},
     "source": [
      "**Proof.** Put $F(t) = \\int_a^t f(x)\\,dx$ for $t\\in [a,b]$. Then we have $F(a) = F(b) = 0$. By the mean value theorem, we have $F'(d) = 0$ for some $d\\in (a,b)$. So we have $f(a) = f(d) = 0$. By the mean value theorem, there exists $c\\in (a,d)\\subset (a,b)$ such that $f'(c) = 0$. $\\Box$"
     ]
    },
    {
     "cell_type": "markdown",
     "metadata": {},
     "source": [
      "**3.** Let $f_k$ be a sequence of bounded (Riemann) integrable functions defined on $[a,b]$. Suppose $f_k \\to f$ uniformly. Then prove that $f$ is (Riemann) integrable on $[a,b]$, and\n",
      "$$\\int_a^b f_k(x)\\,dx \\to \\int_a^b f(x) \\,dx.$$"
     ]
    },
    {
     "cell_type": "markdown",
     "metadata": {},
     "source": [
      "**Proof.** For each $k$, the set $E_k$ of discontinuous points of $f_k$ has measure zero. Put $E = \\bigcup_k E_k$, then $E$ has measure zero. Outside $E$, $f_k$ is continous for all $k$. So $f$ is continuous on $[a,b] \\backslash E$. This implies that $f$ is integrable on $[a,b]$.\n",
      "\n",
      "Now, for $\\epsilon > 0$, there exists $N> 0$ such that $\\|f_k - f\\| \\le \\epsilon/(b-a)$ for all $k\\ge  N$. So we have\n",
      "$$\\left|\\int_a^b (f_k(x) - f(x))\\,dx\\right| \\le \\int_a^b \\left|f_k(x) - f(x)\\right|\\,dx \\le (b-a) \\epsilon /(b-a) = \\epsilon$$\n",
      "for all $k > N$. So\n",
      "$$\\int_a^b f_k(x)\\,dx \\to \\int_a^b f(x) \\,dx. \\Box$$"
     ]
    },
    {
     "cell_type": "markdown",
     "metadata": {},
     "source": [
      "**4.** Find functions $f_k :[a,b] \\to \\mathbb{R}$ which are integrable and such that $f_k \\to f$ pointwise, but $f$ is not integrable."
     ]
    },
    {
     "cell_type": "markdown",
     "metadata": {},
     "source": [
      "**Proof.** We may suppose $[a,b] = [0,1]$ for simplicity. Let $f:[0,1]\\to \\mathbb{R}$ be defined by $f(0) = 0$ and $f(x) = 1/x$ for $x\\in (0,1]$. For each $k$, put $f_k:[0,1] \\to \\mathbb{R}$ be defined by $f(x) = k^2x$ for $x\\in [0,1/k)$ and $f(x) =1/x$ for $x\\in [1/k,1]$. By $f_k$ is continuous on $[0,1]$, we have $f_k$ is integrable. Clearly, $f_k \\to f$ pointwise, but $f$ is not integrable on $[0,1]$. $\\Box$"
     ]
    },
    {
     "cell_type": "markdown",
     "metadata": {},
     "source": [
      "**5.** Let $f:\\mathbb{R} \\to \\mathbb{R}$ be continuous and set $F(x) = \\int_0^{x^2} f(y)\\, dy$. Prove $F'(x) = 2xf(x^2)$."
     ]
    },
    {
     "cell_type": "markdown",
     "metadata": {},
     "source": [
      "**Proof.** Put $G(x) = \\int_0^x f(y)\\,dy$, then $F(x) = G(x^2)$. By $f$ is continuous, we have $G$ is differentiable and $G'(x) = f(x)$. So the composition of $G$ and the function $(x \\mapsto x^2)$ gives us $F'(x) = 2xG'(x^2) = 2xf(x^2)$. $\\Box$"
     ]
    },
    {
     "cell_type": "markdown",
     "metadata": {},
     "source": [
      "**6.** Let $f:[0,1] \\to \\mathbb{R}$,\n",
      "$$f(x) = \\begin{cases}\n",
      "0, & \\text{if } x\\in \\mathbb{R}\\backslash \\mathbb{Q},\\\\\n",
      "\\frac{1}{q}, & \\text{if } x = \\frac{p}{q},\n",
      "\\end{cases}$$\n",
      "where $p,q\\ge 0$ with no common factor. Show $f$ is integrable and compute $\\int_0^1 f$."
     ]
    },
    {
     "cell_type": "markdown",
     "metadata": {},
     "source": [
      "**Proof.** In HW#4, Problem 8.b, we already prove that $f$ is continuous at irrational points and discontinuous at rational points. So the set of discontinuous points of $f$ has measure zero, which means $f$ is integrable. Now, for any partition $P$ of $[0,1]$, we have $L(f,P) = 0$, so $\\int_{[0,1]}f = 0$. $\\Box$"
     ]
    },
    {
     "cell_type": "markdown",
     "metadata": {},
     "source": [
      "**7.** For continuous function $f:\\mathbb{R} \\to \\mathbb{R}$, define $f_n(x) = n\\int_x^{x+1/n}f(\\xi)\\,d\\xi$ for $n=1,2,3,\\ldots$ Show that $df_n(x)/d(x)$ exists even if $df(x)/dx$ does not, and that $f(x) = \\lim_{n\\to \\infty}f_n(x)$, and that convergence to the limit is uniform when $f$ is uniformly continuous."
     ]
    },
    {
     "cell_type": "markdown",
     "metadata": {},
     "source": [
      "**Proof.** Put $g(x) = \\int_0^x f(\\xi)\\,d\\xi$, then $f_n(x) = n(g(x+1/n)-g(x))$ for all $n$. By the fundamental theorem of caculus, we have $g$ is differentiable, so $f_n$ is differentiable for all $n$. Moreover, for each $x$, for each $n$, by the mean value theorem, we have\n",
      "$$f_n(x)  =n(g(x+1/n) -g(x)] = n.\\frac{1}{n}g'(c_{x,n}) = f(c_{x,n}),$$\n",
      "for some $c_{x,n}\\in (x, x+1/n)$. Let $n\\to \\infty$, we have $c_{x,n} \\to x$, hence $f(c_{x,n}) \\to f(x)$. So $f_n(x) \\to f(x)$ as $n\\to\\infty$. Now, if $f$ is uniformly continuous, then by $|c_{x,n} - x| < 1/n$ and $1/n$ does not depend on $x$, using a routine $\\epsilon-\\delta$ argument, we have $f_n \\to f$ uniformly on $\\mathbb{R}$. $\\Box$"
     ]
    }
   ],
   "metadata": {}
  }
 ]
}