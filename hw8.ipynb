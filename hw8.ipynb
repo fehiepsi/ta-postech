{
 "metadata": {
  "name": "",
  "signature": "sha256:e49cd64a4a6fab7c2331a2641f3c6974c6f6b8b771b9427d3320837cb9a5993d"
 },
 "nbformat": 3,
 "nbformat_minor": 0,
 "worksheets": [
  {
   "cells": [
    {
     "cell_type": "markdown",
     "metadata": {},
     "source": [
      "## Analysis I - homework - week 8 {-}"
     ]
    },
    {
     "cell_type": "markdown",
     "metadata": {},
     "source": [
      "**1.** Let $f: X\\to \\mathbb{R}$ be a function and define $\\operatorname{supp}(f)$, the support of $f$, as the closure of subset of $X$ where $f$ is non-zero, i.e.;\n",
      "$$ \\operatorname{supp}(f) := \\operatorname{cl}(\\{x\\in X \\mid f(x) \\neq 0\\}).$$\n",
      "\n",
      "Define\n",
      "$$ \\mathcal{C}_0(\\mathbb{R},\\mathbb{R}) := \\{f:\\mathbb{R} \\to \\mathbb{R} \\mid \\operatorname{supp}(f) \\text{ is compact}\\} \\cap \\mathcal{C}(\\mathbb{R},\\mathbb{R}).$$\n",
      "\n",
      "Prove that $\\mathcal{C}_0(\\mathbb{R},\\mathbb{R})$ is algebra.\n",
      "\n",
      "**Proof.** It is enough to check that if $f,g \\in \\mathcal{C}_0(\\mathbb{R},\\mathbb{R})$, $\\alpha \\in \\mathbb{R}$ then $f+g$, $fg$, $\\alpha f$ in $\\mathcal{C}(\\mathbb{R},\\mathbb{R})$. We will prove that this is true for $f + g$, the others are similar. If $f(x) = g(x) = 0$, then $(f+g)(x) = 0$. So\n",
      "$$(\\mathbb{R} \\backslash \\operatorname{supp}(f))\\cap (\\mathbb{R} \\backslash \\operatorname{supp}(g)) \\subset \\{x \\in \\mathbb{R} \\mid (f+g)(x) = 0\\}.$$\n",
      "\n",
      "In other words, we have\n",
      "$$\\{x \\in \\mathbb{R} \\mid (f+g)(x) \\ne 0\\} \\subset \\operatorname{supp}(f) \\cup \\operatorname{supp}(g).$$\n",
      "\n",
      "By $\\operatorname{supp}(f) \\cup \\operatorname{supp}(g)$ is closed, we have\n",
      "$$\\operatorname{supp}(f+g) = \\operatorname{cl}(\\{x \\in \\mathbb{R} \\mid (f+g)(x) \\ne 0\\}) \\subset  \\operatorname{supp}(f) \\cup \\operatorname{supp}(g),$$\n",
      "which implies that $f+g \\in \\mathcal{C}_0 (\\mathbb{R},\\mathbb{R})$. $\\Box$"
     ]
    },
    {
     "cell_type": "markdown",
     "metadata": {},
     "source": [
      "**2.** Let $f$ be a continuous function from $[0,1]$ to $\\mathbb{R}$. \n",
      "$$\\int_0^1 f(x)x^n\\,dx = 0, \\quad \\text{for all } n \\in \\mathbb{N} \\cup \\{0\\},$$\n",
      "then $f(x) = 0$ for all $x\\in [0,1]$.\n",
      "\n",
      "**Proof.** By assumption, we have\n",
      "$$\\tag{*} \\int_0^1 f(x) p(x) \\,dx = 0,$$\n",
      "for $p$ is any polynomial in $\\mathbb{R}$. The Stone-Weierstrass theorem says that the set of all polynomial is dense in $C([0,1],\\mathbb{R})$. So there is a sequence of polynomial $\\{p_n\\}$ converges uniformly to $f$ in $[0,1]$. By $f$ is bounded in $[0,1]$, we have $fp_n$ converges uniformly to $f^2$ in $[0,1]$. So, by $(*)$,\n",
      "$$\\int_0^1 f^2(x) \\,dx = 0,$$\n",
      "which implies that $f(x) = 0$ for all $x\\in [0,1]$. $\\Box$"
     ]
    },
    {
     "cell_type": "markdown",
     "metadata": {},
     "source": [
      "**3.** Let $f$ be a continuous function form $[0,1]$ to $\\mathbb{R}$. Prove that if\n",
      "$$\\int_0^1 f(x)e^{nx}\\,dx = 0, \\quad \\text{for all } n \\in \\mathbb{N} \\cup \\{0\\},$$\n",
      "then $f(x) = 0$ for all $x\\in [0,1]$.\n",
      "\n",
      "**Proof.** Similar to Exercise 2, we just need to prove that the set $\\mathcal{B}$ of finite linear combinations of $e^{nx}$ where $n \\in \\mathbb{N} \\cup \\{0\\}$ is dense in $\\mathcal{C}([0,1], \\mathbb{R})$. By Stone-Weierstrass theorem (Theorem 5.12), it is enough to show that $\\mathcal{B}$ is an algebra containing $\\chi_{[0,1]}$ function and separating points. For $f$ and $g$ are two finite linear combinations of $e^{nx}$ ($n\\in \\mathbb{N}\\cup\\{0\\}$), it is clear that $f+g$, $fg$, $\\alpha f$ are also finite linear combinations of $e^{nx}$ ($n\\in \\mathbb{N}\\cup\\{0\\}$). So $\\mathcal{B}$ is an algebra. Let $n = 0$, we get $e^{0x} = 1 = \\chi_{[0,1]}(x)$, so $\\chi_{[0,1]} \\in \\mathcal{B}$. For any $x\\ne y \\in \\mathbb{R}$, we have $e^x \\ne e^y$ so $\\mathcal{B}$ separates points. We conclude. $\\Box$"
     ]
    },
    {
     "cell_type": "markdown",
     "metadata": {},
     "source": [
      "**4.** Prove that $f(x) = 1/x$ cannot be approximated uniformly by polynomials on $(0,1)$, i.e., there is no sequence of polynomial $f_n$ such that $f_n \\to f$ uniformly on $(0,1)$.\n",
      "\n",
      "**Proof.** Suppose on the contrary that there is a sequence of polynomial $\\{f_n\\}$ such that $f_n \\to f$ uniformly on $(0,1)$. Let $\\epsilon = 1$, there exists $n$ such that $|f_n(x) - f(x)| < 1$, hence $|f(x)| < |f_n(x)| + 1$, for all $x\\in (0,1)$. By $f_n$ is bounded on $[0,1]$, we have $f$ is bounded on $(0,1)$, which is a contradiction because $\\lim_{x\\to 0} f(x) = \\infty$. $\\Box$"
     ]
    },
    {
     "cell_type": "markdown",
     "metadata": {},
     "source": [
      "**5.** Let $f:\\mathbb{R}^2 \\to \\mathbb{R}^2$, $f(x,y) := (x^2,y^2)$. Prove that\n",
      "$$Df(x,y) = \\begin{pmatrix}2x & 0\\\\0 & 2y\\end{pmatrix}$$\n",
      "directly form the definition in the text book.\n",
      "\n",
      "**Proof.** Put $f = (f_1,f_2)$ where $f_1(x,y) = x^2$, $f_2(x,y) = y^2$. We have\n",
      "$$Df(x,y) = \\begin{pmatrix} \\frac{\\partial f_1}{\\partial x}(x,y) & \\frac{\\partial f_1}{\\partial y}(x,y) \\\\\n",
      "\\frac{\\partial f_2}{\\partial x}(x,y) & \\frac{\\partial f_2}{\\partial y}(x,y) \\end{pmatrix} = \\begin{pmatrix}2x & 0\\\\0 & 2y\\end{pmatrix} .\\Box$$"
     ]
    }
   ],
   "metadata": {}
  }
 ]
}