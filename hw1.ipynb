{
 "metadata": {
  "name": "",
  "signature": "sha256:59915ba8cf58e405666832582a0e816b9620dc2abee4f63106aab3ae0efa3040"
 },
 "nbformat": 3,
 "nbformat_minor": 0,
 "worksheets": [
  {
   "cells": [
    {
     "cell_type": "markdown",
     "metadata": {},
     "source": [
      "## Analysis I - homework - week 1 {-}"
     ]
    },
    {
     "cell_type": "markdown",
     "metadata": {},
     "source": [
      "### Section 1.1 {-}"
     ]
    },
    {
     "cell_type": "markdown",
     "metadata": {},
     "source": [
      "**1.** Let $S = \\{x | x^3 < 1\\}$. Find $\\sup(S)$. Is $S$ bounded below?\n",
      "\n",
      "**Proof.** First, we show that $S = \\{x \\mid x < 1\\}$. Indeed, because $x^2 + x + 1 = (x+\\frac{1}{2})^2 + \\frac{3}{4} > 0$ for all $x\\in \\mathbb{R}$, we have\n",
      "$$x^3 < 1 \\Leftrightarrow (x-1)(x^2 + x + 1) < 0 \\Leftrightarrow x - 1 < 0.$$\n",
      "\n",
      "Now, because $\\sup \\{x \\mid x < 1\\} = 1$ and $\\{x \\mid x<1\\}$ is not bounded below, we have $\\sup(S) = 1$ and $S$ is not bounded below. $\\Box$"
     ]
    },
    {
     "cell_type": "markdown",
     "metadata": {},
     "source": [
      "**5.** Let $x_n = \\sqrt{n^2+1} - n$. Compute $\\lim_{n\\to \\infty} x_n$.\n",
      "\n",
      "**Proof.** For each $n$, we have\n",
      "$$x_n = \\sqrt{n^2+1}-n = \\frac{1}{\\sqrt{n^2+1} + n} < \\frac{1}{n}.$$\n",
      "\n",
      "So for $\\epsilon > 0$, we can choose $N > \\frac{1}{\\epsilon}$ and get\n",
      "$$ 0 < x_n < \\frac{1}{n} \\le \\frac{1}{N} < \\epsilon $$\n",
      "for all $n\\ge N$. So $\\lim_{n\\to\\infty}x_n = 0.$ $\\Box$"
     ]
    },
    {
     "cell_type": "markdown",
     "metadata": {},
     "source": [
      "### Chapter 1 {-}"
     ]
    },
    {
     "cell_type": "markdown",
     "metadata": {},
     "source": [
      "**10.** For a given sequence $a_n$, we define the numbers\n",
      "$$ \\limsup(a_n) = \\inf\\{\\sup(a_n,a_{n+1},\\ldots)\\mid n = 1,2,\\ldots\\}$$\n",
      "and\n",
      "$$\\liminf(a_n) = \\sup\\{\\inf(a_n,a_{n+1},\\ldots)\\mid n = 1,2,\\ldots\\}.$$\n",
      "\n",
      "Show that\n",
      "\n",
      "$(a)$ $\\liminf(a_n)\\le \\limsup(a_n)$.\n",
      "\n",
      "$(b)$ $\\limsup(a_n) = b$ iff for all $\\epsilon > 0$, there is an $N$ so that $b+\\epsilon > a_n$ for all $n \\ge N$ and for all $m$, there is an $n \\ge m$ so that $b-\\epsilon < a_n$.\n",
      "\n",
      "$(c)$ $a_n \\to b$ iff $\\limsup(a_n) = \\liminf(a_n) = b$.\n",
      "\n",
      "$(d)$ Let $a_n = (-1)^n$. Compute $\\liminf(a_n)$, $\\limsup(a_n)$.\n",
      "\n",
      "**Proof.** For each $n$, put $b_n = \\sup(a_n,a_{n+1},\\ldots)$ and $c_n = \\inf(a_n,a_{n+1},\\ldots)$.\n",
      "\n",
      "$(a)$ We have $\\limsup(a_n) = \\inf(b_n)$ and $\\liminf(a_n)= \\sup(c_n)$. Moreover, $b_n$ is an decreasing sequence, $c_n$ is an increasing sequence, and $b_n \\ge c_n$ for all $n$. Fix $n$, we claim that $b_n \\ge c_m$ for all $m$. Indeed, if $m \\le n$, then $c_m \\le c_n \\le b_n$. If $m > n$, then $c_m \\le b_m \\le b_n$. In any case, we have $c_m \\le b_n$.\n",
      "\n",
      "By $b_n \\ge c_m$ for all $m$, we get $g_n \\ge \\sup(c_m)$, which means $b_n \\ge \\liminf(a_m)$. Note that this is true for all $n$. So $\\inf(b_n) \\ge \\liminf(a_m)$, which means $\\limsup(a_n) \\ge \\liminf(a_m)$.\n",
      "\n",
      "$(b)$ For the $(\\Rightarrow)$ side, suppose $\\limsup(a_n) = b$, which means $\\inf(b_n) = b$. For $\\epsilon > 0$, by definition of $\\inf$, there is $N$ such that $b \\le b_N < b + \\epsilon$. Because $b_N=\\sup(a_N,a_{N+1},\\ldots)$, we have $a_n < b + \\epsilon$ for all $n\\ge N$. On the other hand, for each $m$, by $b_N \\ge b$, we have $\\sup(a_N, a_{N+1},\\ldots) \\ge b > b-\\epsilon$. Hence by definition of $\\sup$, there exists $n\\ge m$ such that $a_n > b-\\epsilon$.\n",
      "\n",
      "For the $(\\Leftarrow)$ side, first, we fix $\\epsilon > 0$. Because $b + \\epsilon > a_n$ for all $n \\ge N$, we have $b + \\epsilon \\ge \\sup(a_N,a_{N+1},\\ldots)$, hence $b+\\epsilon \\ge b_N$. But $b_N \\ge \\inf(b_n)$, hence $b+\\epsilon \\ge \\limsup(a_n)$. On the other hand, for each $m$, because $b - \\epsilon < a_n$ for some $n \\ge m$, we have $b-\\epsilon < \\sup(a_m,a_{m+1},\\ldots)$. Hence $b - \\epsilon < b_m$ for all $m$, hence $b-\\epsilon \\le \\inf(b_m)$. We conclude that $b-\\epsilon \\le \\limsup(a_n) \\le b+ \\epsilon$. This is true for all $\\epsilon>0$, so $b = \\limsup(a_n)$.\n",
      "\n",
      "$(c)$ Similar to $(b)$, we have $\\liminf(a_n) = b$ iff for all $\\epsilon > 0$, there is an $N$ so that $b-\\epsilon < a_n$ for all $n\\ge N$ and for all $m$, there is an $n \\ge m$ so that $b+\\epsilon > a_n$.\n",
      "\n",
      "Now, for the $(\\Rightarrow)$ side, suppose $a_n \\to b$, then for all $\\epsilon > 0$, there is an $N$ so that $b + \\epsilon > a_n > b-\\epsilon$ for all $n\\ge N$. Of course, for all $m$, by choosing $n = \\max\\{N,m\\}$, we have $n \\ge m$ and $b + \\epsilon > a_n > b-\\epsilon$. Hence, by $(b)$ and the above note, $\\limsup(a_n) = \\liminf(a_n) = b$.\n",
      "\n",
      "For the $(\\Leftarrow)$ side, suppose $\\limsup(a_n) = \\liminf(a_n) = b$, then for all $\\epsilon > 0$, there are $N_1$ and $N_2$ so that $b+\\epsilon > a_n$ for all $n\\ge N_1$ and $b-\\epsilon < a_n$ for all $n \\ge N_2$. Let $N = \\max\\{N_1,N_2\\}$, then for all $n \\ge N$, we have $b+\\epsilon > a_n > b-\\epsilon$. This implies that $a_n \\to b$.\n",
      "\n",
      "$(d)$ We have $b_n = 1$ for all $n$ and $c_n = -1$ for all $n$. So $\\limsup(a_n) = 1$ and $\\liminf(a_n) = -1$. $\\Box$"
     ]
    },
    {
     "cell_type": "markdown",
     "metadata": {},
     "source": [
      "**15.** Let $x_n$ be a sequence in $\\mathbb{R}$ such that $d(x_n,x_{n+1}) \\le d(x_{n-1},x_n)/ 2$. Then show that $x_n$ is a Cauchy sequence.\n",
      "\n",
      "**Proof.** For each $n$, we have $d(x_n, x_{n+1}) \\le d(x_{n-1},x_n)/2 \\le \\ldots \\le d(x_1,x_2)/2^{n-1}.$ So if $x_1 = x_2$, then $x_n$ will be a constant sequence, which is always a Cauchy sequence. Now suppose that $d(x_1,x_2) > 0$. Let $N \\ge 1$. For $m > n >=N$, we have\n",
      "$$ d(x_n, x_m) \\leq d(x_n, x_{n+1}) + d(x_{n+1},x_{n+2}) + \\ldots + d(x_{m-1}, x_m).$$\n",
      "\n",
      "So\n",
      "$$ d(x_n, x_m) \\leq d(x_1,x_2)/2^{n-1} + d(x_1,x_2)/2^n + \\ldots + d(x_1,x_2)/2^{m-2}.$$\n",
      "\n",
      "Note that\n",
      "$$\\begin{aligned}\n",
      "\\frac{1}{2^{n-1}} + \\frac{1}{2^n} + \\ldots + \\frac{1}{2^{m-2}} &= \\frac{1}{2^{m-2}}(2^{m-n-1}+2^{m-n-2}+\\ldots+ 1)\\\\\n",
      "&= \\frac{1}{2^{m-2}}(2^{m-n}-1)\\\\\n",
      "&= \\frac{4}{2^n} - \\frac{4}{2^m}.\n",
      "\\end{aligned}$$\n",
      "\n",
      "By $4/2^n - 4/2^m < 4/2^n \\le 4/2^N$, for $\\epsilon > 0$, if we choose $N$ such that $2^N > 4d(x_1,x_2)/\\epsilon$, then we will have $d(x_n, x_m) < \\epsilon$ for all $m > n \\ge N$. This means that $x_n$ is a Cauchy sequence. $\\Box$"
     ]
    },
    {
     "cell_type": "markdown",
     "metadata": {},
     "source": [
      "**28.** Let $x_n$ be a Cauchy sequence in $\\mathbb{R}$ and let $A_n = \\sup\\{x_n,x_{n+1},\\ldots\\}$ and $B_n = \\inf\\{x_n,x_{n+1},\\ldots\\}$. Prove $A_n$ converges to the same limit as $B_n$, which in turn is the same as the limit of $x_n$.\n",
      "\n",
      "**Proof.** Because $x_n$ is a Cauchy sequence and $\\mathbb{R}$ is complete, we have $x_n$ converges to a point $x\\in \\mathbb{R}$. For $\\epsilon > 0$, let $N\\in \\mathbb{N}$ such that $|x_n-x| < \\epsilon$ for all $n \\ge N$. For each $n\\ge N$, we have $x-\\epsilon < x_n$, hence $A_n \\ge x_n > x- \\epsilon$. Also, for all $m \\ge n$, we have $x_m < x + \\epsilon$. This implies that $x + \\epsilon$ is an upper bound of $A_n$, hence $A_n \\le x+\\epsilon$. We have show that $|A_n - x| \\leq \\epsilon$ for every $n\\ge N$, which means $A_n$ converges to $x$.\n",
      "\n",
      "Similarly, we also have $B_n$ converges to $x$, so $A_n$ and $B_n$ converge to the same limit $x$ (which is the limit of $x_n$). $\\Box$"
     ]
    },
    {
     "cell_type": "markdown",
     "metadata": {},
     "source": [
      "**29.** For any $x\\in \\mathbb{R}$, $x\\geq 0$, use the axioms for $\\mathbb{R}$ to deduce the existence of $y\\in \\mathbb{R}$ such that $y^2 = x$.\n",
      "\n",
      "**Proof.** The case $x=0$ is trivial because we just take $y=0$. Now suppose that $x > 0$. Let $A = \\{t\\in \\mathbb{R} \\mid t \\ge 0 \\text{ and } t^2 \\leq x\\}$. Because $0\\in A$, $A$ is not empty. Let $N \\in \\mathbb{N}$ such that $n > x$. We have $n \\ge 1$, so $n^2 =n.n \\ge n.1 > x$. We claim that $n$ is a upper bound of $A$. Indeed, for $t\\in A$, we have $t^2 \\le x < N^2$, hence $(n-t)(n+t) > 0$, hence $n - t > 0$. So $n > t$ for all $t \\in A$.\n",
      "\n",
      "Because $A$ is non-empty and is bounded from above by $n$, we can let $a = \\sup(A)$. It is clear that $a \\geq 0$. Now, suppose $a^2 < x$ and let $d = x - a^2$. We can choose $\\epsilon > 0$ such that $\\epsilon < 1$ and $\\epsilon < \\frac{d}{2a+1}$. Then because $\\epsilon(2a+\\epsilon) < \\epsilon(2a +1) < d = x-a^2$, we have $a^2 + 2a \\epsilon + \\epsilon^2 < d$, which implies that $a + \\epsilon \\in A$. Because $a$ is an upper bound of $A$, we have $a + \\epsilon \\le a$, which is a contradiction. So $a^2 \\geq x$.\n",
      "\n",
      "If $a^2 > x$, similarly, we can find $\\epsilon > 0$ such that $\\epsilon < a$ and $(a-\\epsilon)^2 > x$. Put $c = a-\\epsilon$, then $0 < c < a$. For every $b \\in A$, we have $b^2 \\le x < c^2$, hence $c^2 - b^2 > 0$, hence $(c-b)(c+b) > 0$, hence $c > b$. So $c$ is an upper bound of $A$. Because $a$ is the least upper bound of $A$, we must have $c \\ge a$, which is a contradiction. So we must have $a^2 = x$. $\\Box$"
     ]
    },
    {
     "cell_type": "markdown",
     "metadata": {},
     "source": [
      "**30.** Use the axioms for $\\mathbb{R}$ to prove the Archimedian\n",
      "property: for every $x\\in \\mathbb{R}$ there exists an integer $N$ such\n",
      "that $N > x$.\n",
      "\n",
      "**Proof.** If $n \\leq x$ for all $n = 1,2,\\ldots$, then the\n",
      "sequence $\\{x_n\\}$ with $x_n = n$ is increasing and bounded from above.\n",
      "By the completeness axiom, $\\{x_n\\}$ must converge to a point\n",
      "$a\\in \\mathbb{R}$. Pick $\\epsilon = 1$, there exists $N\\in \\mathbb{N}$\n",
      "such that $|x_n - a| < \\epsilon$ for all $n \\geq N$, . In particular, we\n",
      "have $|N - a| < 1$ with $n= N$ and $|N+2 - a| < 1$ with $n=N+2$. The\n",
      "first inequality implies $N < a + 1$ and the second inequality implies\n",
      "$N > a + 1$. We get a contradiction. So there must exist an integer $N$\n",
      "such that $N > x$. $\\Box$"
     ]
    },
    {
     "cell_type": "markdown",
     "metadata": {},
     "source": [
      "### Section 2.1 {-}"
     ]
    },
    {
     "cell_type": "markdown",
     "metadata": {},
     "source": [
      "**1.** Show that $\\mathbb{R}^2\\backslash \\{(0,0)\\}$ is open in $\\mathbb{R}^2$.\n",
      "\n",
      "**Proof.** Let $(x,y)\\in \\mathbb{R}^2\\backslash \\{(0,0)\\}$. Because $(x,y)\\neq (0,0)$, we have $d((x,y),(0,0)) > 0$. Let $\\epsilon = d((x,y),(0,0))/2$, then because $d((x,y), (0,0)) = 2\\epsilon > \\epsilon$, we have $(0,0)\\notin D((x,y),\\epsilon)$. So $D((x,y),\\epsilon)) \\subset \\mathbb{R}^2\\backslash \\{(0,0)\\}$. This implies that $\\mathbb{R}^2\\backslash \\{(0,0)\\}$ is an open set. $\\Box$"
     ]
    },
    {
     "cell_type": "markdown",
     "metadata": {},
     "source": [
      "**3.** Let $A \\subset \\mathbb{R}$ be open and $B\\subset \\mathbb{R}^2$ be defined by\n",
      "$$[ B = \\{(x,y)\\in\\mathbb{R}^2 \\mid x\\in A\\}.$$\n",
      "\n",
      "Show that $B$ is open.\n",
      "\n",
      "**Proof.** Let $(x,y)\\in B$. Because $x\\in A$, there exists $\\epsilon > 0$ such that the interval $(x-\\epsilon, x+\\epsilon)$ is a subset of $A$. To show that $B$ is open, it is enough to show that $D((x,y),\\epsilon) \\subset B$. Indeed, for $(a,b)\\in D((x,y),\\epsilon)$, we have $d((x,y),(a,b)) < \\epsilon$, hence $\\sqrt{(x-a)^2 +(y-b)^2} < \\epsilon$, hence\n",
      "$$|x-a|= \\sqrt{(x-a)^2} \\leq \\sqrt{(x-a)^2 +(y-b)^2} < \\epsilon.$$\n",
      "\n",
      "So $a \\in A$, which implies that $(a,b)\\in B$. This is true for all $(a,b) \\in D((x,y),\\epsilon)$. So $D((x,y),\\epsilon) \\subset B$. $\\Box$"
     ]
    }
   ],
   "metadata": {}
  }
 ]
}