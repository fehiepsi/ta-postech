{
 "metadata": {
  "name": "",
  "signature": "sha256:ab62f168eac8188ba0aae063743d0e64486b205546ddce0f7c8468d3f68cea0d"
 },
 "nbformat": 3,
 "nbformat_minor": 0,
 "worksheets": [
  {
   "cells": [
    {
     "cell_type": "markdown",
     "metadata": {},
     "source": [
      "## Analysis I - homework - week 14 (HW#13) {-}"
     ]
    },
    {
     "cell_type": "markdown",
     "metadata": {},
     "source": [
      "**1.** Suppose $F$ and $G$ are differentiable functions on $[a,b]$, $f=F'$, and $g=G'$. Prove that if $f$ and $g$ are Riemann integrable, then\n",
      "$$\\int_a^b F(x)g(x) \\,dx = F(b)G(b) - F(a)G(a) - \\int_a^b f(x)G(x)\\,dx.$$"
     ]
    },
    {
     "cell_type": "markdown",
     "metadata": {},
     "source": [
      "**Sketch of proof.** *Lemma.* If $T:[a,b]\\to \\mathbb{R}$ be differentiable and $t\\equiv T'$ is integrable. Then\n",
      "$$\\int_a^b t(x) \\,dx = T(b) - T(a).$$\n",
      "\n",
      "First, we prove this lemma. Let $P$ be a partition of $[a,b]$, which means $P = \\{x_0=a,x_1,\\ldots,x_{n-1},x_n=b\\}$, where $x_i < x_j$ if $i < j$. By the mean value theorem, in each $i$ ($0\\le i < n$), we have $T(x_{i+1})-T(x_i) = (x_{i+1}-x_i)T'(c_i)$ for some $c_i \\in (x_i,x_{i+1})$. So\n",
      "$$T(b) - T(a) = \\sum_{i=1}^{n-1}(T(x_{i+1})-T(x_i) ) = \\sum_{i=1}^{n-1} (x_{i+1}-x_i)t(c_i).$$\n",
      "\n",
      "Hence we have $L(t,P) \\le T(b) -T(a) \\le U(t,P)$ for all $P$. By the integrability of $t$, we conclude that\n",
      "$$\\int_a^b t(x) \\,dx = T(b) - T(a).$$\n",
      "\n",
      "Return to our problem, put $H=FG$, then $H$ is differentiable and $H'=F'G+FG' = fG + Fg$. Show that $H'$ is integrable. Then use that above lemma for $H$ to get the conclusion. $\\Box$"
     ]
    },
    {
     "cell_type": "markdown",
     "metadata": {},
     "source": [
      "**2.** Let $f:[a,b]\\to \\mathbb{R}$ be continuous and differentible on $(a,b)$. Assume $f(a) = 0$, $f(b) = -1$, and $\\int_a^bf(x)\\,dx = 0$. Prove that there is a $c\\in (a,b)$ such that $f'(c) = 0$."
     ]
    },
    {
     "cell_type": "markdown",
     "metadata": {},
     "source": [
      "**Sketch of proof.** Using the mean value theorem, show that $f(a) = f(d) = 0$ for some $d\\in (a,b)$. Apply the mean value theorem one more time to get the conclusion. $\\Box$"
     ]
    },
    {
     "cell_type": "markdown",
     "metadata": {},
     "source": [
      "**3.** Let $f_k$ be a sequence of bounded (Riemann) integrable functions defined on $[a,b]$. Suppose $f_k \\to f$ uniformly. Then prove that $f$ is (Riemann) integrable on $[a,b]$, and\n",
      "$$\\int_a^b f_k(x)\\,dx \\to \\int_a^b f(x) \\,dx.$$"
     ]
    },
    {
     "cell_type": "markdown",
     "metadata": {},
     "source": [
      "**Sketch of proof.** First, show that $f$ is continuous on $[a,b] \\backslash E$ with $E$ has measure zero. Use Theorem 3. $\\Box$"
     ]
    },
    {
     "cell_type": "markdown",
     "metadata": {},
     "source": [
      "**4.** Find functions $f_k :[a,b] \\to \\mathbb{R}$ which are integrable and such that $f_k \\to f$ pointwise, but $f$ is not integrable."
     ]
    },
    {
     "cell_type": "markdown",
     "metadata": {},
     "source": [
      "**Sketch of proof.** We may suppose $[a,b] = [0,1]$ for simplicity. Let $f:[0,1]\\to \\mathbb{R}$ be defined by $f(0) = 0$ and $f(x) = 1/x$ for $x\\in (0,1]$. For each $k$, put $f_k:[0,1] \\to \\mathbb{R}$ be defined by $f(x) = k^2x$ for $x\\in [0,1/k)$ and $f(x) =1/x$ for $x\\in [1/k,1]$. $\\Box$"
     ]
    },
    {
     "cell_type": "markdown",
     "metadata": {},
     "source": [
      "**5.** Let $f:\\mathbb{R} \\to \\mathbb{R}$ be continuous and set $F(x) = \\int_0^{x^2} f(y)\\, dy$. Prove $F'(x) = 2xf(x^2)$."
     ]
    },
    {
     "cell_type": "markdown",
     "metadata": {},
     "source": [
      "**Sketch of proof.** Put $G(x) = \\int_0^x f(y)\\,dy$. Use the fundamental theorem of calculus. $\\Box$"
     ]
    },
    {
     "cell_type": "markdown",
     "metadata": {},
     "source": [
      "**6.** Let $f:[0,1] \\to \\mathbb{R}$,\n",
      "$$f(x) = \\begin{cases}\n",
      "0, & \\text{if } x\\in \\mathbb{R}\\backslash \\mathbb{Q},\\\\\n",
      "\\frac{1}{q}, & \\text{if } x = \\frac{p}{q},\n",
      "\\end{cases}$$\n",
      "where $p,q\\ge 0$ with no common factor. Show $f$ is integrable and compute $\\int_0^1 f$."
     ]
    },
    {
     "cell_type": "markdown",
     "metadata": {},
     "source": [
      "**Sketch of proof.** In HW#4, Problem 8.b, we already prove that $f$ is continuous at irrational points and discontinuous at rational points. Apply Theorem 3 to show $f$ is integrable. Then show that $\\int_0^1 f = 0$ (not trivial, by notice that $\\chi_{\\mathbb{Q}\\cap [0,1]}$ is not integrable). One way to show this is to calculate $L(f,P)$ for a partition $P$. $\\Box$"
     ]
    },
    {
     "cell_type": "markdown",
     "metadata": {},
     "source": [
      "**7.** For continuous function $f:\\mathbb{R} \\to \\mathbb{R}$, define $f_n(x) = n\\int_x^{x+1/n}f(\\xi)\\,d\\xi$ for $n=1,2,3,\\ldots$ Show that $df_n(x)/d(x)$ exists even if $df(x)/dx$ does not, and that $f(x) = \\lim_{n\\to \\infty}f_n(x)$, and that convergence to the limit is uniform when $f$ is uniformly continuous."
     ]
    },
    {
     "cell_type": "markdown",
     "metadata": {},
     "source": [
      "**Sketch of proof.** Put $g(x) = \\int_0^x f(\\xi)\\,d\\xi$, then $f_n(x) = n(g(x+1/n)-g(x))$ for all $n$. By mean value theorem, $f_n(x)  =f(c_{x,n})$ for some $c_{x,n}\\in (x, x+1/n)$. When $f$ is uniformly continuous, note that $|c_{x,n} - x| < 1/n$ and $1/n$ does not depend on $x$. $\\Box$"
     ]
    }
   ],
   "metadata": {}
  }
 ]
}