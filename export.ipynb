{
 "cells": [
  {
   "cell_type": "code",
   "execution_count": 3,
   "metadata": {
    "collapsed": true
   },
   "outputs": [],
   "source": [
    "name = 'final'"
   ]
  },
  {
   "cell_type": "code",
   "execution_count": 4,
   "metadata": {
    "collapsed": false
   },
   "outputs": [
    {
     "name": "stdout",
     "output_type": "stream",
     "text": [
      "/home/fehiepsi/Dropbox/D1O2/notebooks/Du/TA\n",
      "[NbConvertApp] Using existing profile dir: '/home/fehiepsi/.ipython/profile_default'\n",
      "[NbConvertApp] Converting notebook final.ipynb to latex\n",
      "[NbConvertApp] Support files will be in final_files/\n",
      "[NbConvertApp] Loaded template custom.tplx\n",
      "[NbConvertApp] Writing 6139 bytes to final.tex\n"
     ]
    }
   ],
   "source": [
    "%cd ~/Dropbox/D1O2/notebooks/Du/TA\n",
    "!/home/fehiepsi/miniconda3/bin/ipython nbconvert --to latex --template custom {name}.ipynb"
   ]
  }
 ],
 "metadata": {
  "kernelspec": {
   "display_name": "Python 3",
   "language": "python",
   "name": "python3"
  },
  "language_info": {
   "codemirror_mode": {
    "name": "ipython",
    "version": 3
   },
   "file_extension": ".py",
   "mimetype": "text/x-python",
   "name": "python",
   "nbconvert_exporter": "python",
   "pygments_lexer": "ipython3",
   "version": "3.4.2"
  }
 },
 "nbformat": 4,
 "nbformat_minor": 0
}
