{
 "metadata": {
  "name": "",
  "signature": "sha256:6a3c712b6f5fcf17f9d7f828ea3bb9544bcc7c722881bfbe1432b48752ac08aa"
 },
 "nbformat": 3,
 "nbformat_minor": 0,
 "worksheets": [
  {
   "cells": [
    {
     "cell_type": "markdown",
     "metadata": {},
     "source": [
      "*Note.* In sketch of HW#7: Exercise 1.a, misplace of $(\\Rightarrow)$ and $(\\Leftarrow)$. Exercise 6.a, logarithm is a concave function. Exercise 7, consider $f: [1,\\infty)\\to [1,\\infty)$ with $f(x) = x + 1/x$."
     ]
    },
    {
     "cell_type": "markdown",
     "metadata": {},
     "source": [
      "## Analysis I - homework - week 8 {-}"
     ]
    },
    {
     "cell_type": "markdown",
     "metadata": {},
     "source": [
      "**1.** Let $f: X\\to \\mathbb{R}$ be a function and define $\\operatorname{supp}(f)$, the support of $f$, as the closure of subset of $X$ where $f$ is non-zero, i.e.;\n",
      "$$ \\operatorname{supp}(f) := \\operatorname{cl}(\\{x\\in X \\mid f(x) \\neq 0\\}).$$\n",
      "\n",
      "Define\n",
      "$$ \\mathcal{C}_0(\\mathbb{R},\\mathbb{R}) := \\{f:\\mathbb{R} \\to \\mathbb{R} \\mid \\operatorname{supp}(f) \\text{ is compact}\\} \\cap \\mathcal{C}(\\mathbb{R},\\mathbb{R}).$$\n",
      "\n",
      "Prove that $\\mathcal{C}_0(\\mathbb{R},\\mathbb{R})$ is algebra.\n",
      "\n",
      "**Sketch of proof.** It is enough to check that if $f,g \\in \\mathcal{C}_0(\\mathbb{R},\\mathbb{R})$, $\\alpha \\in \\mathbb{R}$ then $f+g$, $fg$, $\\alpha f$ in $\\mathcal{C}(\\mathbb{R},\\mathbb{R})$."
     ]
    },
    {
     "cell_type": "markdown",
     "metadata": {},
     "source": [
      "**2.** Let $f$ be a continuous function from $[0,1]$ to $\\mathbb{R}$. \n",
      "$$\\int_0^1 f(x)x^n\\,dx = 0, \\quad \\text{for all } n \\in \\mathbb{N} \\cup \\{0\\},$$\n",
      "then $f(x) = 0$ for all $x\\in [0,1]$.\n",
      "\n",
      "**Sketch of proof.** By assumption, we have\n",
      "$$ \\int_0^1 f(x) p(x) \\,dx = 0,$$\n",
      "for $p$ is any polynomial in $\\mathbb{R}$. Use Stone-Weierstrass theorem to show that\n",
      "$$\\int_0^1 f^2(x) \\,dx = 0.$$"
     ]
    },
    {
     "cell_type": "markdown",
     "metadata": {},
     "source": [
      "**3.** Let $f$ be a continuous function form $[0,1]$ to $\\mathbb{R}$. Prove that if\n",
      "$$\\int_0^1 f(x)e^{nx}\\,dx = 0, \\quad \\text{for all } n \\in \\mathbb{N} \\cup \\{0\\},$$\n",
      "then $f(x) = 0$ for all $x\\in [0,1]$.\n",
      "\n",
      "**Proof.** Similar to Exercise 2, we just need to prove that the set $\\mathcal{B}$ of finite linear combinations of $e^{nx}$ where $n \\in \\mathbb{N} \\cup \\{0\\}$ is dense in $\\mathcal{C}([0,1], \\mathbb{R})$. Use Stone-Weierstrass theorem (Theorem 5.12)."
     ]
    },
    {
     "cell_type": "markdown",
     "metadata": {},
     "source": [
      "**4.** Prove that $f(x) = 1/x$ cannot be approximated uniformly by polynomials on $(0,1)$, i.e., there is no sequence of polynomial $f_n$ such that $f_n \\to f$ uniformly on $(0,1)$.\n",
      "\n",
      "**Sketch of proof.** Every polynomial is bounded on $[0,1]$. If $f$ can be approximated by a polynomial, then $f$ is bounded on $(0,1)$. Get a contradiction from here."
     ]
    },
    {
     "cell_type": "markdown",
     "metadata": {},
     "source": [
      "**5.** Let $f:\\mathbb{R}^2 \\to \\mathbb{R}^2$, $f(x,y) := (x^2,y^2)$. Prove that\n",
      "$$Df(x,y) = \\begin{pmatrix}2x & 0\\\\0 & 2y\\end{pmatrix}$$\n",
      "directly form the definition in the text book.\n",
      "\n",
      "**Sketch of proof.** Use definition."
     ]
    }
   ],
   "metadata": {}
  }
 ]
}