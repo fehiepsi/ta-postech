{
 "cells": [
  {
   "cell_type": "markdown",
   "metadata": {},
   "source": [
    "The scored problems are 7, 9, 11, 16, 17, 19, 23, 25, 26, and the additional problem."
   ]
  },
  {
   "cell_type": "markdown",
   "metadata": {},
   "source": [
    "#### Stein-Shakarchi - section 1.4"
   ]
  },
  {
   "cell_type": "markdown",
   "metadata": {},
   "source": [
    "##### 7.\n",
    "$(a)$ Put $z = re^{it}$ with $r\\ge 0$, $w = w'e^{it}$, then we have $|z|=r$. $|w|=|w'|$, and\n",
    "$$ \\left| \\frac{w'-r}{1-\\overline{w'}r} \\right| = \\left| \\frac{w-z}{1-\\overline{w}z} \\right| .$$\n",
    "\n",
    "So we can assume that $z$ is real. By $|r| \\le 1$ and $|w| \\le 1$, we have\n",
    "$$r^2 + |w|^2 \\le 1 + r^2|w|^2 \\quad \\Leftrightarrow \\quad  (r-w)(r-\\overline{w}) \\le (1-rw)(1-r\\overline{w}).$$\n",
    "\n",
    "The equality happens iff $r=1$ or $|w| = 1$.\n",
    "\n",
    "$(b)$ $(iii)$ and the first claim of $(i)$ are consequences of $(a)$. The second claim of $(ii)$ follows $|1-\\bar{w}z|\\ne 0$ whenever $z,w \\in \\mathbb{D}$. In addition, $(iii)$ is a rountine exercise. For $(iv)$, note that $F\\circ F (z) = z$, hence $F$ is bijection. "
   ]
  },
  {
   "cell_type": "markdown",
   "metadata": {},
   "source": [
    "##### 9.\n",
    "Using chain rule for $u = u(x,y)$, $x = r\\cos \\theta$, and $y= r\\sin \\theta$, the polar coordinate Cauchy-Riemann equations follows from the computation of $\\frac{\\partial u}{\\partial r}$, $\\frac{\\partial v}{\\partial r}$, $\\frac{\\partial u}{\\partial \\theta}$, $\\frac{\\partial u}{\\partial \\theta}$.\n",
    "\n",
    "For the next part, put $u = \\log(r)$, $v=\\theta$, then check the Cauchy-Riemann equations in polar coordinates."
   ]
  },
  {
   "cell_type": "markdown",
   "metadata": {},
   "source": [
    "##### 10.\n",
    "We have\n",
    "$$4\\frac{\\partial}{\\partial z}\\frac{\\partial}{\\partial \\bar{z}}= \\left(\\frac{\\partial}{\\partial x} + \\frac{1}{i}\\frac{\\partial}{\\partial y}\\right) \\left(\\frac{\\partial}{\\partial x} - \\frac{1}{i}\\frac{\\partial}{\\partial y}\\right) = \\frac{\\partial^2}{\\partial x^2} + \\frac{\\partial^2}{\\partial y^2},$$\n",
    "with the condition that $\\frac{\\partial^2}{\\partial x \\partial y}=  \\frac{\\partial^2}{\\partial y\\partial x}$."
   ]
  },
  {
   "cell_type": "markdown",
   "metadata": {},
   "source": [
    "##### 11.\n",
    "By $f$ is holomorphic, we have $\\frac{\\partial f}{\\partial \\bar{z}} = 0$, hence $\\Delta f = 0$ follows from Exercise 10. So $\\Delta u = \\Delta v = 0$."
   ]
  },
  {
   "cell_type": "markdown",
   "metadata": {},
   "source": [
    "##### 12.\n",
    "We have $u = \\sqrt{|x||y|}$, $v = 0$, hence $u_x = u_y = v_x = v_y= 0$. However, we have\n",
    "$$f'(0) = \\lim_{z\\to 0} \\frac{f(z) - f(0)}{z} = \\lim_{x,y \\to 0} \\frac{\\sqrt{|x||y|}}{x + iy},$$\n",
    "which the last limit does not exist (for example, take $x = 1/n, y=0$ and $x = y = 1/n$ to get a contradiction). So $f$ is not holomorphic at $0$."
   ]
  },
  {
   "cell_type": "markdown",
   "metadata": {},
   "source": [
    "##### 16.\n",
    "$(f)$ Using Stirling's formula (see Exercise 16.d), we have\n",
    "$$R = \\lim_{n\\to \\infty} 2(n!(n+r)!)^{1/2n} \\ge 2\\lim_{n\\to\\infty} (c/2)^{1/n}n e^{-1-r/2n}= \\infty.$$"
   ]
  },
  {
   "cell_type": "markdown",
   "metadata": {},
   "source": [
    "##### 17. \n",
    "Suppose $L > 0$. For $\\epsilon \\in ( 0,L)$, there exists $N > 0$ such that $(L- \\epsilon)|a_n|\\le |a_{n+1}| \\le (L+ \\epsilon)|a_n|$ for every $n\\ge N$. For $n > N$, we have\n",
    "$$ (L-\\epsilon)^{n-N}|a_N| \\le |a_n| \\le (L+\\epsilon)^{n-N}|a_N|.$$\n",
    "\n",
    "Hence $\\lim_{n\\to \\infty}|a_n|^{1/n} = L$.\n",
    "\n",
    "The case $L = 0$ can be do similarly."
   ]
  },
  {
   "cell_type": "markdown",
   "metadata": {},
   "source": [
    "##### 19.\n",
    "$(c)$ If $z= 1$, it is clear that the series diverges. Suppose $z \\ne 1$, using Exercise 14.c with $a_n = 1/n$, $b_n = z^n$, we have\n",
    "$$\\begin{aligned}\\left|\\sum_{n=M}^N \\frac{z^n}{n}\\right|&= \\left| z\\frac{z^N-1}{N(z-1)}-z\\frac{z^M-1}{M(z-1)} - \\sum_{n=M}^{N-1} \\left( \\frac{1}{n+1}-\\frac{1}{n}\\right) z\\frac{z^n-1}{z-1}\\right| \\\\&\\le \\frac{2}{N|z-1|} + \\frac{2}{M|z-1|} + \\sum_{n=M}^{N-1} \\left(\\frac{1}{n} -\\frac{1}{n+1}\\right)\\frac{2}{|z-1|}= \\frac{2}{M|z-1|}.\\end{aligned}$$\n",
    "\n",
    "So the summation by parts of the series is a Cauchy sequence, hence the series converges."
   ]
  },
  {
   "cell_type": "markdown",
   "metadata": {},
   "source": [
    "##### 23.\n",
    "\n",
    "By induction, we can show that $f^{(n)+}(0) = \\frac{P(x)}{Q(x)} e^{-1/x^2}$ where $P(x)$ and $Q(x)$ are two polynomials. Then use the fact that $e^{-1/x^2}$ decays faster than any polynomial when $x \\to 0^+$. Finally, if $f$ has a converging power series expansion for $x$ near origin, then $f$ must be $0$ near origin (using the formula $a_n = f^{(n)}(0)/n!$, which is a consequence of taking $n$-th derivative of the power series expansion). We get a contradiction."
   ]
  },
  {
   "cell_type": "markdown",
   "metadata": {},
   "source": [
    "##### 24.\n",
    "Use definition of integral of $f$ along curves $\\gamma$ and $\\gamma^-$ with a note that the reversed-orientation curve $\\gamma^-$ is $z(a+b-t)$."
   ]
  },
  {
   "cell_type": "markdown",
   "metadata": {},
   "source": [
    "##### 25.\n",
    "$(a)\\&(b)$  For $n\\ne -1$, we have\n",
    "$$\\int_{\\gamma}z^n\\,dz = 0.$$\n",
    "\n",
    "Assume $n = -1$. If $\\gamma$ is $C_r(0)$, then\n",
    "$$\\int_{\\gamma}z^n\\,dz = \\int_{0}^{2\\pi}(re^{it})^{-1}rie^{it}\\,dt =2\\pi i. $$\n",
    "\n",
    "Now, we consider $\\gamma$ is $C_r(a)$ with $|a| > r$. Using power series expansion of $1/z$ at $a$, we have\n",
    "$$\\frac{1}{z} = \\frac{1}{a}\\sum_{k=0}^{\\infty} \\left(\\frac{a-z}{a}\\right)^k.$$\n",
    "\n",
    "Note that the series converges uniformly to $1/z$ on a disk $B_s(a)$ for some $s\\in (r,|a|)$. So we can change the order of integration and summation to get\n",
    "$$\\int_{\\gamma}\\frac{1}{z}\\,dz =  \\frac{1}{a} \\sum_{k=0}^{\\infty}\\int_{\\gamma}\\left(\\frac{a-z}{a}\\right)^k\\,dz = 0.$$\n",
    "\n",
    "$(c)$ Let $\\gamma_a$ and $\\gamma_b$ be circles centered at $-a$ and $-b$ with radius $r$. We have\n",
    "$$\\int_{\\gamma}\\frac{1}{(z-a)(z-b)}\\,dz = \\frac{1}{a-b}\\left( \\int_{\\gamma}\\frac{1}{z-a}\\,dz - \\int_{\\gamma}\\frac{1}{z-b}\\,dz \\right) =  \\frac{1}{a-b}\\left( \\int_{\\gamma_a}\\frac{1}{z}\\,dz -  \\int_{\\gamma_b}\\frac{1}{z}\\,dz \\right) = \\frac{2\\pi i}{a-b}. $$ "
   ]
  },
  {
   "cell_type": "markdown",
   "metadata": {},
   "source": [
    "##### 26.\n",
    "If $F$ and $G$ are two primitives of $f$, then $(F-G)'=0$. Then use Corollary 3.4 to get the conclusion."
   ]
  },
  {
   "cell_type": "markdown",
   "metadata": {},
   "source": [
    "#### Additional problem"
   ]
  },
  {
   "cell_type": "markdown",
   "metadata": {},
   "source": [
    "For each $i$, take $x_i \\in \\mathcal{T}_i$. Then using the assumption that $d_{n+1}=2^{-n}d_n$, we have $d_n \\to 0$, hence $\\{x_i\\}$ is a Cauchy sequence. Put $x := \\lim_{i\\to \\infty} x_i$. By $\\mathcal{T}_i$ is closed for each $i$, we can show that $x$ belongs to $\\mathcal{T}_i$ for each $i$, hence $x$ is a required point. (Note that we can also show that such point is unique using the fact that $d_n \\to 0$.)"
   ]
  }
 ],
 "metadata": {
  "anaconda-cloud": {},
  "kernelspec": {
   "display_name": "Python [default]",
   "language": "python",
   "name": "python3"
  },
  "language_info": {
   "codemirror_mode": {
    "name": "ipython",
    "version": 3
   },
   "file_extension": ".py",
   "mimetype": "text/x-python",
   "name": "python",
   "nbconvert_exporter": "python",
   "pygments_lexer": "ipython3",
   "version": "3.5.2"
  }
 },
 "nbformat": 4,
 "nbformat_minor": 0
}
