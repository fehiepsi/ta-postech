{
 "cells": [
  {
   "cell_type": "markdown",
   "metadata": {},
   "source": [
    "#### Stein-Shakarchi - section 2.6"
   ]
  },
  {
   "cell_type": "markdown",
   "metadata": {},
   "source": [
    "##### 1.\n",
    "On the curve $\\gamma_1$ from $0$ to $R$, we have\n",
    "$$ \\int_{\\gamma_1}f(z)\\,dz = \\int_0^R e^{-x^2}\\,dx \\to \\sqrt{\\pi}/2 \\quad \\text{as } R \\to \\infty.$$\n",
    "On the curve $\\gamma_2$ from $R$ to $Re^{i\\pi / 4}$, we have\n",
    "$$ \\left|\\int_{\\gamma_1}f(z)\\,dz\\right| = \\left|\\int_0^{\\pi/4}e^{-R^2 e^{i2\\varphi}}iRe^{i\\varphi}\\,d\\varphi \\right|  \\le \\int_0^{\\pi/4} R e^{-R^2 \\cos(2\\varphi)}\\,d\\varphi. $$\n",
    "Using the fact that $\\cos (2\\varphi) \\ge 1- 4\\varphi / \\pi$, we estimate the right hand side integral, then get the final result converges to $0$ as $R \\to \\infty.$\n",
    "\n",
    "On the curve $\\gamma_3$ from $Re^{i\\pi/4}$ to $0$, we have\n",
    "$$\\int_{\\gamma_1}f(z)\\,dz = - \\int_0^R e^{-r^2i}e^{i\\pi/4} \\,dr = -e^{i\\pi/4} \\int_0^R (cos(r^2) - i\\sin(r^2))\\,dr.$$\n",
    "Put these results together with the Cauchy theorem, we get the conclusion."
   ]
  },
  {
   "cell_type": "markdown",
   "metadata": {},
   "source": [
    "\n",
    "##### 2.\n",
    "By $\\sin(x)/x$ is an even function, $\\cos(x)/x$ is an odd function, we have\n",
    "$$\\int_0^{\\infty} \\frac{\\sin(x)}{x}\\,dx = \\frac{1}{2\\pi} \\int_{-\\infty}^{\\infty}\\frac{e^{ix}-1}{x}\\,dx.$$\n",
    "We integrate $f(z) =( e^{iz}-1)/z$ over the indented semicircle: straight line from $-R$ to $-\\epsilon$, upper-half circle from $-\\epsilon$ to $\\epsilon$, straigth line from $\\epsilon$ to $R$, and upper-half circle from $R$ to $-R$.\n",
    "\n",
    "Similar to exercise 1, we get the final result with the help of the following two facts: $f(z)$ is bounded near $0$ (hence the integral on the curve from $-\\epsilon$ to $\\epsilon$ converges to $0$) and $\\sin(\\varphi) \\ge 2\\varphi /\\pi$ for $\\varphi \\in (0,\\pi/2)$ (hence we can show that the integral on the curve from $R$ to $-R$ converges to $-\\pi /2$)."
   ]
  },
  {
   "cell_type": "markdown",
   "metadata": {},
   "source": [
    "##### 3.\n",
    "Integrate $e^{-Az}$ over the closed curve: straight line from $0$ to $R$, arc (of the circle with center $0$) from $R$ to $Re^{i\\omega}$ with $\\cos \\omega = a/A$, and straight line from $Re^{i\\omega}$ to $0$. Final result is (using $\\cos (\\varphi) \\ge 1 - 2\\varphi / pi$ for $\\varphi \\in (0,\\pi/2)$)\n",
    "$$\\int_0^{\\infty}e^{-ax} \\cos(bx)\\,dx = \\frac{a}{a^2+b^2},$$\n",
    "$$\\int_0^{\\infty}e^{-ax} \\sin(bx)\\,dx = \\frac{b}{a^2+b^2}.$$"
   ]
  },
  {
   "cell_type": "markdown",
   "metadata": {},
   "source": [
    "##### 6.\n",
    "For $\\epsilon >0$ small, take $T_{\\epsilon}$ to be a triangle surrounding $w$ with diameter $\\epsilon$. Joining three vertices of $T$ with three vertices of $T_{\\epsilon}$ corresponding such that there is no intersection, we get three (with disjoint \"interiors\") closed curves. Using Cauchy's theorem on each curve with a suitable orientation, we get\n",
    "$$\\int_T f(z)\\,dz = \\int_{T_{\\epsilon}} f(z)\\,dz.$$\n",
    "By $f$ is bounded, the right hand side converges to $0$ as $\\epsilon \\to 0$. We conclude."
   ]
  },
  {
   "cell_type": "markdown",
   "metadata": {},
   "source": [
    "##### 8.\n",
    "Take $C_x$ to be the circle with center $x$, radius $1/2$. Note that $|z| < |x| + 1$ for all $z$ inside $C_x$. Using Cauchy inequalities, we get\n",
    "$$|f^{(n)}(x)| \\le 2^n n! \\|f \\|_{C_x} \\le 2^n n! A ( 1 + |x| + 1)^{\\eta} \\le 2^{n} n! A\\max\\{1, 2^{\\eta}\\} (1 + |x|)^{\\eta}.$$"
   ]
  },
  {
   "cell_type": "markdown",
   "metadata": {},
   "source": [
    "##### 9. \n",
    "By considering the holomorphic function $\\varphi(z + z_0) - z_0$ from $-z_0 + \\Omega$ to itself, we may assume that $z_0 = 0$.\n",
    "Assume that $\\varphi$ is nonlinear, then there exists $n \\ge 2$ such that the power series of $\\varphi$ at $0$ has the form\n",
    "$$\\varphi(z) = z + a_nz^n + O(z^{n+1}).$$\n",
    "Put $\\varphi_k  = \\varphi \\circ \\cdots \\circ \\varphi$ ($k$ times), then using induction, we can show that the power series of $\\varphi_k$ at $0$ has the form (note that $\\varphi_k$ is holomorphic in $\\Omega$)\n",
    "$$\\varphi_k(x) = z + ka_nz^n + O(z^{n+1}).$$\n",
    "Take $R > 0$ such that $\\bar{D}_R(0) \\subset \\Omega$. Using Cauchy inequalities, we get\n",
    "$$k|a_n| =\\frac{ |\\varphi_k^{(n)}(0)|}{n!} \\le \\frac{\\|\\varphi_k\\|_{\\Omega}}{R^n} \\le \\frac{\\|\\varphi\\|_{\\Omega}}{R^n}.$$\n",
    "Take $k \\to \\infty$, we get $a_n = 0$, a contradiction."
   ]
  },
  {
   "cell_type": "markdown",
   "metadata": {},
   "source": [
    "##### 11.\n",
    "$(a)$ Put $w = R^2/\\bar{z}$, then for $|z| < R$, we have $|w| > R$. Hence $f(\\zeta)/(\\zeta - w)$ is holomorphic on $D_r(0)$ for some $R < r < R_0$. Hence\n",
    "$$0 =  \\frac{1}{2\\pi i}\\int_{C_R}\\frac{f(\\zeta)}{\\zeta - w}\\,d\\zeta =  \\frac{1}{2\\pi i}\\int_0^{2\\pi} f(Re^{i\\varphi})\\frac{Re^{i\\varphi}}{Re^{i\\varphi} - R^2/\\bar{z}}\\,d\\varphi.$$\n",
    "Moreoever, we have\n",
    "$$f(z) = \\frac{1}{2\\pi i}\\int_{C_R}{\\frac{f(\\zeta)}{\\zeta - z}\\,d\\zeta =  \\frac{1}{2\\pi i} \\int_0^{2\\pi} f(Re^{i\\varphi}) \\frac{Re^{i\\varphi}}{Re^{i\\varphi} - z} }\\,d\\varphi.$$\n",
    "Using the fact that\n",
    "$$\n",
    "\\frac{Re^{i\\varphi}}{Re^{i\\varphi} - R^2/\\bar{z}} + \\frac{Re^{i\\varphi}}{Re^{i\\varphi} - z}  = \\mathrm{Re}\\left(\\frac{Re^{i\\varphi} + z}{Re^{i\\varphi} - z}\\right),$$\n",
    "we get the conclusion.\n",
    "\n",
    "$(b)$ This is a routine exercise."
   ]
  },
  {
   "cell_type": "markdown",
   "metadata": {},
   "source": [
    "##### 13.\n",
    "Let $a\\in \\mathbb{C}$. Consider the power series of $f$ at $a$, we have\n",
    "$$\n",
    "f(z) = \\sum\\limits_{n=0}^{\\infty}c_n(z-a)^n.\n",
    "$$\n",
    "By assumption, $c_n = 0$ for some $n\\ge 0$. By $n!c_n = f^{(n)}(a)$, we get $f^{(n)}(a) = 0$ for some $n\\ge 0$. Put\n",
    "$$K = \\{z:f^{(n)}(z) = 0\\text{ for some }n\\ge 0\\}.$$\n",
    "We have $a \\in K$. This is true for every $a\\in \\mathbb{C}$. So $K = \\mathbb{C}$. Moreover, we have\n",
    "$$\n",
    "K = \\bigcup\\limits_{n=0}^{\\infty}\\{z:f^{(n)}(z) = 0\\}.\n",
    "$$\n",
    "If, for all $n$, we do not have $f^{(n)}(z) = 0$ for every $z\\in \\mathbb{C}$, then $\\{z:f^{(n)}(z) = 0\\}$ is a countable set for all $n$. This follows from Theorem 4.8 and the fact that every uncountable set in $\\mathbb{C}$ has a limit point.\n",
    "\n",
    "Hence $K$ is a countable set, which is a contradiction to $K = \\mathbb{C}$. So $f^{(N)} = 0$ for some $N\\geq 0$. Consider the power series of $f$ at $0$, we have\n",
    "$$\n",
    "f(z) = \\sum\\limits_{n=0}^{\\infty}b_n z^n.\n",
    "$$\n",
    "By $f^{(n)}(0)=0$ for all $n\\geq N$, we have $b_n = f^{(n)}(0)/n! = 0$ for all $n\\geq N$. We get the conclusion."
   ]
  },
  {
   "cell_type": "markdown",
   "metadata": {},
   "source": [
    "##### 15.\n",
    "For $|z| \\ge 1$, we define $f(z) = 1/\\overline{f(1/\\bar{z})}$. By $\\bar{\\mathbb{D}}$ compact, we get some $m, M > 0$ such that $m \\le \\|f\\|_{\\bar{\\mathbb{D}}} \\le M$. This extension agrees with $f$ on the unit circle. Moreover, it is holomorphic outside the unit disk (note that $\\overline{f(\\bar{z})}$ is holomorphic on the unit disk $U$ if $f$ is holomorphic on $U$). So we can apply the same argument as in the symmetry principle to get $f$ is an entire function. So the extended version of $f$ is also bounded. By Liouville's theorem, we conclude that $f$ is constant. \n",
    "\n",
    "Note that we can also prove this problem using the maximum modulus principle and the open mapping theorem in Chapter 3."
   ]
  },
  {
   "cell_type": "markdown",
   "metadata": {},
   "source": [
    "#### Additional problem"
   ]
  },
  {
   "cell_type": "markdown",
   "metadata": {},
   "source": [
    "The question $(a)$ and $(b)$ are basic results in Analysis I course. For $(c)$, we have\n",
    "$$\\left| \\int_{\\gamma}h_n\\,dz - \\int_{\\gamma} h\\,dz \\right| \\le \\int_0^1 |\\gamma'(t)| |h_n(\\gamma(t)) - h(\\gamma(t))| \\,dt \\le  \\|h_n - h\\|_{\\Omega} \\int_0^1 |\\gamma'(t) |\\,dt.$$\n",
    "Take $n\\to \\infty$, we get the conclusion."
   ]
  }
 ],
 "metadata": {
  "kernelspec": {
   "display_name": "Python 3",
   "language": "python",
   "name": "python3"
  },
  "language_info": {
   "codemirror_mode": {
    "name": "ipython",
    "version": 3
   },
   "file_extension": ".py",
   "mimetype": "text/x-python",
   "name": "python",
   "nbconvert_exporter": "python",
   "pygments_lexer": "ipython3",
   "version": "3.5.0"
  }
 },
 "nbformat": 4,
 "nbformat_minor": 0
}
