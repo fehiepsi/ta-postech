{
 "metadata": {
  "name": "",
  "signature": "sha256:c15b58ad29640c58075e9be5dac648b06efbbfb1f9722c957050db0d69b0ec8f"
 },
 "nbformat": 3,
 "nbformat_minor": 0,
 "worksheets": [
  {
   "cells": [
    {
     "cell_type": "markdown",
     "metadata": {},
     "source": [
      "**1.** **(10 points)** Let $f_n: [0,1] \\to \\mathbb{R}$ be a sequence of equicontinuous functions such that $f_n(x) \\to f(x)$ for every $x\\in [0,1]$. Prove that $f_n$ converges to $f$ uniformly."
     ]
    },
    {
     "cell_type": "markdown",
     "metadata": {},
     "source": [
      "**Proof.** Fix $\\epsilon > 0$. The equicontinuity implies that there exists $\\delta > 0$ such that for every $n$, for every $x,y\\in [0,1]$ with $|x-y|<\\delta$, we have **(1 point)**\n",
      "$$|f_n (x) - f_n(y)| < \\epsilon /4.$$\n",
      "\n",
      "Cover $[0,1]$ by finite balls $B(x_1,\\delta),\\ldots,B(x_n,\\delta)$ (by using the compactness of $[0,1]$, or just dividing $[0,1]$ into subintervals with length less than $\\delta$). For each $i$ ($1\\le i \\le n$), by $f_n(x_i) \\to f(x_i)$, there exists $N_i$ such that for every $n>N_i$, we have **(3 points)**\n",
      "$$|f_n(x_i) - f(x_i)| < \\epsilon / 4.$$\n",
      "\n",
      "Put $N = \\max\\{N_1,\\ldots,N_n\\}$ and let $m,n > N$. For each $x \\in [0,1]$, then there exists $i$ ($1\\le i \\le n$) such that $x \\in B(x_i,\\delta)$, hence **(3 points)**\n",
      "$$\\begin{aligned}\n",
      "|f_n(x) - f_m(x)| &\\le |f_n(x) - f_n(x_i)| + |f_n(x_i) - f(x_i)| + |f(x_i) - f_m(x_i)| + |f_m(x_i) - f_m(x)| \\\\\n",
      "& <  \\epsilon /4 + \\epsilon /4 + \\epsilon /4 + \\epsilon/4 = \\epsilon.\n",
      "\\end{aligned}$$\n",
      "\n",
      "This is true for all $x\\in [0,1]$, so $\\|f_n - f_m\\| < \\epsilon$ if $m,n > N$. So $\\{f_n\\}$ is a Cauchy sequence in $C([0,1],\\mathbb{R})$. Hence it converges in norm (or uniformly) to a function $g \\in C([0,1],\\mathbb{R})$. By the uniform convergence implies pointwise convergence, we have $f = g$ on $[0,1]$, hence $\\{f_n\\}$ converges to $f$ uniformly. **(3 points)** $\\Box$"
     ]
    },
    {
     "cell_type": "markdown",
     "metadata": {},
     "source": [
      "**2.** **(10 points)** If $f$ is continuous on $[0,1]$ and if\n",
      "$$\\int_0^1 f(x) x^n\\,dx = 0, \\quad n = 0,1,2,3,\\ldots,$$\n",
      "then prove that $f(x) = 0$ on $[0,1]$."
     ]
    },
    {
     "cell_type": "markdown",
     "metadata": {},
     "source": [
      "**Proof.** By assumption, we have\n",
      "$$\\tag{*} \\int_0^1 f(x) p(x) \\,dx = 0,$$\n",
      "for $p$ is any polynomial in $\\mathbb{R}[x]$. **(3 points)**\n",
      "\n",
      "The Stone-Weierstrass theorem says that the set of all polynomial is dense in $C([0,1],\\mathbb{R})$. So there is a sequence of polynomial $\\{p_n\\}$ converges uniformly to $f$ in $[0,1]$. By $f$ is bounded in $[0,1]$, we have $fp_n$ converges uniformly to $f^2$ in $[0,1]$. **(3 points)**\n",
      "\n",
      "So, in $(*)$, replace $p$ by $p_n$ and let $n \\to \\infty$, we have **(3 points)**\n",
      "$$\\int_0^1 f^2(x) \\,dx = 0.$$\n",
      "\n",
      "By Problem 10.ii, this implies that $f(x) = 0$ for all $x\\in [0,1]$. **(1 point)** $\\Box$"
     ]
    },
    {
     "cell_type": "markdown",
     "metadata": {},
     "source": [
      "**5.** **(15 points)**\n",
      "\n",
      "$(i)$ Compute index of the function $x^2 + y^2 \u2212 7x \u2212 8y + xy + 16 + (x \u2212 2)^3$ at its critical point $x = 2$, $y = 3$.\n",
      "\n",
      "$(ii)$ Discuss the nature of the function near this point."
     ]
    },
    {
     "cell_type": "markdown",
     "metadata": {},
     "source": [
      "**Proof.** $(i)$ Put $f(x,y) = x^2 + y^2 \u2212 7x \u2212 8y + xy + 16 + (x \u2212 2)^3$. We have\n",
      "$$\\frac{\\partial f}{\\partial x} = 2x - 7 + y + 3(x-2)^2,\\quad \\frac{\\partial f}{\\partial y} = 2y - 8 + x,$$\n",
      "$$\\frac{\\partial^2 f}{\\partial x^2} = 2 + 6(x-2),\\quad \\frac{\\partial^2 f}{\\partial x\\partial y} =  \\frac{\\partial^2 f}{\\partial y\\partial x} = 1,\\quad \\frac{\\partial^2 f}{\\partial y^2} = 2.$$\n",
      "\n",
      "By $Df(2,3) = 0$, we have $(2,3)$ is a critical point. At $(2,3)$, the Hessian matrix $\\Delta = \\begin{bmatrix}-2 & -1 \\\\ -1 & -2 \\end{bmatrix}$. **(6 points)**\n",
      "\n",
      "By $ -2 < 0$ and $\\det (\\Delta) = 3 > 0$, $\\Delta$ is negative definite, hence the index of $f$ at $(2,3)$ is $0$. **(4 points)**\n",
      "\n",
      "$(ii)$ Apply the Morse Lemma, near $(2,3)$ the function is approximately a paraboloid, has a local minimum at $(2,3)$, and in some new coordinate system it is exactly a paraboloid: $f(u,v) = u^2 + v^2 - 3$. **(5 points)** $\\Box$"
     ]
    },
    {
     "cell_type": "markdown",
     "metadata": {},
     "source": [
      "**7.** **(15 points)** Construct $f_n,f:[0,1] \\to \\mathbb{R}$ such that for all $n$, $f_n(x)$ is discontinuous at all $x\\in [0,1]$, such that $f(x)$ is continuous on $[0,1]$, and such that $f_n \\to f$ uniformly on $[0,1]$."
     ]
    },
    {
     "cell_type": "markdown",
     "metadata": {},
     "source": [
      "**Proof.** Denote by $\\chi_A$ a function with value $1$ on $A$ and value $0$ otherwise. A typical example is $f_n = (1/n)\\chi_{[0,1] \\cap \\mathbb{Q}}$ and $f \\equiv 0$. There are many variants of this example, such as: $f_n(x) = x + (1/n)\\chi_{[0,1] \\cap \\mathbb{Q}}$ and $f(x) = x$; or $f_n(x) = (1/2^n)\\chi_{[0,1] \\cap \\mathbb{Q}}$ and $f \\equiv 0$. **(12 points)**\n",
      "\n",
      "Anyway, you must show the uniform convergence to get a full credit. **(3 points)** $\\Box$"
     ]
    }
   ],
   "metadata": {}
  }
 ]
}