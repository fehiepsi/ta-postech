{
 "metadata": {
  "name": "",
  "signature": "sha256:db16cbe347fe31a75a1a51e80ebc715da05f16261b8d2f1b3047d3e83675bb4b"
 },
 "nbformat": 3,
 "nbformat_minor": 0,
 "worksheets": [
  {
   "cells": [
    {
     "cell_type": "markdown",
     "metadata": {},
     "source": [
      "## Analysis I - homework - week 6 {-}"
     ]
    },
    {
     "cell_type": "markdown",
     "metadata": {},
     "source": [
      "**1.** Let $f_n$ be a function defined on $\\mathbb{R}^n$ to metric space $\\mathbb{R}^n$ and let $f_n$ converges uniformly to $f$. Prove that if\n",
      "$$\n",
      "A_n := \\lim_{t\\to x}f_n(t)\n",
      "$$\n",
      "exists for all $n$, then\n",
      "$$\n",
      "\\lim_{t\\to x}f(t) = \\lim_{n\\to\\infty}A_n.$$\n",
      "\n",
      "In other words,\n",
      "$$ \\lim_{t\\to x}\\lim_{n\\to\\infty} f_n(t) = \\lim_{n\\to \\infty}\\lim_{t\\to x}f_n(t).$$\n",
      "\n",
      "**Sketch of proof.** First, show that $\\{A_n\\}$ is a Cauchy sequence. Then, fix $\\epsilon > 0$. Choose $N\\in\\mathbb{N}$ such that $\\|f_n(y) -f(y)\\| < \\epsilon/3$ for all $y\\in \\mathbb{R}^n$ and for all $n\\ge N$. Then pick $M > N$ such that $\\|A_M - A\\| < \\epsilon/3$. With this $M$, we choose $\\delta > 0$ such that $|f_M(t) - A_M| < \\epsilon/3$ if $\\|t-x\\| < \\delta$. Conclude. $\\Box$"
     ]
    },
    {
     "cell_type": "markdown",
     "metadata": {},
     "source": [
      "**2.** Let $f_n:\\mathbb{R}\\to \\mathbb{R}$ be uniformly continuous and let $f_n$ converge uniformly to $f$. Prove that $f$ is uniformly continuous function.\n",
      "\n",
      "**Sketch of proof.** Using a similar $\\epsilon/3$ trick as Exercise 1. Let $\\epsilon > 0$. There is $N>0$ such that $|f_N(z) - f(z)| < \\epsilon /3$ for all $z\\in \\mathbb{R}$. By the uniform continuity of $f_N$, there exists $\\delta > 0$ such that for all $x,y \\in \\mathbb{R}$, if $|x-y| < \\delta$ then $|f_N(x) - f_N(y)| < \\epsilon /3$ . $\\Box$"
     ]
    },
    {
     "cell_type": "markdown",
     "metadata": {},
     "source": [
      "**3.** Prove that $f(x) = \\sum x^n/n^2$ is continuous on $[0,1]$.\n",
      "\n",
      "**Sketch of proof.** If $g$ is continuous on a compact set $K$, then $g$ is uniformly continuous on $K$. Now, show that each partial sum is continuous and apply Exercise 2. $\\Box$"
     ]
    },
    {
     "cell_type": "markdown",
     "metadata": {},
     "source": [
      "**4.** Suppose $K$ is compact, and\n",
      "\n",
      "$(a)$ $f_n$ is a sequence of continuous functions on $K$,\n",
      "\n",
      "$(b)$ $f_n$ converges pointwise to a continuous function $f$ on $K$,\n",
      "\n",
      "$(c)$ $f_n(x) \\ge f_{n+1}(x)$ for all $x\\in K$, $n=1,2,3,\\ldots$\n",
      "\n",
      "Then $f_n\\to f$ uniformly on $K$.\n",
      "\n",
      "**Sketch of proof.** Let $\\epsilon > 0$. For each $n$, by $f_n - f$ is a continuous function, we have $U_n = \\{x\\mid |f_n(x) - f(x)| <\\epsilon\\}$ is an open set. Show that $\\{U_n\\}$ is an open cover of $K$. Because $K$ is compact, there exists $n_1 < \\ldots < n_k$ such that\n",
      "$$K \\subset U_{n_1} \\cup \\ldots \\cup U_{n_k}.$$\n",
      "\n",
      "Show that $K \\subset U_n$ for $n$ large enough. Then conclude. $\\Box$"
     ]
    },
    {
     "cell_type": "markdown",
     "metadata": {},
     "source": [
      "**5.** Define $\\varphi:\\mathbb{R} \\to \\mathbb{R}$ such that\n",
      "$$\\begin{aligned}\n",
      "&\\varphi(x)= |x| \\qquad (-1<x\\le 1),\\\\\n",
      "&\\varphi(x+2) = \\varphi(x).\n",
      "\\end{aligned}$$\n",
      "\n",
      "Prove that\n",
      "$$ f(x) := \\sum_{n=1}^{\\infty} 2^{-n} \\varphi(4^n x) $$\n",
      "is continuous on $\\mathbb{R}$.\n",
      "\n",
      "**Sketch of proof.** If $\\{f_n\\}$ is a sequence of continuous functions and converges uniformly to $f$, then $f$ is a continuous function. First, show that the definition of $f$ is well-defined (the series converges pointwise). Then show that the series converges uniformly to $f$. $\\Box$"
     ]
    },
    {
     "cell_type": "markdown",
     "metadata": {},
     "source": [
      "**6.** Suppose $f_n \\to f$ uniformly, where $f_n :A\\to \\mathbb{R}$ and $g_n \\to g$ uniformly where $g_n:A\\to \\mathbb{R}$ and there is a constant $M_1$ such that $\\sup_{x\\in A}|f(x)| \\le M_1$ and there is a constant $M_2$ such that $\\sup_{x\\in A}|g(x)| \\le M_2$. Then show that $f_ng_n \\to fg$ uniformly. Find a counterexample if $M_1$ or $M_2$ does not exist.\n",
      "\n",
      "**Sketch of proof.** Counterexample: $f(x)=g(x)=x$, $f_n(x) = g_n(x) = x+1/n$. $\\Box$"
     ]
    },
    {
     "cell_type": "markdown",
     "metadata": {},
     "source": [
      "**7.** Let\n",
      "$$f_n(x) = \\begin{cases}\n",
      "0 &\\text{if } x < \\frac{1}{n+1},\\\\\n",
      "\\sin^2\\frac{\\pi}{x} &\\text{if } \\frac{1}{n+1} \\le x \\le \\frac{1}{n},\\\\\n",
      "0 & \\text{if } \\frac{1}{n} < x.\n",
      "\\end{cases}$$\n",
      "\n",
      "Show that $f_n$ converges to a continuous function, but not uniformly. Use the series $\\sum f_n$ to show that absolute convergence series, even for all $x$, does not imply uniform convergence series.\n",
      "\n",
      "**Sketch of proof.** $\\{f_n\\}$ converges to $0$ pointwise but not uniformly. For the series, note that if the series converges uniformly then the sequence $\\{f_n\\}$ converges uniformly to $0$ (hint: $f_n=s_n-s_{n-1}$, here $s_n$ is a partial sum). Get a contradiction from this. $\\Box$"
     ]
    },
    {
     "cell_type": "markdown",
     "metadata": {},
     "source": [
      "**8.** Prove that if $a_n$ and $b_n$ satisfies the following facts;\n",
      "\n",
      "$(a)$ the partial sums $A_n$ of $\\sum a_n$ form a bounded sequence;\n",
      "\n",
      "$(b)$ $b_0\\ge b_1\\ge b_2\\ge \\ldots$;\n",
      "\n",
      "$(c)$ $\\lim_{n\\to\\infty}b_n = 0$;\n",
      "\n",
      "then $\\sum a_nb_n$ converges.\n",
      "\n",
      "**Sketch of proof.** For each $n$, put $B_n = \\sum_{k=1}^na_kb_k$. For each $m > n$, we have\n",
      "$$\\begin{aligned}\n",
      "|B_m-B_n| &= \\left|\\sum_{k=n+1}^ma_kb_k\\right|\\\\\n",
      "&= \\left| \\sum_{k=n+1}^m (A_k-A_{k-1})b_k\\right|\\\\\n",
      "&= \\left| \\sum_{k=n+1}^m A_kb_k - \\sum_{k=n}^{m-1} A_kb_{k+1}\\right|\\\\\n",
      "&= \\left| \\sum_{k=n+1}^{m-1}A_k(b_k-b_{k+1}) + A_mb_m - A_nb_{n+1}\\right|\\\\\n",
      "&\\le \\sum_{k=n+1}^{m-1} C(b_k- b_{k+1}) + Cb_m + Cb_{n+1} \\\\\n",
      "&\\le 2Cb_{n+1}.\n",
      "\\end{aligned}$$\n",
      "\n",
      "Conclude that $\\{B_n\\}$ is a Cauchy sequence. $\\Box$"
     ]
    },
    {
     "cell_type": "markdown",
     "metadata": {},
     "source": [
      "**9** Let us consider\n",
      "$$\\sum_{n=1}^{\\infty}\\frac{z^n}{n},$$\n",
      "where $z$ is a complex number.\n",
      "\n",
      "$(a)$ Show that for $r < 1$, the series converges uniformly on $[|z|\\le r]$.\n",
      "\n",
      "$(b)$ Show that the series converges to continuous function on $[|z| < 1]$.\n",
      "\n",
      "$(c)$ Show that the series converges if $|z|\\le 1$ except $z=1$.\n",
      "\n",
      "**Sketch of proof.** $(a)$ Using comparison test.\n",
      "\n",
      "$(b)$ Put $f(z) = \\sum z^n/n$. Let $|z| < 1$. Show that $f$ is continuous at $z$ with a note that $z\\in D(0,r)$ for some $r < 1$.\n",
      "\n",
      "$(c)$ Show that the partial sums of $\\sum z^n$ form a bounded sequence. Apply Exercise 8 with $a_n = z^n$ and $b_n = 1/n$. $\\Box$"
     ]
    },
    {
     "cell_type": "markdown",
     "metadata": {},
     "source": [
      "**10.** Give an example that $f_k:[0,\\infty]\\to\\mathbb{R}$ are continuous functions and $f_k \\to f$ uniformly, but\n",
      "$$\n",
      "\\lim_{k\\to\\infty}\\int_0^{\\infty}f_k(x)\\,dx \\ne \\int_0^{\\infty} f(x)\\,dx.\n",
      "$$\n",
      "\n",
      "**Sketch of proof.** Counterexample:\n",
      "$$f_n(x) = \\begin{cases}\n",
      "\\frac{1}{n} &\\text{if }x\\le n,\\\\\n",
      "\\frac{-x}{n} + \\frac{n+1}{n} &\\text{if } n < x < n+1,\\\\\n",
      "0 &\\text{if }x\\ge n+1. \\Box\n",
      "\\end{cases}$$"
     ]
    },
    {
     "cell_type": "markdown",
     "metadata": {},
     "source": [
      "**11.** Find a sequence $f_n:[0,1]\\to \\mathbb{R}$ of differentiable functions such that $f_n \\to 0$ uniformly, but such that $f'_n(1/2)$ does not converge to $0$.\n",
      "\n",
      "**Sketch of proof.** Counterexample: $f_n(x) = \\sin(2n\\pi x)/n$. $\\Box$"
     ]
    }
   ],
   "metadata": {}
  }
 ]
}