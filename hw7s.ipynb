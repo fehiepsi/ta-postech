{
 "metadata": {
  "name": "",
  "signature": "sha256:b2f1d8c9c1f5018b5224f4884339df82f41c6f902ab5779d7d542695b23c02e4"
 },
 "nbformat": 3,
 "nbformat_minor": 0,
 "worksheets": [
  {
   "cells": [
    {
     "cell_type": "markdown",
     "metadata": {},
     "source": [
      "*Note.* In HW#4, Exercise 4.c, the example is $f(x,y) = xy^2/(x^2+y^4)$."
     ]
    },
    {
     "cell_type": "markdown",
     "metadata": {},
     "source": [
      "## Analysis I - homework - week 7 {-}"
     ]
    },
    {
     "cell_type": "markdown",
     "metadata": {},
     "source": [
      "**1.** $(a)$ Prove that if $A\\subset \\mathbb{R}^n$ is compact, $B \\subset\\mathcal{C}(A, \\mathbb{R}^m)$ is compact $\\Leftrightarrow$ $B$ is closed, bounded, and equicontinuous.\n",
      "\n",
      "$(b)$ Let $D = \\{f \\in\\mathcal{C}([0,1], \\mathbb{R}) \\mid \\|f\\|\\le 1\\}$. Show $D$ is closed and bounded, but is not compact.\n",
      "\n",
      "**Sketch of proof.** $(a)$ For the $(\\Rightarrow)$ side, each sequence in $B$ has a subsequence converges uniformly to a function $f$. Because $B$ is closed, $f\\in B$. For the $(\\Leftarrow)$ side, clearly $B$ is closed and bounded. To show the equicontinuousness, use $\\epsilon/3$ trick. First, fix $x\\in A$. For $\\epsilon >0$, $B \\subset D(f_1,\\epsilon/3)\\cup \\ldots \\cup D(f_n,\\epsilon/3)$ for some $f_1,\\ldots,f_n$ (look at Exercise 3 for a similar argument).\n",
      "\n",
      "$(b)$ To show $D$ is not compact, let $f_n(x) = x^n$, then $\\{f_n\\}$ cannot have a subsequence converges (on the contrary, the limit of that subsequence is continuous, but the limit must be $g$ with $g(x) = 1$ if $x =1$ and $g(x)=0$ if $x < 1$)."
     ]
    },
    {
     "cell_type": "markdown",
     "metadata": {},
     "source": [
      "**2.** Suppose $f:\\mathbb{R}\\to\\mathbb{R}$ is continuous and $f(1) = 7$. Suppose $f(x)$ is rational for all $x$. Prove $f$ is constant.\n",
      "\n",
      "**Sketch of proof.** If $f(x) < 7$ and $x < 1$, then $f([x,1])$ is connected. So $[f(x) , 7] \\subset f([x,1])$."
     ]
    },
    {
     "cell_type": "markdown",
     "metadata": {},
     "source": [
      "**3.** Let $\\{f_n\\}$ be a uniform convergent sequence of uniform continuous functions. Prove that $\\{f_n\\}$ is equicontinuous.\n",
      "\n",
      "**Sketch of proof.** In HW#6, Exercise 2, we now that $f_n$ converges to a (uniformly) continuous function $f$. Fix a point $a \\in X$. Using $\\epsilon/3$ trick again, for $\\epsilon > 0$, there exists $N$ such that $d(f_n(x),f(x)) < \\epsilon/3$ for all $x\\in X$, for all $n > N$. Choose $\\delta > 0$ such that $d(f(x),f(a)) < \\epsilon /3$ if $d(x,a) < \\delta$. Show that $d(f_n(x),f(a)) < \\epsilon$ for all $n > N$ and for all $x \\in D(a,\\delta)$. To conclude, note that $\\{f_1,f_2,...,f_N\\}$ is a finite set, so this set is always equicontinuous. Note that the assumption that $f_n$ is uniform continuous is not necessary, continuous is enough."
     ]
    },
    {
     "cell_type": "markdown",
     "metadata": {},
     "source": [
      "**4.** Let $f:\\mathbb{R}\\to\\mathbb{R}$ be a uniform limit of polynomials. Prove that $f$ is a polynomial.\n",
      "\n",
      "**Sketch of proof.** Let $\\{p_n\\}$ be a sequence of polynomials which converges to $f$. First show that if $(p_n - p_m)$ is a polynomial and bounded, then it is constant. So there exists $N$ such that $a_n = p_n - p_N$ is constant for all $n > N$. By the uniform convergence of $\\{p_n\\}$, $a_n$ converges to some point $a\\in \\mathbb{R}$. Show that $f = a + p_N$. "
     ]
    },
    {
     "cell_type": "markdown",
     "metadata": {},
     "source": [
      "**5.** Prove that if\n",
      "\n",
      "$(a)$ $f_n$, $g(x)$ continuous, $0 \\le x < \\infty$,\n",
      "\n",
      "$(b)$ $|f_n| < g(x)$, $n = 1,2,\\ldots$, $0 \\le x < \\infty$,\n",
      "\n",
      "$(c)$ $f_n(x) \\to f(x)$ uniformly, $0 \\le x \\le R$, for any $R < \\infty$,\n",
      "\n",
      "$(d)$ $\\int_0^{\\infty}g(x)\\,dx < \\infty$,\n",
      "\n",
      "then\n",
      "$$\\lim_{n\\to\\infty}\\int_0^{\\infty}f_n(x)\\,dx= \\int_0^{\\infty}f(x)\\,dx.$$"
     ]
    },
    {
     "cell_type": "markdown",
     "metadata": {},
     "source": [
      "**Sketch of proof.** Using $\\epsilon/3$ trick, let $\\epsilon > 0$. There is $R>0$ such that $\\int_R^{\\infty} g(x)\\,dx < \\epsilon/3$. We have $f_n(x) \\to f(x)$ uniformly on $[0,R]$, so there exists $N$ such that $\\int_0^R|f_n(x) - f(x)| < \\epsilon/3$ if $n > N$. Note that $|f(x)| \\le g(x)$ for all $x\\in [0,\\infty)$, so $\\int_R^{\\infty} f_n(x)\\,dx < \\epsilon/3$ and $\\int_R^{\\infty} f(x)\\,dx < \\epsilon/3$."
     ]
    },
    {
     "cell_type": "markdown",
     "metadata": {},
     "source": [
      "**6.** $(a)$ *Young's inequality:* Let $p>1$ with $1/p+1/q=1$. For $a,b,t>0$, prove that\n",
      "$$ab\\le \\frac{a^pt^p}{p}+\\frac{b^qt^{-q}}{q}$$\n",
      "and that $ab$ is the minimum value of the right side.\n",
      "\n",
      "$(b)$ *Holder's inequality:* Let $a_k,b_k\\ge 0$ and $p > 1$, and $1/p + 1/q = 1$. Prove that\n",
      "$$\\sum_1^n a_kb_k\\le \\left(\\sum_1^n a_k^p\\right)^{1/p} \\left(\\sum_1^n b_k^q\\right)^{1/q}.$$\n",
      "\n",
      "$(c)$ *Minkowski's inequality:* Let $a_k,b_k\\ge 0$ and $p > 1$. Prove that\n",
      "$$\\left(\\sum_1^n (a_k+b_k)^p\\right)^{1/p}\\le \\left(\\sum_1^n a_k^p\\right)^{1/p} + \\left(\\sum_1^n b_k^p\\right)^{1/p}.$$\n",
      "\n",
      "**Sketch of proof.** $(a)$ Put $c=at$, $d=bt^{-1}$, we want to prove that\n",
      "$$ cd \\le \\frac{c^p}{p} + \\frac{d^q}{q}.$$\n",
      "\n",
      "To prove, let logarithm of two sides and note that $\\ln(x)$ is a convex function: $\\ln(\\lambda x + (1-\\lambda)y)\\le \\lambda\\ln(x)+(1-\\lambda)\\ln(y)$ (the second derivative of $\\ln(x)$ on $(0,\\infty)$ is negative). The equal happens when $c^p = d^q$.\n",
      "\n",
      "$(b)$ Excluding the trivial cases, put $c_k = a_k/\\left(\\sum_1^n a_k^p\\right)^{1/p}$, $d_k = b_k/\\left(\\sum_1^n b_k^q\\right)^{1/q}$. Then $\\sum c_k^p = \\sum d_k^q = 1$. Apply $(a)$.\n",
      "\n",
      "$(c)$ We have\n",
      "$$\\sum(a_k+b_k)^p = \\sum(a_k+b_k)^{p-1}a_k + \\sum(a_k+b_k)^{p-1}b_k,$$\n",
      "and\n",
      "$$ \\sum(a_k+b_k)^{p-1}a_k \\le \\left(\\sum (a_k+b_k)^{(p-1)q}\\right)^{1/q}(\\sum a_k^p)^{1/p},$$\n",
      "\n",
      "$$\\sum(a_k+b_k)^{p-1}b_k \\le \\left(\\sum (a_k+b_k)^{(p-1)q}\\right)^{1/q}(\\sum b_k^p)^{1/p}.$$"
     ]
    },
    {
     "cell_type": "markdown",
     "metadata": {},
     "source": [
      "**7.** Let $f:X\\to X$ be a continuous function, where $X$ is a complete metric space (such as $\\mathbb{R}$) satisfying $d(f(x), f(y)) < d(x, y)$ for all $x, y\\in X$. Must $f$ have a fixed point? Discuss. What if $X$ is compact?\n",
      "\n",
      "**Sketch of proof.** Consider $f: (0,\\infty)\\to (0,\\infty)$ with $x\\mapsto x/2$. If $X$ is compact, consider the function $\\varphi : X\\to\\mathbb{R}$ with $x\\mapsto d(f(x),x)$. Show that $\\varphi(X)$ is compact and has the infimum $0$. Conclude that there exists $x$ such that $\\varphi(x) = 0$."
     ]
    },
    {
     "cell_type": "markdown",
     "metadata": {},
     "source": [
      "**8.** $(a)$ Define $I : \\mathcal{C}([0,1], \\mathbb{R}) \\to \\mathbb{R}$ as follow:\n",
      "\n",
      "$$I(f) =\\int_0^1 f(x)\\,dx.$$\n",
      "\n",
      "Prove that I is continuous.\n",
      "\n",
      "$(b)$ Show that\n",
      "\n",
      "$$\\left\\{ f\\in\\mathcal{C}([0,1], \\mathbb{R}) \\mid \\int_0^1 f(x) \\, dx \\in (0,3)\\right\\} $$\n",
      "is open.\n",
      "\n",
      "**Sketch of proof.** $(a)$ $|(f) - I(g)| \\le d(f,g)$.\n",
      "\n",
      "$(b)$ Consequence of $(a)$."
     ]
    },
    {
     "cell_type": "markdown",
     "metadata": {},
     "source": [
      "**9.** Let $f_n:[a,b]\\to \\mathbb{R}$ be uniformly bounded continuous functions. Set\n",
      "$$F_n(x) = \\int_0^x f_n(t)\\,dt,\\qquad a\\le x \\le b.$$\n",
      "\n",
      "Prove $F_n$ has a uniformly convergent subsequence.\n",
      "\n",
      "**Sketch of proof.** First, using the uniformly boundedness of $f_n$ to show that $\\{F_n\\}$ is bounded and equicontinuous. Then apply Arzela-Ascoli's theorem."
     ]
    },
    {
     "cell_type": "markdown",
     "metadata": {},
     "source": [
      "**10.** Let $T : \\mathcal{C}_b([0, r], \\mathbb{R}) \\to \\mathcal{C}_b([0, r], \\mathbb{R})$ be defined by\n",
      "$$ T(f)(x) = \\alpha f(x) +\\int_0^x k(x,y)f(y)\\,dy,$$\n",
      "where $\\alpha$ is constant and $k : [0, r]^2 \\to\\mathbb{R}$ is a continuous function. Prove that if\n",
      "$$ |\\alpha|+\\sup_{x\\in [ 0, r]}\\int_0^x |k(x,y)|\\,dy = \\lambda < 1,$$\n",
      "then $T$ is a contraction.\n",
      "\n",
      "**Sketch of proof.** We have, for each $x$,\n",
      "$$\\| T(f)(x)-T(g)(x)\\| \\le |\\alpha| \\|f-g\\| + \\int_0^x|k(x,y)|\\|f-g\\|\\,dy \\le \\lambda \\|f-g\\|.$$"
     ]
    }
   ],
   "metadata": {}
  }
 ]
}