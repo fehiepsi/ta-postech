{
 "cells": [
  {
   "cell_type": "markdown",
   "metadata": {},
   "source": [
    "#### Stein-Shakarchi - section 4.4"
   ]
  },
  {
   "cell_type": "markdown",
   "metadata": {},
   "source": [
    "##### 3.\n",
    "For the first part, by the change of varible from $x\\mapsto -x$, we can assume that $\\xi \\ge 0$. Consider the contour $\\gamma_R$: straight line from $R$ to $-R$ and lower-half circle from $-R$ to $R$. Then use residue formula with the simple pole $z = -ai$.\n",
    "\n",
    "For the second part, divide the interval $(-\\infty,\\infty)$ into $(-\\infty,0)$ and $(0,\\infty)$ to get rid of the absolute sign of $\\xi$. Then do a rountine caculus."
   ]
  },
  {
   "cell_type": "markdown",
   "metadata": {},
   "source": [
    "##### 4.\n",
    "Check the midterm exam solution."
   ]
  },
  {
   "cell_type": "markdown",
   "metadata": {},
   "source": [
    "##### 6.\n",
    "For the first part, use Poisson summation formula together with the result of Exercise 3. You should check that $\\frac{a}{a^2+z^2} \\in \\mathscr{F}$.\n",
    "\n",
    "For the second part, by $a > 0$, we have $e^{-2\\pi a } < 1$. Hence\n",
    "$$\n",
    "\\sum_{n=-\\infty}^{\\infty}e^{-2\\pi a |n|} = 2\\sum_{n=0}^{\\infty} e^{-2\\pi a n} -1 = \\frac{2}{1-e^{-2\\pi a}} -1 = \\text{coth}\\,\\pi a.\n",
    "$$"
   ]
  },
  {
   "cell_type": "markdown",
   "metadata": {},
   "source": [
    "##### 7.\n",
    "$(a)$ It is enough to show that\n",
    "$$\\int_{-\\infty}^{\\infty} \\frac{e^{-2\\pi i x \\xi}}{(\\tau + x)^k} \\,dx = \n",
    "\\begin{cases}\n",
    "\\frac{(-2\\pi i)^k}{(k-1)!}\\xi^{k-1}e^{2\\pi i \\xi \\tau} & \\text{if } \\xi > 0,\\\\\n",
    "0 & \\text{if } \\xi \\le 0.\n",
    "\\end{cases}$$\n",
    "To show the above identity, use contour integration. When $\\xi \\le 0$, consider the contour $\\gamma_R$: straight line for $-R$ to $R$ and upper-half circle from $R$ to $-R$. Notice that there is no pole in this case. When $\\xi > 0$, consider the contour as in Exercise 3, then the assumption $\\text{Im}\\,\\tau > 0$ makes sure that there exists a pole of order $k$ at $z = -\\tau$ inside $\\gamma_R$ for $R$ large enough. Use residue formula to conclude.\n",
    "\n",
    "$(b)$ For $|z| < 1$, consider the Taylor expansion of $1/(1-z)$. Note that the Taylor expansion of first derivative has the same radius of convergence. Hence we get\n",
    "$$\n",
    "\\sum_{m=1}^{\\infty}mz^{m-1} = \\frac{-z}{(1-z)^2}.\n",
    "$$\n",
    "Apply the above identity to our problem, we have (note that $\\text{Im}\\,\\tau > 0$ implies $|e^{2\\pi i \\tau}| < 1$)\n",
    "$$\\sum_{n=-\\infty}^{\\infty}\\frac{1}{(\\tau + n)^2}=(-2\\pi i)^2 \\sum_{m=1}^{\\infty} m e^{2\\pi i m \\tau} = -4\\pi^2 \\frac{-e^{2\\pi i \\tau}}{(1-e^{2\\pi i \\tau})^2} = \\frac{\\pi^2}{\\sin^2(\\pi \\tau)}. $$"
   ]
  },
  {
   "cell_type": "markdown",
   "metadata": {},
   "source": [
    "#### Stein-Shakarchi - section 5.6"
   ]
  },
  {
   "cell_type": "markdown",
   "metadata": {},
   "source": [
    "##### 2.\n",
    "$(c)$ The order of growth of $f$ is $\\infty$. For $x\\in \\mathbb{R}$, we have $f(x)= e^{e^{x}}$, which cannot have a finite order of growth because $e^x$ grows much faster than any polynomial when $x\\to \\infty$."
   ]
  },
  {
   "cell_type": "markdown",
   "metadata": {},
   "source": [
    "##### 6.\n",
    "Recall that\n",
    "$$\\frac{\\sin \\pi z}{\\pi} = z\\prod_{n=1}^{\\infty}\\left(1-\\frac{z^2}{n^2}\\right).$$\n",
    "\n",
    "Replace $z = 1/2$ and take the reciprocal of two sides."
   ]
  },
  {
   "cell_type": "markdown",
   "metadata": {},
   "source": [
    "##### 7.\n",
    "$(a)$ First, we should note that $\\prod_{n=1}^{\\infty} p_n$ converges if and only if $\\sum_{n=1}^{\\infty}\\log p_n$ converges (try to prove this for complex version!). Notice: $\\log (ab)$ is different to $\\log(a) + \\log(b)$ (depends on which branch we are working on)!\n",
    "\n",
    "Suppose that $\\sum|a_n|^2$ converges and $a_n \\ne -1$. We may assume more that $|a_n| < 1/2$ for all $n$. Then\n",
    "$$|\\log(1+a_n) - a_n|  =\\left| - \\frac{a_n^2}{2} + \\frac{a_n^3}{3} - \\cdots \\right| \\le C |a_n^2|$$\n",
    "for some constant $C >0$ due to $|a_n| < 1/2$. Use the above note, we conclude.\n",
    "\n",
    "$(b)$ Let $a_n = \\frac{1}{\\sqrt{n}}$ if $n$ odd and $a_n = \\frac{-1}{\\sqrt{n-1}}$ if $n$ even.\n",
    "\n",
    "$(c)$ Let $a_1 = -1$, $a_n = 1$ for  all $n\\ge 2$."
   ]
  },
  {
   "cell_type": "markdown",
   "metadata": {},
   "source": [
    "##### 8.\n",
    "For $\\sin z \\ne 0$, we have\n",
    "$$\n",
    "\\prod_{k=1}^{n}\\cos(z/2^k) = \\frac{1}{2^n\\sin(z/2^n)} \\sin z = \\frac{z/2^n}{\\sin(z/2^n)} \\frac{\\sin z}{z} \\to \\frac{\\sin z}{z}.\n",
    "$$\n",
    "\n",
    "For $\\sin z = 0$, we have $z = k \\pi$ for some $k \\in \\mathbb{Z}$. Write $k = 2^{m}p$, for $p$ odd. Then $\\cos (z/2^{m+1}) =\\cos( p\\pi/2) = 0$. Hence LHS = RHS = 0."
   ]
  },
  {
   "cell_type": "markdown",
   "metadata": {},
   "source": [
    "##### 9.\n",
    "This is a rountine exercise. Note that\n",
    "$$\n",
    "(1-z)\\prod_{k=0}^{n}(1+z^{2^k}) = 1 - z^{2^{n+1}}.\n",
    "$$"
   ]
  },
  {
   "cell_type": "markdown",
   "metadata": {},
   "source": [
    "#### Additional problem\n",
    "Suppose not, then there exists $R > 0$ such that for every $r > R$, there exits $z_r \\in C_r(0)$ with $f(z_r) = 0$. So $f$ has infinite number of zeroes in the compact set $\\{R \\le z \\le R+1\\}$. This implies zeroes of $f$ has a limit point, hence $f\\equiv 0$, a contradiction to $f(0) \\ne 0$."
   ]
  }
 ],
 "metadata": {
  "kernelspec": {
   "display_name": "Python 3",
   "language": "python",
   "name": "python3"
  },
  "language_info": {
   "codemirror_mode": {
    "name": "ipython",
    "version": 3
   },
   "file_extension": ".py",
   "mimetype": "text/x-python",
   "name": "python",
   "nbconvert_exporter": "python",
   "pygments_lexer": "ipython3",
   "version": "3.5.0"
  }
 },
 "nbformat": 4,
 "nbformat_minor": 0
}
