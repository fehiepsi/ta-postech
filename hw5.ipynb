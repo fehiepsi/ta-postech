{
 "metadata": {
  "name": "",
  "signature": "sha256:b13e772e9c1f67c3dfb40826a8b46eb53254c9ba424a90a6fce2b4528c00085c"
 },
 "nbformat": 3,
 "nbformat_minor": 0,
 "worksheets": [
  {
   "cells": [
    {
     "cell_type": "markdown",
     "metadata": {},
     "source": [
      "## Analysis I - homework - week 5 {-}"
     ]
    },
    {
     "cell_type": "markdown",
     "metadata": {},
     "source": [
      "$\\newcommand{\\cl}{\\operatorname{cl}}$\n",
      "**1.** $(a)$ Show that a Lipschitz map is uniformly continuous.\n",
      "\n",
      "$(b)$ Find a bounded continuous function $f:\\mathbb{R}\\to \\mathbb{R}$ which is not uniformly continuous.\n",
      "\n",
      "$(c)$ Is the sum (product) of two Lipschitz continuous functions again Lipschitz continuous?\n",
      "\n",
      "$(d)$ Is the sum (product) of two uniformly continuous functions agian uniformly continuous?\n",
      "\n",
      "**Proof.** $(a)$ Suppose $f:A\\subset \\mathbb{R}^n \\to \\mathbb{R}^m$ is a Lipschitz map with constant $L$. If $L = 0$, then $\\|f(x) - f(y)\\| = 0$ for all $x,y \\in A$. So $f$ is a constant function, hence is uniformly continuous. Now, suppose $L > 0$. For $\\epsilon > 0$, we put $\\delta = \\epsilon /L$. Then for all $\\epsilon > 0$, if $\\|x - y\\| < \\delta$, then $\\|f(x) -f(y)\\|\\le L \\|x-y\\| < L\\epsilon/L = \\epsilon$. So $f$ is uniformly continuous.\n",
      "\n",
      "$(b)$ See Exercise 7.\n",
      "\n",
      "$(c)$ This question is already answered in HW#4. For the sum, yes. For the product, no.\n",
      "\n",
      "$(d)$ $(sum)$ Yes. We may use $\\epsilon-\\delta$ argument to solve this problem. However, here we will use Exercise 4.a. Suppose $f,g:A\\subset \\mathbb{R}^n \\to \\mathbb{R}^m$ are two uniformly continuous functions. Let $\\{x_n\\}$, $\\{y_n\\}$ be two sequences in $A$ such that $(x_n-y_n) \\to 0$ as $n\\to \\infty$. By $f,g$ are uniformly continuous, we have $(f(x_n) -f(y_n)) \\to 0$ and $(g(x_n)-g(y_n)) \\to 0$ as $n\\to \\infty$. So $((f+g)(x_n) - (f+g)(y_n)) \\to 0$ as $n\\to\\infty$. This shows that $f+g$ is also uniformly continuous.\n",
      "\n",
      "$(product)$ No. For example, let $f,g:\\mathbb{R}\\to \\mathbb{R}$ defined by $f(x) = x$, $g(x) = \\sin(x)$. Clearly $f$ is uniformly continuous. Similar to Exercise 6.b, we have the function $g(x)=\\sin(x)$ is also uniformly continuous. But their product $(fg)(x) = x\\sin(x)$ is not uniformly continuous (see Exercise 6.d). $\\Box$"
     ]
    },
    {
     "cell_type": "markdown",
     "metadata": {},
     "source": [
      "**2.** Given that temperature on the surface of the earth is a continuous function, prove that on any great circle of the earth there are two antipodal points with the same temperature.\n",
      "\n",
      "**Proof.** Let $T$ be the temperature function restricted to a given great circle. We may consider $T$ as a continuous function from $[0,2\\pi]$ to $\\mathbb{R}$ with $T(0) = T(2\\pi)$. Let $f:[\\pi ,2\\pi]\\to\\mathbb{R}$ defined by $f(x) = T(x) - T(x-\\pi)$. Then we have $f$ is continuous, $f(\\pi) = T(\\pi) - T(0)$, and $f(2\\pi) = T(2\\pi) -T(\\pi) = T(0) - T(\\pi) = -f(\\pi)$. Without loss of generation, we may suppose that $f(\\pi) \\le 0$, hence $f(2\\pi) \\ge 0$. Because $f$ is continuous and $[\\pi, 2\\pi]$ is connected, we have $f([\\pi,2\\pi])$ is connected. So $[f(\\pi),f(2\\pi)]\\subset f([\\pi,2\\pi])$. In particular, by $0 \\in [f(\\pi),f(2\\pi)]$, there exists $a\\in [\\pi,2\\pi]$ such that $f(a) = 0$. This means that $T(a) = T(a-\\pi)$. The pair $a$, $a-\\pi$ corresponds to two antipodal points in this given circle, and they have the same temperature. $\\Box$"
     ]
    },
    {
     "cell_type": "markdown",
     "metadata": {},
     "source": [
      "**3.** Let $f:[0,1]\\to [0,1]$ be a continuous function. Prove that there exists a point $x\\in [0,1]$ such that $f(x) = x$.\n",
      "\n",
      "**Proof.** Let $A = \\{x\\in [0,1] \\mid f(x) \\ge x\\}$ and let $a = \\sup A$. By definition of supremum, there is a sequence $\\{x_n\\}\\subset A$ converging to $a$. By the continuity of $f$, we have $f(x_n)\\to f(a)$ as $n\\to \\infty$. By $f(x_n) \\ge x_n$ for all $n$, we have $f(a) \\ge a$.\n",
      "\n",
      "If $a = 1$, then by $f(1) \\le 1$, we get $f(1) = 1$ and $1$ is the point we want. In the case $a < 1$, we note that $f(x) < x$ for all $x > a$. Let $\\{x_n\\}\\subset [0,1]$ be a decreasing sequence which converges to $a$. By the same argument as above, we can show that $f(a) \\le a$. In conclusion, we have $f(a) = a$. $\\Box$"
     ]
    },
    {
     "cell_type": "markdown",
     "metadata": {},
     "source": [
      "**4.** Let $f:A\\subset \\mathbb{R}^n\\to \\mathbb{R}^m$.\n",
      "\n",
      "$(a)$ Prove $f$ is uniformly continuous on $A$ if and only if for every pair of sequences $x_k$, $y_k$ of $A$ such that $(x_k-y_k) \\to 0$, we have $f(x_k)-f(y_k)\\to 0$.\n",
      "\n",
      "$(b)$ Let $f$ be uniformly continuous, and $x_k$ be a Cauchy sequence of $A$. Show that $f(x_k)$ is a Cauchy sequence.\n",
      "\n",
      "$(c)$ Let $f$ be uniformly continuous. Show $f$ has a unique extension to a continuous function on $\\bar{A} = \\cl(A)$.\n",
      "\n",
      "**Proof.** $(a)$ Suppose that $f$ is uniformly continuous and let $\\{x_k\\}$, $\\{y_k\\}$ be two sequences in $A$ such that $(x_k - y_k) \\to 0$. Let $\\epsilon > 0$. By the uniform continuity of $f$, there exists $\\delta > 0$ such that $\\|f(x) - f(y)\\| < \\epsilon$ if $|x-y|< \\delta$. Let $N\\in \\mathbb{N}$ such that $\\|x_k - y_k\\| < \\delta$ for all $k > N$. Then we have $\\|f(x_k) -f(y_k)\\| < \\epsilon$ for all $k > N$. So $(f(x_k) - f(y_k)) \\to 0$ as $k\\to \\infty$.\n",
      "\n",
      "For the reverse side, suppose on the contrary that $f$ is not uniformly continuous on $A$. So there exists $\\epsilon > 0$ such that for each $\\delta > 0$, there exists $x(\\delta), y(\\delta)$ such that $\\|x(\\delta)- y(\\delta)\\|< \\delta$ and $\\|f(x(\\delta)) -f(y(\\delta))\\| \\ge \\epsilon$. For each $k$, let $x_k = x(1/k)$ and $y_k = y(1/k)$, then we have $\\|x_k - y_k\\| < 1/k$, which implies that $(x_k - y_k) \\to 0$ as $k\\to \\infty$. By $\\|f(x_k) -f(y_k)\\| \\ge \\epsilon$ for all $k$, it cannot happen that $f(x_k)-f(y_k) \\to 0$ as $k\\to \\infty$. We conclude.\n",
      "\n",
      "$(b)$ Let $\\epsilon > 0$. By the uniform continuity of $f$, there exists $\\delta > 0$ such that $\\|f(x) - f(y)\\| < \\epsilon$ if $\\|x-y\\| < \\delta$. Because $\\{x_k\\}$ is a Cauchy sequence, there is $N \\in \\mathbb{N}$ such that $\\|x_m - x_n\\| < \\delta$ for all $m,n \\ge N$. So we have $\\|f(x_m)-f(x_n)\\| < \\epsilon$ for all $m,n \\ge N$. This means that $\\{f(x_k)\\}$ is a Cauchy sequence.\n",
      "\n",
      "$(c)$ Suppose that $g,h$ be two continuous function on $\\bar{A}$ such that $g(x) = h(x) = f(x)$ for all $x\\in A$. Let $x\\in \\bar{A}$, there exists a sequence $\\{x_n\\}\\subset A$ such that $x_n\\to x$ as $n\\to\\infty$. In particular, we have $\\{x_n\\}$ is a Cauchy sequence in $A$, so $\\{f(x_n)\\}$ is a Cauchy sequence in $\\mathbb{R}^m$ (by $(b)$). Due to the completeness of $\\mathbb{R}^m$, $\\{f(x_n)\\}$ converges to a point $y \\in \\mathbb{R}^m$. Note that $g(x_n) = f(x_n)$ for all $n$, hence $g(x_n) \\to y$ as $n\\to \\infty$. By the continuity of $g$, we have $g(x_n)\\to g(x)$ as $n\\to \\infty$. So $g(x) = y$. Similarly, $h(x) = y = g(x)$. This is true for all $x\\in \\bar{A}$, so the continuous extension of $f$ to $\\bar{A}$ (if has) is unique. \n",
      "\n",
      "For the existence, let $\\bar{f}$ be the extension of $f$ on $\\bar{A}$ defined by $\\bar{f}(x) =\\lim_{n\\to \\infty}f(x_n)$ with $\\{x_n\\} \\subset A$ and $x_n \\to x$. If $\\{y_n\\} \\subset A$ and $y_n\\to x$, then $\\lim_{n\\to\\infty} (x_n -y_n) = 0$, hence $\\lim_{n\\to\\infty}(f(x_n)-f(y_n)) = 0$, hence $\\lim_{n\\to \\infty}f(x_n) = \\lim_{n\\to \\infty}f(y_n)$. So $\\bar{f}$ is well-defined.\n",
      "\n",
      "Now the remaining thing is to show that $\\bar{f}$ is continuous on $\\bar{A}$. Suppose on the contrary that $\\bar{f}$ is not continuous at $x\\in \\bar{A}$. Then there exists $\\epsilon > 0$ such that for all $n$, there exists $x_n\\in\\bar{A}$ statisfying $\\|x_n-x\\| < 1/n$ and $\\|\\bar{f}(x_n) - \\bar{f}(x)\\| \\ge \\epsilon$. The way we define $\\bar{f}$ suggests that for each $n$, there exists $y_n\\in A$ such that $\\|y_n - x_n\\| < 1/n$ and $\\|f(y_n) - \\bar{f}(x_n)\\| < \\epsilon/2$. So we have $\\|y_n - x\\| < 2/n$ and $\\|f(y_n)-\\bar{f}(x)\\| > \\epsilon/2$. We get a sequence $\\{y_n\\}\\subset A$, $y_n \\to x$, but $\\{f(y_n)\\}$ does not converge to $\\bar{f}(x)$. This is a contradiction. $\\Box$"
     ]
    },
    {
     "cell_type": "markdown",
     "metadata": {},
     "source": [
      "**5.** If $A,B\\subset \\mathbb{R}^n$, define $A+B$ to be the set of all sums $x+y$ with $x\\in A$, $y\\in B$. If $A$ and $B$ are compact, prove that $A + B$ is compact.\n",
      "\n",
      "**Proof.** Let $\\{x_n+y_n\\}$ be a sequence in $A+B$ with $x_n \\in A$, $y_n \\in B$ for all $n$. By the compactness of $A$, there exists a subsequence $\\{x_{n_k}\\}$ of $\\{x_n\\}$ which converges to $a \\in A$. By the compactness of $B$, there exists a subsequence $\\{y_{n_{k_t}}\\}$ of $\\{y_{n_k}\\}$ which converges to $b\\in B$. So we have $x_{n_{k_t}}+ y_{n_{k_t}} \\to a + b$ as $t\\to \\infty$, which means that the sequence $\\{x_n+y_n\\}$ has a subsequence converges to $a+b \\in A +B$. In conclusion, we have $A+B$ compact. $\\Box$"
     ]
    },
    {
     "cell_type": "markdown",
     "metadata": {},
     "source": [
      "**6.** Which of the following functions on $\\mathbb{R}$ are uniformly continuous?\n",
      "\n",
      "$(a)$ $f(x) := \\frac{1}{x^2 +1}$,\n",
      "\n",
      "$(b)$ $f(x) := \\cos(x)$,\n",
      "\n",
      "$(c)$ $f(x) := \\frac{x^2}{x^2+2}$,\n",
      "\n",
      "$(d)$ $f(x) := x\\sin(x)$.\n",
      "\n",
      "**Proof.** $(a)$ This function is Lipschitz continuous, so it is uniformly continuous. Indeed, we have\n",
      "$$\\begin{aligned}\n",
      "|f(x) - f(y)| &= \\left|\\frac{1}{x^2+1}- \\frac{1}{y^2+1}\\right| \\\\\n",
      "& = |x-y|\\frac{|x+y|}{(x^2+1)(y^2+1)} \\\\\n",
      "&\\le |x-y| \\frac{|x+y|}{\\sqrt{(x^2+1)(y^2+1)}} \\\\\n",
      "&\\le |x-y| \\frac{\\sqrt{2(x^2+y^2)}}{\\sqrt{x^2 + y^2+1}} \\\\\n",
      "& \\le \\sqrt{2}|x-y|.\n",
      "\\end{aligned}\n",
      "$$\n",
      "\n",
      "$(b)$ This function is Lipschitz continuous, so it is uniformly continuous. Indeed, we have\n",
      "$$\\begin{aligned}\n",
      "|f(x) - f(y)| &= |\\cos(x) - \\cos(y)|\\\\\n",
      "&= 2\\left|\\sin\\left(\\frac{x+y}{2}\\right)\\right|\\left|\\sin\\left(\\frac{x-y}{2}\\right)\\right| \\\\\n",
      "&\\le 2\\left|\\sin\\left(\\frac{x-y}{2}\\right)\\right| \\\\\n",
      "&\\le 2\\frac{|x-y|}{2}\\\\\n",
      "&= |x-y|.\n",
      "\\end{aligned}\n",
      "$$\n",
      "\n",
      "$(c)$ By $\\frac{x^2}{x^2+2} = 1- \\frac{2}{x^2+2}$, this function is similar to the function in $(a)$. With a similar argument, we can show that $f$ is Lipschitz, hence $f$ is uniformly continuous.\n",
      "\n",
      "$(d)$ This function is not uniformly continuous. Indeed, for each $k\\in \\mathbb{N}$, let $n_k$ large enough such that\n",
      "$$\n",
      "\\left(2n_k\\pi + \\frac{1}{k}\\right) \\sin\\left(\\frac{1}{k}\\right) \\ge 1,\n",
      "$$\n",
      "and put $x_k = 2n_k\\pi + \\frac{1}{k}$ and $y_k = 2n_k\\pi$. Then $(x_k - y_k) \\to 0$ as $k\\to \\infty$. However, for each $k$, we have $f(y_k) = 0$ and\n",
      "$$f(x_k) = x_k\\sin(x_k) = \\left(2n_k\\pi + \\frac{1}{k}\\right) \\sin\\left(2n_k\\pi + \\frac{1}{k}\\right) \\ge 1.$$\n",
      "\n",
      "So we don't have that $(f(x_k)- f(y_k)) \\to 0$ as $k\\to \\infty$. By Exercise 4.a, this function is not uniformly continuous. $\\Box$"
     ]
    },
    {
     "cell_type": "markdown",
     "metadata": {},
     "source": [
      "**7.** Let $f:(0,1)\\to \\mathbb{R}$ be a continuous function. Prove or disprove: If $f$ is bounded, then $f$ is uniformly continuous.\n",
      "\n",
      "**Proof.** Disprove. For example, let $f$ defined by $f(x) = \\sin(1/x)$. Clearly $f$ is bounded. Suppose on the contrary that $f$ is uniformly continuous. By Exercise 4, we have $\\{f(x_n)\\}$ is a Cauchy sequence for all Cauchy sequence $\\{x_n\\}$ in  $(0,1)$. Now, let $x_n = 1/(\\pi n + \\pi/2)$, then $f(x_n) = 1$ if $n$ is even and $f(x_n) = -1$ if $n$ is odd. So $\\{f(x_n)\\}$ cannot be a Cauchy sequence. We get a contradiction. $\\Box$"
     ]
    },
    {
     "cell_type": "markdown",
     "metadata": {},
     "source": [
      "**8.** Give an example that $f:\\mathbb{R}^n \\to \\mathbb{R}^m$ is continuous function and $V$ is a closed subset of $\\mathbb{R}^n$, but $f(V)$ is not closed subset of $\\mathbb{R}^m$.\n",
      "\n",
      "**Proof.** Let $f: \\mathbb{R} \\to \\mathbb{R} $ defined by $f(x) = 1$ if $x \\ge 1$ and $f(x) = 1/x$ if $x > 1$. Let $V = [1,\\infty)$, which is a closed subset of $\\mathbb{R}$. Here, we have $f$ is continuous and $f(V) = (0,1]$, which is not closed in $\\mathbb{R}$. $\\Box$"
     ]
    },
    {
     "cell_type": "markdown",
     "metadata": {},
     "source": [
      "**9.** If $f$ is a continuous mapping of a metric space $X$ into a metric space $Y$, prove that\n",
      "$$ f(\\cl(E)) \\subset \\cl(f(E))$$\n",
      "for every set $E\\subset X$. Show, by an example, that $f(\\cl(E))$ can be a proper subset of $\\cl(f(E))$; that is, $f(\\cl(E)) \\ne \\cl(f(E))$.\n",
      "\n",
      "**Proof.** By $\\cl(f(E))$ is a closed subset of $Y$, we have $f^{-1}(\\cl(f(E)))$ is closed in $X$. Clearly we have \n",
      "$$E\\subset f^{-1}(f(E))\\subset f^{-1}(\\cl(f(E))).$$\n",
      "\n",
      "So $\\cl(E) \\subset f^{-1}(\\cl(f(E)))$, which implies that $f(\\cl(E)) \\subset \\cl(f(E))$.\n",
      "\n",
      "The inclusion can be proper by the following example: Let $f:\\mathbb{R}\\to \\mathbb{R}$ defined by $f(x) = 1$ if $x\\ge 1$ and $f(x) = 1/x$ if $x > 1$. Let $E = \\mathbb{R}$, then \n",
      "$$f(E)= f(\\cl(E)) = f(\\mathbb{R}) = (0,1]$$\n",
      "but $\\cl(f(E)) = [0,1]$. $\\Box$"
     ]
    },
    {
     "cell_type": "markdown",
     "metadata": {},
     "source": [
      "**10.** If $E$ is a nonempty subset of a metric space $X$, define the distance from $x\\in X$ to $E$ by\n",
      "$$ \\rho_E(x) := \\inf_{z\\in E} d(x,z)$$\n",
      "where, $d(x,z)$ is a distance from $x$ to $z$.\n",
      "\n",
      "$(a)$ Prove that $\\rho_E(x) = 0$ if and only if $x\\in\\cl (E)$.\n",
      "\n",
      "$(b)$ Prove that $\\rho_E$ is a uniformly continuous function on $X$.\n",
      "\n",
      "**Proof.** $(a)$ Suppose that $\\rho_E(x) = 0$. Then by definition of infimum, there exists a sequence $\\{z_n\\} \\subset E$ such that $d(x,z_n) \\to \\rho_E(x) = 0$ as $n\\to\\infty$. So $z_n \\to x$ as $n\\to \\infty$, which means that $x \\in \\cl(E)$.\n",
      "\n",
      "For the reverse side, suppose that $x\\in \\cl(E)$. There is a sequence $\\{z_n\\}\\subset E$ converging to $x$. So $d(x,z_n) \\to 0$ as $n \\to \\infty$. For all $\\epsilon >0$, there exists $n$ such that $d(x,z_n) < \\epsilon$. So $\\inf_{z\\in E} d(x,z) = 0$, which means that $\\rho_E(x) = 0$.\n",
      "\n",
      "$(b)$ For $x,y\\in X$ and for all $z\\in E$, we have\n",
      "$$\\rho_E(x) \\le d(x,z) \\le d(x,y) + d(y,z).$$\n",
      "\n",
      "By $\\rho_E(x) \\le d(x,y) + d(y,z)$ is true for all $z\\in E$, we have\n",
      "$$\\rho_E(x) \\le d(x,y) + \\rho_E(y).$$\n",
      "\n",
      "In other words,\n",
      "$$\\rho_E(x) - \\rho_E(y) \\le d(x,y).$$\n",
      "\n",
      "Similarly, we have \n",
      "$$\\rho_E(y) - \\rho_E(x) \\le d(y,x)=d(x,y).$$\n",
      "\n",
      "So\n",
      "$$|\\rho_E(x) - \\rho_E(y)| \\le d(x,y)$$\n",
      "for all $x,y\\in X$.\n",
      "\n",
      "Now, apply Exercise 4.a, if $\\{x_n\\}$, $\\{y_n\\}$ are two sequences in $X$ such that $d(x_n,y_n) \\to 0$, then by \n",
      "$$ |\\rho_E(x_n) - \\rho_E(y_n)| \\le d(x_n,y_n) $$\n",
      "for all $n$, we have $\\rho_E(x_n) - \\rho_E(y_n) \\to 0$ as $n\\to \\infty$. So $f$ is uniformly continuous. $\\Box$\n",
      "\n",
      "*Note.* In Exercise 4.a, we don't use any other properties of $A\\subset \\mathbb{R}^n$ but it is a metric space (and replace $(x-y)$ and $\\|x-y\\|$ by $d(x,y)$). Here $\\rho_E$ is a function from the metric space $X$ to $\\mathbb{R}$."
     ]
    }
   ],
   "metadata": {}
  }
 ]
}