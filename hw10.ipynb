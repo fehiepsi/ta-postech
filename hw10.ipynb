{
 "metadata": {
  "name": "",
  "signature": "sha256:46060eae3e551375771440f54dfcc6ff07139772ac31474a21499191fe6dbcc8"
 },
 "nbformat": 3,
 "nbformat_minor": 0,
 "worksheets": [
  {
   "cells": [
    {
     "cell_type": "markdown",
     "metadata": {},
     "source": [
      "## Analysis I - homework - week 10 {-}"
     ]
    },
    {
     "cell_type": "markdown",
     "metadata": {},
     "source": [
      "**1.** Determine whether the \"curve\" described by the equation $x^2 + y + \\sin(xy) = 0$ can be written in the form $y = f (x)$ in a neighborhood of $(0, 0)$."
     ]
    },
    {
     "cell_type": "markdown",
     "metadata": {},
     "source": [
      "**Proof.** Put $F(x,y) = x^2 + y + \\sin(xy)$. We have $\\left|\\frac{\\partial F}{\\partial y} (0,0)\\right| = 1$. By the Implicit Function Theorem, we can write $F(x,y) = 0$ by $y = f(x)$ in a neighborhood of $(0,0)$ for some $f$. $\\Box$"
     ]
    },
    {
     "cell_type": "markdown",
     "metadata": {},
     "source": [
      "**2.** Show that the implicit function theorem implies the inverse function theorem."
     ]
    },
    {
     "cell_type": "markdown",
     "metadata": {},
     "source": [
      "**Proof.** Let $A \\subset \\mathbb{R}^n$ be an open set and let $f: A\\subset \\mathbb{R}^n \\to \\mathbb{R}^n$ be of class $C^1$. Let $x_0\\in A$ and suppose $Jf(x_0) \\ne 0$. Suppose the Implicit Function Theorem, we are going to prove that there is a neighborhood $U$ of $x_0$ in $A$ and an open neighborhood $W$ of $f(x_0)$ such that $f(U) = W$ and $f$ has a $C^1$ inverse $f^{-1}: W \\to U$. Moreover, for $y \\in W$, $x = f^{-1}(y)$, we have\n",
      "$$Df^{-1}(y) = [Df(x)]^{-1},$$\n",
      "and if $f$ is of class $C^{p}$, $p \\ge 1$, then so is $f^{-1}$.\n",
      "\n",
      "Let $F: \\mathbb{R}^n \\times A \\to \\mathbb{R}^n$ be defined by $F(y,x) = f(x) - y$. First, we have $F(f(x_0),x_0) = 0$. It is also plain to see that $\\frac{\\partial F}{\\partial x}(y,x) = Df (x)$ for all $(y,x) \\in \\mathbb{R}^n \\times A$. So if $Jf(x_0) \\ne 0$, then $\\det \\left(\\frac{\\partial F}{\\partial x}(f(x_0),x_0)\\right) \\ne 0$. Now, we can apply Implicit Function Theorem to conclude that there exists an open neighborhood $W$ of $f(x_0)$, an open neighborhood $U\\subset A$ of $x_0$, and an unique function $g:W \\to U$ such that $F(y,g(y)) = 0$ for all $y \\in W$. So $f(g(y)) = y$ for all $y \\in W$. Hence $f$ is surjective from $U$ onto $W$. It remains to show that $f$ is one-to-one on $U$. Indeed, suppose $y_0 = f(x_1) = f(x_2)$. Define the functions $g_1$, $g_2$ from $W$ to $U$ by $g_1(y) = g_2(y) = g(y)$ if $y\\ne y_0$ and $g_1(y_0) = x_1$, $g_2(y_0) = x_2$. We have $F(y,g_1(y)) = F(y,g_2(y) = 0$ for all $y \\in W$. By the uniqueness of $g$, $x_1 = x_2$. So we can conclude $f$ is one-to-one, onto, and $f^{-1}(y) = g(y)$ on $W$.\n",
      "\n",
      "Moreover, by Implicit Function Theorem (Corollary 1 in the textbook) and $\\frac{\\partial F}{\\partial y}(y,x) = -I_n$, if $x=f^{-1}(y)$, then\n",
      "$$Df^{-1}(y) = Dg(y) = -\\left[\\frac{\\partial F}{\\partial x}(y,g(y))\\right]^{-1} \\frac{\\partial F}{\\partial y}(y,g(y)) = [Df(g(y))]^{-1} = [Df(x)]^{-1}.$$\n",
      "\n",
      "Finally, if $f$ is of class $C^{p}$, then $F$ is of class $C^p$, hence $g$ is of class $C^{p}$ (by Implicit Function Theorem). $\\Box$"
     ]
    },
    {
     "cell_type": "markdown",
     "metadata": {},
     "source": [
      "**3.** Is it possible to solve\n",
      "$$\\begin{aligned}\n",
      "xy^2 + xzu + yv^2 &= 3 \\\\\n",
      "u^3yz + 2xv \u2212 u^2 v^2 &= 2\n",
      "\\end{aligned}$$\n",
      "for $u(x,y,z)$, $v(x,y,z)$ near $(x,y,z) = (1,1,1)$, $(u,v) = (1,1)$? Compute $\\partial v/\\partial y$."
     ]
    },
    {
     "cell_type": "markdown",
     "metadata": {},
     "source": [
      "**Proof.** Put $F_1(x,y,z,u,v) = xy^2 + xzu + yv^2 - 3$, $F_2(x,y,z,u,v) = u^3yz +2xv - u^2v^2 - 2$, and $F = (F_1, F_2)$. We have $F(1,1,1,1,1) = 0$ and\n",
      "$$\\frac{\\partial F_1}{\\partial u}(x,y,z,u,v) = xz, \\quad \\frac{\\partial F_1}{\\partial v}(x,y,z,u,v) = 2yv,$$\n",
      "$$\\frac{\\partial F_2}{\\partial u}(x,y,z,u,v) = 3yzu^2 - 2uv^2, \\quad \\frac{\\partial F_1}{\\partial v}(x,y,z,u,v) = 2x - 2u^2v,$$\n",
      "hence\n",
      "$$\\frac{\\partial F_1}{\\partial u}(1,1,1,1,1) = 1, \\quad \\frac{\\partial F_1}{\\partial v}(1,1,1,1,1) = 2,$$\n",
      "$$\\frac{\\partial F_2}{\\partial u}(1,1,1,1,1) = 1, \\quad \\frac{\\partial F_1}{\\partial v}(1,1,1,1,1) = 0.$$\n",
      "\n",
      "By $1.0 - 2.1 = -2 \\ne 0$, we can apply the Implicit Function Theorem to solve $F = 0$ for $u(x,y,z)$, $v(x,y,z)$ near $(x,y,z) = (1,1,1)$, $(u,v) = (1,1)$. \n",
      "\n",
      "Now, by the implicit function theorem, we have\n",
      "$$\n",
      "\\begin{aligned}\n",
      "\\frac{\\partial (u, v)}{\\partial (x,y,z)} &= -\\left[\\frac{\\partial F}{\\partial (u, v)}\\right]^{-1}\\frac{\\partial F}{\\partial (x,y,z)}\\\\\n",
      "&= \\frac{-1}{xz(2x - 2u^2v) + 2yv(2uv^2 - 3yzu^2)}\n",
      "\\begin{bmatrix}\n",
      "(2x - 2u^2v) & -2yv \\\\\n",
      "(2uv^2-3yzu^2) & xz\n",
      "\\end{bmatrix}\\frac{\\partial F}{\\partial (x,y,z)}.\n",
      "\\end{aligned}$$\n",
      "  \n",
      "Hence, by $\\partial F_1/\\partial y = 2xy + 2yv$ and $\\partial F_2/\\partial y = u^3z$, we have\n",
      " $$\n",
      " \\begin{aligned}\n",
      "\\frac{\\partial v}{\\partial y} &= \\frac{-1}{xz(2x - 2u^2v) + 2yv(2uv^2 - 3yzu^2)}\n",
      "\\begin{bmatrix}\n",
      "(2uv^2-3yzu^2) & xz\n",
      "\\end{bmatrix}\n",
      "\\begin{bmatrix}\n",
      "2xy + v^2 \\\\\n",
      "u^3z\n",
      "\\end{bmatrix}\\\\\n",
      "&= \\frac{(3yzu^2 - 2uv^2)(2xy + v^2) - xz^2u^3}{xz(2x - 2u^2v) + 2yv(2uv^2 - 3yzu^2)}. \\Box\n",
      "\\end{aligned}$$"
     ]
    },
    {
     "cell_type": "markdown",
     "metadata": {},
     "source": [
      "**4.** Define the function $F : \\mathbb{R}^3 \\to \\mathbb{R}$ as follows:\n",
      "$$F (x, y, z) = x^3 z^2 \u2212 z^3 yx.$$\n",
      "\n",
      "Explain why there is no neighborhoods $U$ of $(0, 0)$ and $V$ of $0$ such that there exists an one-to-one function $z = g(x, y)$ defined for $(x, y) \\in U$ and $z \\in V$ and satisfying $F (x, y, g(x, y)) = 0$."
     ]
    },
    {
     "cell_type": "markdown",
     "metadata": {},
     "source": [
      "**Proof.** Suppose on the contrary that there exist such $U$, $V$, and $g$. Notice that no matter how small $U$ is, there exist $x_1\\neq x_2$ both nonzero so that $(x_1, 0)$ and  $(x_2, 0)$ are in $U$. Put $z_1 = g(x_1, 0)$, $z_2 = g(x_2, 0)$. From the injectivity of $g$, we have $z_1 \\ne z_2$  and from $F(x_1,0,z_1)= F(x_2,0,z_2)= 0$, we have $x_1^3z_1^2 = x_2^3z_2^2 = 0$. Since $x_1$ and $x_2$ are non-zero, we have $z_1=z_2$, a contradiction. $\\Box$"
     ]
    },
    {
     "cell_type": "markdown",
     "metadata": {},
     "source": [
      "**5.** Let $F : \\mathbb{R}^n \\to \\mathbb{R}^n$ be a continuously differentiable function. Prove or disprove: If $DF (x)$ is invertible for every $x \\in \\mathbb{R}^n$ . Then there exists $G : F (\\mathbb{R}^n ) \\to \\mathbb{R}^n$ such that $G (F(x)) = x$."
     ]
    },
    {
     "cell_type": "markdown",
     "metadata": {},
     "source": [
      "**Proof.** Disprove. Let $F: \\mathbb{R}^2 \\to \\mathbb{R}^2$ be defined by $F(x,y) = (e^x\\cos y, e^x \\sin y)$. Then $\\det(F(x,y)) = e^x \\ne 0$ for all $(x,y) \\in \\mathbb{R}^2$. So $DF(x)$ is invertible for every $(x,y) \\in \\mathbb{R}^2$. By $F(0, 0) = F(0,2\\pi)=(1,0)$, $F$ is not one-to-one, hence there doesn't exist such $G$. $\\Box$"
     ]
    },
    {
     "cell_type": "markdown",
     "metadata": {},
     "source": [
      "**6.** Let $f$ be a continuously differentiable mapping of an open set $E \\subset \\mathbb{R}^n$ into $\\mathbb{R}^n$. Prove that if $Df (x)$ is invertible for every $x\\in E$, then $f (W )$ is an open subset of $\\mathbb{R}^n$ for any open set $W \\subset E$. In other words, $f$ is an open mapping of $E$ into $\\mathbb{R}^n$."
     ]
    },
    {
     "cell_type": "markdown",
     "metadata": {},
     "source": [
      "**Proof.** Suppose $Df(x)$ is invertible for every $x\\in E$, then $Jf(x) \\ne 0$ for every $x\\in E$. Let $W$ be an open subset of $E$ and let $y_0 \\in f(W)$, hence there is $x_0 \\in W$ such that $y_0 = f(x_0) \\in f(W)$. By the Inverse Function Theorem, there is a neighborhood $U_0$ of $x_0$ in $W$ such that $f(U_0)$ is open in $\\mathbb{R}^n$. By $y_0 \\in f(U_0) \\subset f(W)$ and this is true for all $y \\in f(W)$, we conclude that $f(W)$ is open. $\\Box$"
     ]
    },
    {
     "cell_type": "markdown",
     "metadata": {},
     "source": [
      "**7.** $(a)$ Let $f : \\mathbb{R}^2 \\to \\mathbb{R}^2$ be smooth and suppose that (*Cauchy-Riemann Equations*)\n",
      "$$ \\frac{\\partial f_1}{\\partial x} =  \\frac{\\partial f_2}{\\partial y},\\quad  \\frac{\\partial f_1}{\\partial y}=- \\frac{\\partial f_2}{\\partial x}.$$\n",
      "\n",
      "Show that $Jf (x, y) = 0$ iff $Df (x, y) = 0$; hence $f$ is locally invertible iff $Df (x, y) \\neq 0$. Prove that the inverse function also satisfies the Cauchy-Riemann equations.\n",
      "\n",
      "$(b)$ Show that the conclusion of $(a)$ is false (by giving an example) if $f$ does not satisfy the Cauchy-Riemann equations."
     ]
    },
    {
     "cell_type": "markdown",
     "metadata": {},
     "source": [
      "**Proof.** $(a)$ If $Df(x,y) = 0$, then trivially $Jf(x,y) = 0$. Reversely, if $Jf(x,y) = 0$, then by the Cauchy-Riemann equations,\n",
      "$$Jf(x,y) = \\left[\\frac{\\partial f_1}{\\partial x}(x,y)\\right]^2 +  \\left[\\frac{\\partial f_1}{\\partial y}(x,y)\\right]^2 = 0$$\n",
      "implies $\\frac{\\partial f_1}{\\partial x}(x,y)=0$ and $\\frac{\\partial f_1}{\\partial y}(x,y)=0$. Hence again, by the Cauchy-Riemann equations, we conclude that $Df(x,y) = 0$.\n",
      "\n",
      "Now, if $Df (x, y) \\neq 0$, then $Jf(x,y) \\ne 0$, hence by the inverse mapping theorem, $f$ is locally invertible. Conversely, suppose $f$ is locally invertible. Then from the definition of local invertibility, $g=f^{-1}$ is differentiable, and by the chain rule, $Dg(f(x,y)) \\circ Df(x,y) = D(g\\circ f)(x,y) = D(\\operatorname{Id})(x,y) \\ne 0$ implies $Df(x,y) \\ne 0$.\n",
      "\n",
      "Now, we prove that $g$ satisfies the Cauchy-Riemann equations. By Inverse Function Theorem, we have $Dg(z, t) = [Df(g(z, t))]^{-1}$. Now the right-hand side is of the form $\\begin{bmatrix}a & b \\\\ -b & a\\end{bmatrix}^{-1}$, and hence equals to $\\frac{1}{a^2+b^2}\\begin{bmatrix}a & -b \\\\ b & a\\end{bmatrix}$, which is again of the desired form.\n",
      "\n",
      "$(b)$ Let $f(x,y) = (x^2,y)$. Then we have $Df(x,y) = \\begin{bmatrix}2x & 0 \\\\ 0 & 1\\end{bmatrix}$ and $Jf(x,y) = 2x$. So $Jf(0,1) = 0$ but $Df(0,1) \\ne 0$. $\\Box$"
     ]
    }
   ],
   "metadata": {}
  }
 ]
}