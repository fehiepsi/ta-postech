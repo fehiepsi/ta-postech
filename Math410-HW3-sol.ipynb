{
 "cells": [
  {
   "cell_type": "markdown",
   "metadata": {},
   "source": [
    "#### Stein-Shakarchi - section 3.8"
   ]
  },
  {
   "cell_type": "markdown",
   "metadata": {},
   "source": [
    "##### 3.\n",
    "Considering the function $f(z) = e^{iz}/(z^2 + a^2)$, its value on the real line will be $\\cos(x)/(x^2+a^2)$ for $z = x \\in \\mathbb{R}$. Take the integral of $f(z)$ over the contour $\\gamma$: straight line from $-R$ to $R$ and upper-half circle from $R$ to $-R$, where $R > a$. Inside $\\gamma$, $f$ has a simple pole at $z=ai$. We have\n",
    "$$\\text{res}_{ai} f = \\frac{e^{-a}}{2ai}.$$\n",
    "Using the residue formula, we get the conclusion after taking the limit $R \\to \\infty$."
   ]
  },
  {
   "cell_type": "markdown",
   "metadata": {},
   "source": [
    "##### 5.\n",
    "Let $f(z) = e^{-2\\pi i z \\zeta}/(1+z^2)^2$. We consider two cases: $\\zeta \\ge 0$ and $\\zeta < 0$. For $\\zeta \\ge 0$, take the integral of $f(z)$ over the contour $\\gamma$: straight line from $R$ to $-R$ and lower-half circle from $-R$ to $R$, where $R > 1$. Inside $\\gamma$, $f$ has a pole of order 2 at $z = -i$. We have\n",
    "$$\\text{res}_{-i} f = \\frac{1}{4} i e^{-2\\pi \\zeta}(2\\pi \\zeta + 1).$$\n",
    "Using the residue formula, we get the conclusion after taking the limit $R \\to \\infty$ (note that on the lower-half cirle, we have $|e^{-2\\pi i z \\zeta}| = e^{2\\pi y \\zeta} \\le 1$ due to $\\zeta \\ge 0$ and $y \\le 0$).\n",
    "\n",
    "For $\\zeta < 0$, taking the integral of $f(z)$ over the contour $\\gamma$: straight line from $-R$ to $R$ and upper-half circle from $R$ to $-R$, where $R > 1$, we get a similar result."
   ]
  },
  {
   "cell_type": "markdown",
   "metadata": {},
   "source": [
    "##### 8.\n",
    "Consider the function $f(z) = -2i /(bz^2 + 2az + b)$. Due to $a > |b|$, $f$ has a simple  pole at $z = (-a +\\sqrt{a^2 - b^2})/b =: z_0$ inside the unit circle. Therefore,\n",
    "$$\\int_0^{2\\pi}\\frac{d\\theta}{a + b\\cos \\theta} = \\int_{|z| = 1}f(z) \\,dz = 2\\pi i \\text{res}_{z_0}f = \\frac{2\\pi}{\\sqrt{a^2 -b^2}}.$$"
   ]
  },
  {
   "cell_type": "markdown",
   "metadata": {},
   "source": [
    "##### 9.\n",
    "We can use contour integral as suggested in the hint. Or we can use the following argument. Put (note that we should consider $\\epsilon$ here due to the blow up of $|\\log(\\sin \\pi x)|$ at $0$ and $1$; the following argument should be thought as a way to show that $\\log(\\sin \\pi x)$ is integrable from $0$ to $1$)\n",
    "$$\\begin{aligned}\n",
    "I_{\\epsilon} &= \\int_{\\epsilon}^{1- \\epsilon} \\log(\\sin \\pi x) \\,dx = \\int_{\\epsilon}^{1-\\epsilon} \\log(2\\sin \\frac{\\pi x}{2} \\cos \\frac{\\pi x}{2}) \\,dx \\\\\n",
    "&= (1-2\\epsilon)\\log 2 + \\int_{\\epsilon}^{1- \\epsilon}\\log(\\sin \\frac{\\pi x}{2}) \\,dx+\\int_{\\epsilon}^{1- \\epsilon}\\log (\\cos \\frac{\\pi x}{2})\\,dx\\\\\n",
    "&= (1-2\\epsilon)\\log 2 + 2\\int_{\\epsilon}^{1- \\epsilon}\\log(\\sin \\frac{\\pi x}{2}) \\,dx .\n",
    "\\end{aligned}$$\n",
    "Note that\n",
    "$$\\int_{\\epsilon}^{1- \\epsilon}\\log(\\sin \\frac{\\pi x}{2}) \\,dx = 2\\int_{\\epsilon/2}^{(1- \\epsilon)/2}\\log(\\sin \\pi x) \\,dx = I_{\\epsilon} - \\int_{(1-\\epsilon)/2}^{(1+\\epsilon)/2}\\log (\\sin \\pi x)\\,dx.$$\n",
    "So\n",
    "$$I_{\\epsilon} = 2 \\int_{(1-\\epsilon)/2}^{(1+\\epsilon)/2}\\log (\\sin \\pi x)\\,dx  -  (1-2\\epsilon)\\log 2.$$\n",
    "Take $\\epsilon \\to 0$, we get the conclusion."
   ]
  },
  {
   "cell_type": "markdown",
   "metadata": {},
   "source": [
    "##### 10.\n",
    "Consider the function $f(z) = \\log z / (z^2+a^2)$, with the branch $\\log z = \\log |z| + i \\text{arg}z$ , where $\\text{arg}z \\in (-\\pi/2 , 3\\pi/2]$. Take the integral of $f(z)$ over the contour $\\gamma$: straight line from $-R$ to $-\\epsilon$, upper-half circle from $-\\epsilon$ to $\\epsilon$, straight line from $\\epsilon$ to $R$, and upper-half circle from $R$ to $-R$, where $\\epsilon < a < R$. Inside $\\gamma$, $f$ has a simple pole at $z = ai$. We have\n",
    "$$\\text{res}_{ai} f = \\frac{\\log a + i\\pi /2 }{2a i}.$$\n",
    "Using the residue formula, we get the final result after taking the limits $R \\to \\infty$, $\\epsilon \\to 0$ (note that we will use $\\log (R) / R \\to 0$ as $R \\to \\infty$ and $\\epsilon \\log \\epsilon \\to 0$ as $\\epsilon \\to 0$ when taking the limits of integrals on half-circles), and finally taking half of the real part of the contour integral. Note: the image part appears due to $\\log z = \\log |z| + \\pi i$ for $z$ lying on the negative real line."
   ]
  },
  {
   "cell_type": "markdown",
   "metadata": {},
   "source": [
    "##### 12.\n",
    "Inside the circle $|z| = R_N$, the function $f(z)$ has simple poles at $z = n \\in \\mathbb{Z}$ (with $|n| \\le N$) and a pole of order $2$ at $z= -u$. We have\n",
    "$$\\text{res}_{n}f = \\frac{1}{(u+n)^2},$$\n",
    "$$\\text{res}_{-u}f = \\frac{-\\pi^2}{\\sin^2(\\pi u )}.$$\n",
    "Using the residue formula, we get the result if we can show that the contour integral converges to $0$ as $N \\to \\infty$. To show the contour integral converges to $0$, note that $|\\cot(\\pi z)|$ is unifomrly (not dependent on $N$) bounded on $R_N$. To show this boundedness, consider two cases: $|x| < R_N - 1/4$ and $|x| \\ge R_N - 1/4$), and\n",
    "$$|\\cot(\\pi z)|^2 = \\frac{\\cos^2 \\pi x + \\sinh^2 \\pi y}{\\sin^2 \\pi x + \\sinh^2 \\pi y}.$$ "
   ]
  },
  {
   "cell_type": "markdown",
   "metadata": {},
   "source": [
    "##### 13. \n",
    "Put $g(z) = (z-z_0)f(z)$. By assumption, we have $|g(z)|\\le A |z-z_0|^{\\epsilon}$, hence $g$ is bounded in a neighborhood of $z_0$ and holomorphic near $z_0$. By $|g(z)|\\le A |z-z_0|^{\\epsilon}$, we have $g(z_0) = 0$. So the Taylor expansion of $g$ at $z_0$ is\n",
    "$$g(z) = \\sum_{n=1}^{\\infty}c_n (z-z_0)^n.$$\n",
    "Hence $f(z) = \\sum_{n=0}^{\\infty}c_{n+1}(z-z_0)^n$. Therefore the singularity of $f$ at $z_0$ is removable."
   ]
  },
  {
   "cell_type": "markdown",
   "metadata": {},
   "source": [
    "##### 14.\n",
    "Put $g(z) = f(1/z)$. If $g$ has essential singularity at $0$, then $g(D_r(0)\\backslash \\{0\\})$ is dense in $\\mathbb{C}$, hence $f(\\{|z| > r\\})$ is dense in $\\mathbb{C}$. By open mapping theorem, we have $f(\\{|z| < r\\})$ is an open subset of $\\mathbb{C}$. We get a contradiction due to the injective of $f$.\n",
    "\n",
    "So $g$ must have removable or pole singularities at $z_0$. Hence there is a holomorphic function $h$ such that $g(z) = z^{-n}h(z)$ with $n \\ge 0$. So we have $f(z) = z^n h (1/z)$. Using the Taylor expansion of $h$ at $0$, we get $h$ is a polynomial of order at most $n$. So $f$ is a polynomial. By the injective of $f$, we can conclude that $f$ has only one root. So $f(z) = c(z-a)^k$ for some $a,c\\in \\mathbb{C}$, $c \\ne 0$, and $k \\in\\mathbb{N}$, $k \\ge 1$. Now, if $k \\ge 2$, then $f(z) = c$ has $k$ different solutions, hence $k = 1$."
   ]
  },
  {
   "cell_type": "markdown",
   "metadata": {},
   "source": [
    "##### 15.\n",
    "$(a)$ By using Cauchy inequality, we have\n",
    "$$|f^{(n)}(0)| \\le \\frac{n!}{R^n} (AR^k + B).$$\n",
    "Take $R \\to \\infty$, we get $f^{(n)}(0) = 0$ for $n > k$.\n",
    "So $f$ is a polynomial of degree at most $k$.\n",
    "\n",
    "$(b)$ Take $K \\in \\mathbb{N}$ such that $K(\\varphi - \\theta) > 2\\pi$. Put\n",
    "$$g(z) = \\prod_{m= 0}^K  f(e^{im(\\varphi -\\theta)}z).$$\n",
    "By $f$ is bounded, and there exists $0\\le m \\le K$ such that $\\theta < \\text{arg}e^{im(\\varphi -\\theta)}z  < \\varphi$. So $g(z) \\to 0$ uniformly as $|z| \\to 1$. By the maximum principle, we get $g(z) = 0$ in the unit disc. So for each $r < 1$, there exists $|z| = r$ such that $f(z) = 0$. So $0$ is a limit point of roots of $f$ in the unit disc. Therefore $f = 0$.\n",
    "\n",
    "$(d)$ Put $g(z) = e^{f(z)}$, then $g$ is an entire function. If $\\text{Re} f$ is bounded, then $|g(z)|$ is bounded, hence $g$ is a constant function. By the continuity of $f$, we conclude that $f$ is a constant function."
   ]
  },
  {
   "cell_type": "markdown",
   "metadata": {},
   "source": [
    "##### 17.\n",
    "$(a)$ Let $w \\in \\mathbb{D}$. By Rouchet theorem, we have $f(z)$ and $f(z) - w$ has a same number of root in $\\mathbb{D}$. Suppose that $f$ is nonvanishing in $\\mathbb{D}$. By applying maximum modulus theorem for $f(z)$ and $1/f(z)$, we have $|f(z)| = 1$ in $\\mathbb{D}$. By open mapping theorem, we get $f$ is a constant function, a contradiction. Hence $f$ has at least one root in $\\mathbb{D}$.\n",
    "\n",
    "$(b)$ By Rouchet theorem, we have $f(z)$ and $f(z) - f(z_0)$ has a same number of root in $\\mathbb{D}$. By $z_0$ is a root of $f(z) - f(z_0)$, we have $f(z)$ has at least one root in $\\mathbb{D}$. Now, using Rouchet theorem one more, we have $f(z) = w$ has at least one root in $\\mathbb{D}$."
   ]
  }
 ],
 "metadata": {
  "kernelspec": {
   "display_name": "Python 3",
   "language": "python",
   "name": "python3"
  },
  "language_info": {
   "codemirror_mode": {
    "name": "ipython",
    "version": 3
   },
   "file_extension": ".py",
   "mimetype": "text/x-python",
   "name": "python",
   "nbconvert_exporter": "python",
   "pygments_lexer": "ipython3",
   "version": "3.5.0"
  }
 },
 "nbformat": 4,
 "nbformat_minor": 0
}
