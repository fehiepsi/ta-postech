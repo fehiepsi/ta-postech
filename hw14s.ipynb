{
 "metadata": {
  "name": "",
  "signature": "sha256:d3031d453dffd10dcf9ec0d85030b536cf89f1c266fb21d06745ef4a71106971"
 },
 "nbformat": 3,
 "nbformat_minor": 0,
 "worksheets": [
  {
   "cells": [
    {
     "cell_type": "markdown",
     "metadata": {},
     "source": [
      "## Analysis I - homework - week 15 (HW#14) {-}"
     ]
    },
    {
     "cell_type": "markdown",
     "metadata": {},
     "source": [
      "**1.** $(a)$ Let $f : [a, b] \\to \\mathbb{R}$ be differentiable and assume that $f'$ is integrable. Prove $\\int_a^b f'(x)\\,dx = f (b) \u2212 f(a)$.\n",
      "\n",
      "$(b)$ Must $f'$ always be integrable?"
     ]
    },
    {
     "cell_type": "markdown",
     "metadata": {},
     "source": [
      "**Sketch of proof.** $(a)$ See the lemma in the proof of Problem 1, HW#13.\n",
      "\n",
      "$(b)$ No. Consider the function $f:[0,1]\\to \\mathbb{R}$ be defined by $f(x) = x^2 \\sin(x^{-2}) $ for $0 < x \\le 1$ and $f(0) = 0$. Then $f'(x) = 2x\\sin(x^{-2}) -2\\cos (x^{-1})/x$ if $x>0$ and\n",
      "$$f'(0) = \\lim_{x\\to 0^+}\\frac{ x^2\\sin(x^{-2}) - 0}{x} =  \\lim_{x\\to 0^+} x\\sin (x^{-2}) = 0$$\n",
      "by $\\sin (x^{-2}) \\le 1$ for any $x > 0$. Show that this derivative is unbounded in $(0,1)$, so it is not Riemann integrable. $\\Box$\n",
      "\n",
      "*Note.* If we regard integrable by improper integrable, we still have a counterexample for $(b)$ (e.g. Volterra's function)."
     ]
    },
    {
     "cell_type": "markdown",
     "metadata": {},
     "source": [
      "**2.** For $x > 0$ define $L(x) = \\int_1^x 1/t \\,dt$. Prove the following, using this definition,\n",
      "\n",
      "$(a)$ $L$ is increasing in $x$.\n",
      "\n",
      "$(b)$ $L(xy) = L(x) + L(y)$.\n",
      "\n",
      "$(c)$ $L'(x) = 1/x$.\n",
      "\n",
      "$(d)$ $L(1) = 0$.\n",
      "\n",
      "$(e)$ Properties $(c)$ and $(d)$ uniquely determine $L$."
     ]
    },
    {
     "cell_type": "markdown",
     "metadata": {},
     "source": [
      "**Sketch of proof.** This is a routine exercise. For $(b)$, change of variables. $\\Box$"
     ]
    },
    {
     "cell_type": "markdown",
     "metadata": {},
     "source": [
      "**3.** Suppose $f : (0, b] \\to \\mathbb{R}$ is continuous, positive, and integrable on $(0, b]$. Suppose further that as $x \\to 0$ from the right, $f (x)$ increases monotonically to $+\\infty$. Then prove that $\\varepsilon f (\\varepsilon) \\to 0$ as $\\varepsilon \\to 0$."
     ]
    },
    {
     "cell_type": "markdown",
     "metadata": {},
     "source": [
      "**Sketch of proof.** Show that $\\lim_{x\\to 0^+} \\int_0^x f(t)\\,dt = 0$. By $f(x)$ increases monotonically to $+\\infty$ as $x\\to 0^+$, we have $\\int_0^x f(t)\\,dt \\ge x.f(x)$ for any $x > 0$. Let $x \\to 0^+$, we get $xf(x) \\to 0$. $\\Box$"
     ]
    },
    {
     "cell_type": "markdown",
     "metadata": {},
     "source": [
      "**4.** Show that $\\int_1^{\\infty} x^{-p}\\sin x \\, dx$ converges if $p > 1$. Show that if $0 < p \u2264 1$, then the convergence is conditional."
     ]
    },
    {
     "cell_type": "markdown",
     "metadata": {},
     "source": [
      "**Sketch of proof.** By $|\\sin x | \\le 1$, we have $|x^{-p}\\sin x| \\le x^{-p}$. By $\\int_1^{\\infty} x^{-p}\\,dx = 1/(p-1)$ if $p > 1$, we conclude that $\\int_1^{\\infty}x^{-p}\\sin x \\,dx$ converges if $p > 1$.\n",
      "\n",
      "For $0 < p \\le 1$, use integration by parts, we get\n",
      "$$\\int_1^R x^{-p}\\sin x \\,dx =\\left. \\frac{-\\cos x}{x^p}\\right|^{x=R}_{x= 1} - \\int_1^R \\frac{p\\cos x}{x^{p+1}}\\,dx= \\frac{-\\cos R}{R^p} + \\cos 1 - p \\int_1^R \\frac{\\cos x }{x^{p+1}}\\,dx.$$\n",
      "\n",
      "Show that $\\int_1^R \\cos x /x^{p+1}\\,dx$ converges as $R\\to +\\infty$. Conclude that $\\int_1^R x^{-p}\\sin x \\,dx$ converges conditionally. $\\Box$"
     ]
    },
    {
     "cell_type": "markdown",
     "metadata": {},
     "source": [
      "**5.** The gamma function is defined by the improper integral $\\Gamma (p) = \\int_0^{\\infty} e^{-x} x^{p-1} \\,dx$. Show that the integral is convergent for $p > 0$."
     ]
    },
    {
     "cell_type": "markdown",
     "metadata": {},
     "source": [
      "**Sketch of proof.** We break the above integral into two parts $I_1 = \\int_0^{1} e^{-x} x^{p-1} \\,dx$ and $I_2 = \\int_1^{\\infty} e^{-x} x^{p-1} \\,dx$.\n",
      "\n",
      "For the first integral, we bound $I_1 \\le  \\int_0^{1} x^{p-1} \\,dx = 1/p$. \n",
      "\n",
      "For the second integral, we use the fact that $\\lim_{x\\to \\infty } x^{p-1}/e^{x/2} = 0$ to conclude that there is a constant $C > 0$ such that $x^{p-1}\\le Ce^{x/2}$ for all $x\\in [1, \\infty)$. This allows us to bound $I_2\\le \\int_1^{\\infty} Ce^{-x/2} \\,dx= 2Ce^{-1/2}$. $\\Box$\n",
      "\n",
      "*Note.* The trick in the second integral is very useful when we want to estimate some integral."
     ]
    },
    {
     "cell_type": "markdown",
     "metadata": {},
     "source": [
      "**6.** Let $R([0, 1]) = \\{f : [0, 1] \u2192 \\mathbb{R} \\mid f \\text{ is Riemann integrable}\\}$. Set\n",
      "$$d(f,g) = \\int_0^1 |f (x) \u2212 g(x)|\\,dx.$$\n",
      "\n",
      "Is $d$ a metric on the space $R([0, 1])$?"
     ]
    },
    {
     "cell_type": "markdown",
     "metadata": {},
     "source": [
      "**Sketch of proof.** $d$ is not a metric. Let $f$ be the function that equals 1 at 0 and equals 0 otherwise, and let $g = 2f$, then $f \\neq g$ but $d(f, g) = 0$. $\\Box$"
     ]
    },
    {
     "cell_type": "markdown",
     "metadata": {},
     "source": [
      "**7.** Is $\\int_0^{\\infty}x^p \\,dx$ convergent for any $p$? If so, which $p$?"
     ]
    },
    {
     "cell_type": "markdown",
     "metadata": {},
     "source": [
      "**Sketch of proof.** The integral is not convergent for any $p$. Calculate $\\int_{\\varepsilon}^{N}x^p \\,dx$, then let $\\epsilon \\to 0$ or $N\\to +\\infty$ to prove this claim. $\\Box$"
     ]
    },
    {
     "cell_type": "markdown",
     "metadata": {},
     "source": [
      "**8.** Let $f : [0, 1] \u2192 \\mathbb{R}$ be integrable and be continuous at $x_0$. Show that the map $I_f (x) = \\int_0^x f (y)\\, dy$ is differentiable with derivative $f (x_0 )$. Give an example of a discontinuous integrable $f$ for which $I_f$ is not differentiable. For bounded integrable $f$ prove this map is always continuous."
     ]
    },
    {
     "cell_type": "markdown",
     "metadata": {},
     "source": [
      "**Sketch of proof.** Assume that $f$ is integrable and be continuous at $x_0$. Then for every $\\epsilon>0$, there exists a $\\delta>0$ such that $|f(t)-f(x)|\\le \\epsilon$ whenever $|t-x|\\le \\delta$. Then for every $y\\in [0, 1]\\cap [x_0-\\delta, x_0+\\delta]\\setminus \\{x_0\\}$, one has\n",
      "$$\\left|\\frac{I_f(y) - I_f(x_0)}{y-x_0}-f(x_0)\\right| \\le \\frac{1}{|y-x_0|}\\left|\\int_{x_0}^{y} (f(t) - f(x_0))\\,dt\\right|\\le \\epsilon.$$\n",
      "\n",
      "For the second part, let $f(x)  = \\chi_{[0, 1/2]}(x)$. One has $I_f(x) = x$ if $x \\le 1/2$ and $I_f(x) = 1/2$ if $x > 1/2$. This function is not differentiable at $1/2$ (why?).\n",
      "\n",
      "For the last part, assume that $|f|\\le M$ for some $M > 0$. Then for every $\\varepsilon>0$, if $|y-x|\\le \\varepsilon / M$ then\n",
      "$$|I_f(y) - I_f(x)|\\le \\left|\\int_{x}^y  f(t)\\, dt \\right| \\le |y-x|M \\le \\varepsilon. \\Box$$"
     ]
    },
    {
     "cell_type": "markdown",
     "metadata": {},
     "source": [
      "**9.** Prove that $\\lim_{n\\to\\infty} (n!)^{1/n}/n = e^{\u22121}$ by considering Riemann sums for $\\int_0^1 \\log x\\,dx$ based on the partition $1/n < 2/n < \\cdots < 1$."
     ]
    },
    {
     "cell_type": "markdown",
     "metadata": {},
     "source": [
      "**Sketch of proof.** Instead of considering the integral $\\int_0^1 \\log x \\, dx$, we consider the integral $\\int_1^{\\infty} \\log x \\,dx$ based on the partition $1 < 2 < \\cdots < n$. Since the function $x\\to \\log x$ is monotone increasing on the interval $[1, \\infty)$, one has\n",
      "$$\\int_{1}^{n}\\log x\\,dx = \\sum_{i=2}^{n}\\int_{i-1}^{i}\\log x\\, dx \\le \\sum_{i=2}^{n}\\int_{i-1}^{i}\\log i\\, dx=\\sum_{i=2}^{n}\\log i = \\log(n!).\n",
      "$$\n",
      "\n",
      "Similarly, \n",
      "$$\\log (n!)\\le \\int_{2}^{n+1}\\log x\\,dx.$$\n",
      "\n",
      "Thus,\n",
      "$$\\int_{1}^{n}\\log x\\,dx\\le \\log (n!)\\le \\int_{2}^{n+1}\\log x\\,dx.$$\n",
      "\n",
      "Show that\n",
      "$$-1\\le \\frac{\\log(n!)}{n}-\\log n\\le -1 +\\log\\frac{n+1}{n}+\\frac{\\log (n+1)}{n}-\\frac{2\\log 2-1}{n}.$$\n",
      "\n",
      "Letting $n\\to \\infty$ to get the solution. $\\Box$"
     ]
    },
    {
     "cell_type": "markdown",
     "metadata": {},
     "source": [
      "**10.** It is a fact that\n",
      "$$\\sin\\left(\\frac{\\pi}{n}\\right)\\sin\\left(\\frac{2\\pi}{n}\\right)\\ldots \\sin\\left(\\frac{(n-1)\\pi}{n}\\right) = \\frac{n}{2^{n-1}}.$$\n",
      "\n",
      "Use this identity to evaluate $\\int_0^{\\pi}\\log \\sin x\\,dx$. [You don\u2019t need to prove the identity.]"
     ]
    },
    {
     "cell_type": "markdown",
     "metadata": {},
     "source": [
      "**Sketch of proof.** Note that the function $\\log \\sin x$ is integrable on $(0,\\pi/2)$. Indeed, for $x \\in (0, \\pi/2)$, by $2x/\\pi <  \\sin x$ (this is an elementary inequality, to prove, just consider the function $(\\sin x - 2x/\\pi)$), we have\n",
      "$$|\\log\\sin x| = - \\log \\sin x = \\log \\left(\\frac{1}{\\sin x}\\right) < \\log \\left (\\frac{\\pi}{2 x}\\right) =  \\log(\\pi/2) - \\log (x).$$\n",
      "\n",
      "Claim that $\\log\\sin x$ is integrable on $(0,\\pi/2)$. By change of variables from $x \\mapsto (\\pi - x)$, we get $\\log \\sin x$ integrable on $(\\pi/2,\\pi)$, hence $\\log\\sin x$ is integrable on $(0,\\pi)$.\n",
      "\n",
      "Let $I=\\int_0^{\\pi}\\log \\sin x\\,dx$. We don't need the identity in the question to evaluate the integral. Using the formula $\\sin x = 2\\sin \\frac{x}{2}\\cos\\frac{x}{2}$, one gets,\n",
      "$$I =\\pi \\log 2 + 2\\int_0^{\\pi/2}\\log \\sin x\\,dx + 2\\int_0^{\\pi/2}\\log \\cos x\\,dx.$$\n",
      "Now, the two last integrals are equal because $\\sin x = \\cos(\\pi/2-x)$; and each of them equals $I/2$. This implies $I = -\\pi\\log 2$. $\\Box$"
     ]
    }
   ],
   "metadata": {}
  }
 ]
}