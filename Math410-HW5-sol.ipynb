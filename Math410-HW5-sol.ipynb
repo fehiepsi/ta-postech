{
 "cells": [
  {
   "cell_type": "markdown",
   "metadata": {},
   "source": [
    "#### Stein-Shakarchi - section 5.6"
   ]
  },
  {
   "cell_type": "markdown",
   "metadata": {},
   "source": [
    "#### 4.\n",
    "$(a)$ We may consider $|z| \\ge 1$. Using the hint, to show that $F(z)$ is of order $\\le 2$, it is enough to show that $|F_2(z)|$ is bounded uniformly in $|z| \\ge 1$. Indeed, we have\n",
    "$$\\left|\\left(\\sum_{N+1}^{\\infty}e^{-2\\pi n t}\\right) e^{2\\pi z} \\right|\\le \\frac{e^{2\\pi|z|(1 - ct)}}{1 - e^{-2\\pi t}} < 1/2 $$\n",
    "if we choose $c > 0$ large enough. By applying the same argument as in Proposition 3.1, we get $|F_2(z)|$ is bounded uniformly in $|z| \\ge 1$.\n",
    "\n",
    "To conclude that $F(z)$ is of order $2$, use the first result from $(b)$ below and Theorem 2.1!\n",
    "\n",
    "$(b)$ Use the fact that an infinite product is zero iff one of its factor is zero. Put $z_{nm} = -int + m$, hence $|z_{nm}|^2 \\le (1+t^2)(m^2 + n^2)$ and $|z_{nm}|^{2+\\epsilon} \\ge \\min\\{1,t^{2+\\epsilon}\\}(n^{2}+m^2)^{1+\\epsilon/2}$. Then using the following two facts\n",
    "$$\\sum_{n=1}^{\\infty}\\sum_{m=1}^{\\infty} \\frac{1}{m^2 + n^2} \\ge \\sum_{n=1}^{\\infty}\\sum_{m=1}^{n} \\frac{1}{n^2 + n^2} \\ge \\frac{1}{2} \\sum_{n=1}^{\\infty} \\frac{1}{n} = \\infty,$$\n",
    "$$\\sum_{n=1}^{\\infty}\\sum_{m=1}^{\\infty} \\frac{1}{(n^{2}+m^2)^{1+\\epsilon/2}} \\le 2\\sum_{n=1}^{\\infty}\\frac{1}{(1+n^2)^{1+\\epsilon/2}} + \\int_{\\mathbb{R}^2 \\setminus U} \\frac{1}{|z|^{2+\\epsilon}}\\,dz < \\infty,$$\n",
    "where $U$ is unit circle. To show the above integration is finite, use polar coordinate.\n",
    "\n",
    "Note that the second result can also be obtained by $(a)$ and Theorem 2.1."
   ]
  },
  {
   "cell_type": "markdown",
   "metadata": {},
   "source": [
    "#### 5.\n",
    "To show that $F_{\\alpha}$ is entire, it is enough to show that $F_{\\alpha}$ is holomorphic in every ball $B_r(0)$. Note that for $\\alpha > 1$, we have $|t|^{\\alpha} \\gg  2\\pi |z| |t|$ uniformly for $z \\in B_r(0)$ as $|t| \\to \\infty$. The holomorphic of $F_{\\alpha}$ is then obtained by taking derivative under the integral sign (the derivative is uniformly bounded by $C|t|e^{- t^{\\alpha}/2}$, which is integrable, for some constant $C > 0$).\n",
    "\n",
    "The order of growth of $F_{\\alpha}$ is $\\ge \\alpha / (\\alpha -1)$ by using the hint. To conclude that the order is exactly $\\alpha / (\\alpha -1)$, let $z = x/i$ where $x > 0$. Take $1 < c < (2\\pi - 1)^{1/\\alpha}$, then $-t^{\\alpha} + 2\\pi x t \\ge x^{\\alpha / (\\alpha -1)}$ for $t \\in (x^{1/(\\alpha - 1)}, c x^{1/(\\alpha -1)})$. Therefore,\n",
    "$$|F_{\\alpha}(z)| \\ge (c -1) x^{1/(\\alpha - 1) }e^{x^{\\alpha / (\\alpha -1)}}.$$\n",
    "\n",
    "We conclude."
   ]
  },
  {
   "cell_type": "markdown",
   "metadata": {},
   "source": [
    "##### 6,7a,9.\n",
    "See HW4."
   ]
  },
  {
   "cell_type": "markdown",
   "metadata": {},
   "source": [
    "#### 13\n",
    "Suppose a contrary. By $e^{z} - z$ is of order $1$, applying Hadamard's theorem, we get\n",
    "$$e^{z} - z = e^{az + b}P(z),$$\n",
    "where $P(z)$ is a polynomial with $P(0) =1$. By letting $z=0$, we get $b = 0$. By taking the limit as $z \\to \\infty$, we get $a = 1$. So $P(z) = 1 - ze^{-z}$, a contradiction."
   ]
  },
  {
   "cell_type": "markdown",
   "metadata": {},
   "source": [
    "#### Stein-Shakarchi - section 6.3"
   ]
  },
  {
   "cell_type": "markdown",
   "metadata": {},
   "source": [
    "#### 1.\n",
    "Using Theorem 1.7, we get\n",
    "$$\\begin{aligned}\\Gamma(s) &= \\lim_{n \\to \\infty}\\frac{n!}{s(s+1)\\cdots (s+n) } \\exp\\left(s(\\sum_{k=1}^n \\frac{1}{k} - \\gamma)\\right) \\\\&=  \\lim_{n\\to\\infty}\\frac{n!}{s(s+1)\\cdots (s+n) } e^{s\\log n } = \\lim_{n\\to \\infty} \\frac{n!n^s}{s(s+1)\\cdots (s+n)},\\end{aligned}$$\n",
    "where the second identity comes from the definition of $\\gamma$. (To be precise, we should add an $\\epsilon_n$ into the exponent function in the third term, where $\\epsilon_n \\to 0$; however, under the limit $n\\to \\infty$, $e^{\\epsilon_n} \\to 1$.)"
   ]
  },
  {
   "cell_type": "markdown",
   "metadata": {},
   "source": [
    "#### 5.\n",
    "From Exercise 1, we know that $|\\Gamma(s)| = |\\Gamma(\\bar{s})|$. Write\n",
    "$$|\\Gamma(1/2 + it)|^2 = |\\Gamma(1/2+it)\\Gamma(1/2-it)|$$\n",
    "and use Theorem 1.4."
   ]
  },
  {
   "cell_type": "markdown",
   "metadata": {},
   "source": [
    "#### 6.\n",
    "Notice that $\\log(2n) = \\log(n) + \\log(2)$ and\n",
    "$$1 + \\frac{1}{2} + \\cdots + \\frac{1}{2n} = (1+\\frac{1}{3} + \\cdots + \\frac{1}{2n-1}) + \\frac{1}{2}(1+ \\frac{1}{2} + \\cdots + \\frac{1}{n}).$$"
   ]
  },
  {
   "cell_type": "markdown",
   "metadata": {},
   "source": [
    "#### 7.\n",
    "$(a)$ Use the hint.\n",
    "\n",
    "$(b)$ Using the change of variable $t \\mapsto u$ with $t = 1/(u+1)$."
   ]
  },
  {
   "cell_type": "markdown",
   "metadata": {},
   "source": [
    "#### 15.\n",
    "Using the hint with a change of order of integral sign and infinite sum sign. Note that we are dealing with positive functions, so the change is possible."
   ]
  },
  {
   "cell_type": "markdown",
   "metadata": {},
   "source": [
    "#### Stein-Shakarchi - section 8.5"
   ]
  },
  {
   "cell_type": "markdown",
   "metadata": {},
   "source": [
    "#### 5.\n",
    "Using definition, we need to show that $f$ is holomorphic and bijective. The holomorphic of $f$ is trivial. For $w$ in the upper half-plane, the equation $f(z) = w$ has two different solutions $z_1, z_2$ with $z_1 + z_2 = -2w$, $z_1 z_2 = 1$. So $f$ is injective. Now, suppose $|z_1| \\ge |z_2|$. By $z_1 z_2 = 1$, we have $\\text{Arg}\\,z_1 = -\\text{Arg}\\,z_2$. Note that $0 < \\text{Arg}\\, w < \\pi$, we conclude from $z_1 + z_2 = -2w$ that $z_2$ belongs to the upper half-disc."
   ]
  },
  {
   "cell_type": "markdown",
   "metadata": {},
   "source": [
    "#### 7.\n",
    "For $(a)$ and $(b)$, use the suggestion and do a routine calculation. For $(c)$, doing a similar argument with the change of variable $t = F(e^{i\\varphi}) - i$, we get\n",
    "$$\\frac{1}{2\\pi} \\int_{-\\pi}^0 P_r(\\theta - \\varphi)\\tilde{f}_1 (\\varphi) \\,d\\varphi = \\frac{\\sin \\pi y}{2} \\int_{-\\infty}^{\\infty} \\frac{f_1(t)}{\\cosh \\pi t + \\cos \\pi y}\\,dt.$$"
   ]
  },
  {
   "cell_type": "markdown",
   "metadata": {},
   "source": [
    "#### Stein-Shakarchi - section 8.6"
   ]
  },
  {
   "cell_type": "markdown",
   "metadata": {},
   "source": [
    "#### 2.\n",
    "$(a)$ Use the hint.\n",
    "\n",
    "$(b)$ Put $f = u + iv$. Considering the preserving of angles at $z_0$ of two orthorgonal curves $z_0 + t$ and $z_0 + it$, we get $u_xu_y + v_x v_y  = 0$ at $z = z_0$. Next, consider the preserving of two orthorgonal curves $z_0 + (1+i)t$ and $z_0 + (1-i)t$, we get $u_x^2 + v_x^2 = u_y^2 +v_y^2$. Hence by $J_f \\ne 0$, we get $u_x = \\pm v_y$, $u_y = \\mp v_x$ with $u_x \\ne 0$ or $u_y \\ne 0$. This is not enough to get the Cauchy-Riemann equations for $f$ because we are just taking orthorgonal curves. The preserving of angles also preserves the sign of angles, so by considering two curves $z_0 + t$ and $z_0 + (1+i)t$, we conclude that the case $u_x = -v_y$, $u_y = v_x$ cannot happen.\n",
    "\n",
    "We have $f$ satisfies Cauchy-Riemann equations at $z_0$, hence $f$ is holomorphic at $z_0$. The fact that $f'(z_0) \\ne 0$ follows from $J_f(z_0)\\ne 0$."
   ]
  }
 ],
 "metadata": {
  "kernelspec": {
   "display_name": "Python 3",
   "language": "python",
   "name": "python3"
  },
  "language_info": {
   "codemirror_mode": {
    "name": "ipython",
    "version": 3
   },
   "file_extension": ".py",
   "mimetype": "text/x-python",
   "name": "python",
   "nbconvert_exporter": "python",
   "pygments_lexer": "ipython3",
   "version": "3.5.0"
  }
 },
 "nbformat": 4,
 "nbformat_minor": 0
}
