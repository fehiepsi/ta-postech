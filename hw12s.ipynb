{
 "metadata": {
  "name": "",
  "signature": "sha256:daddae9f19773227d8bc72a22292216c8c6a6bbc36b97a9b759cbfaa34301f43"
 },
 "nbformat": 3,
 "nbformat_minor": 0,
 "worksheets": [
  {
   "cells": [
    {
     "cell_type": "markdown",
     "metadata": {},
     "source": [
      "## Analysis I - homework - week 12 {-}"
     ]
    },
    {
     "cell_type": "markdown",
     "metadata": {},
     "source": [
      "**1.** Let $f:A\\subset\\mathbb{R}\\to \\mathbb{R}$, where $A$ is bounded and $f$ is bounded and integrable over $A$. Consider another bounded integrable function $g:A\\to \\mathbb{R}$ such that $g(x) = f(x)$ except on a set $S\\subset A$ of measure zero. Then assuming $f$ and $g$ are integrable on $S$ and $A\\backslash S$, prove $\\int_A g = \\int_A f$."
     ]
    },
    {
     "cell_type": "markdown",
     "metadata": {},
     "source": [
      "**Sketch of proof.** Apply Theorem 8.4 and 8.5. $\\Box$"
     ]
    },
    {
     "cell_type": "markdown",
     "metadata": {},
     "source": [
      "**2.** Prove that an increasing function $f:[a,b]\\to \\mathbb{R}$ is Riemann integrable."
     ]
    },
    {
     "cell_type": "markdown",
     "metadata": {},
     "source": [
      "**Sketch of proof.** For each interval $[c,d] \\subset [a,b]$, we have $\\sup{f([c,d])} - \\inf{f([c,d])} \\le f(b) - f(a)$. So for any partition $P$ of $[a,b]$, we have $0\\le U(f,P) - L(f,P) \\le (f(b) - f(a)) |P|$, where $|P|$ denotes the maximal length of intervals in the partition $P$. From this, show that $f$ is Riemann integrable. $\\Box$"
     ]
    },
    {
     "cell_type": "markdown",
     "metadata": {},
     "source": [
      "**3.** If $f:A\\subset \\mathbb{R}^n \\to \\mathbb{R}$ and $g:A \\subset \\mathbb{R}^n \\to \\mathbb{R}$ are bounded integrable functions on the bounded set $A$ such that $f(x) < g(x)$ for all $x\\in A$ and $v(A) \\ne 0$, then show $\\int_A f < \\int_A g$."
     ]
    },
    {
     "cell_type": "markdown",
     "metadata": {},
     "source": [
      "**Sketch of proof.** Suppose on the contrary that $\\int_A f = \\int_A g$. Show that $A$ has measure zero. From $A$ has measure zero and $A$ has volume, we cannot immediately conclude that $v(A) = 0$ to get a contradiction. We are going to prove this.\n",
      "\n",
      "By $A$ is bounded, we have $\\bar{A}$ is compact. By $A$ is bounded and $A$ has volume, $\\partial A$ has measure zero. So $\\bar{A}$ has measure zero. Let $\\epsilon > 0$, there exists a covering of $\\bar{A}$ by a countable number of open rectangles such that $\\sum_{i=1}^{\\infty} v(S_i) < \\epsilon$ (see the note at the end of the proof of Theorem 8.1 in textbook). The compactness of $\\bar{A}$ implies that there exists a finite number of rectangles $S_{i_1}, \\ldots,S_{i_n}$ which cover $A$. Conclude that $v(A) = 0$ to get a contradiction. $\\Box$"
     ]
    },
    {
     "cell_type": "markdown",
     "metadata": {},
     "source": [
      "**4.** $(a)$ Show that a bounded set $A \\subset \\mathbb{R}^n$ has zero volume if and only if it can be covered by a finite number of rectangles of arbitrarily small total volume.\n",
      "\n",
      "$(b)$ Show that $A\\subset \\mathbb{R}^n$ has zero volume then it can be covered by a countable rectangles of arbitrarily small total volume."
     ]
    },
    {
     "cell_type": "markdown",
     "metadata": {},
     "source": [
      "**Sketch of proof.** $(a)$ See Worked Example 1 for Chapter 8.\n",
      "\n",
      "$(b)$ Let $1_A$ be the indicator function of $A$ in $\\mathbb{R}^n$. Show that the set at which $1_A$ discontinuous is $\\partial A$.\n",
      "\n",
      "By Theorem 8.3 (with valid for $A$ unbounded), if $A$ has zero volume, then $1_A$ is integrable, so $\\partial A$ has measure zero. Moreover, $v(A) = 0$ also implies $\\operatorname{int}(A) = \\varnothing$ (because each disc contains a nontrivial rectangle, hence has a positive volume).  So $A \\subset \\partial A$, which implies $A$ has measure zero. $\\Box$"
     ]
    },
    {
     "cell_type": "markdown",
     "metadata": {},
     "source": [
      "**5.** Let $B\\subset \\mathbb{R}^n$ be bounded, $f:B\\to \\mathbb{R}$ be integrable, $f\\ge 0$. If $A\\subset B$ and $f$ is integrable on $A$, then $\\int_A f \\le \\int_B f$. Is this true if we do not assume $f \\ge 0$?"
     ]
    },
    {
     "cell_type": "markdown",
     "metadata": {},
     "source": [
      "**Sketch of proof.** Let $R$ be a rectangle which encloses $B$, then we have $\\int_A f = \\int_R 1_A f$ and $\\int_B f = \\int_R 1_B f$. Show that $\\int_A f \\le \\int_B f$. If we do not assume $f \\ge 0$, this is not true in general. For example, let $B = [0,1]$, $f = -1$ on $B$, and $A = \\varnothing$. $\\Box$"
     ]
    },
    {
     "cell_type": "markdown",
     "metadata": {},
     "source": [
      "**6.** Let $A\\subset \\mathbb{R}^n$ be bounded. Prove that if $f :A\\subset \\mathbb{R}^n \\to \\mathbb{R}$ is continuous, $A$ is open with volume, and $\\int_B f = 0$ for each $B\\subset A$ with volume, then $f = 0$."
     ]
    },
    {
     "cell_type": "markdown",
     "metadata": {},
     "source": [
      "**Sketch of proof.** Suppose on the contrary that there exists $x \\in A$ such that $f(x) \\ne 0$. Without loss of generality, suppose more that $f(x) = a > 0$. Then by the continuity of $f$, there exists a disk $D\\equiv D(x,\\delta) \\subset A$ such that $f > a/2$ on $D$. Show that $\\int_D f > 0$ to get a contradiction. $\\Box$"
     ]
    },
    {
     "cell_type": "markdown",
     "metadata": {},
     "source": [
      "**7.** Show that the Cantor set $C \\subset [0,1]$ has measure zero."
     ]
    },
    {
     "cell_type": "markdown",
     "metadata": {},
     "source": [
      "**Sketch of proof.** Let $F_1 = [0,1/3] \\cup [2/3,1]$ be obtained from $[0,1]$ by removing the middle third. Repeatly, obtaining\n",
      "$$F_2 = [0,1/9]\\cup [2/9,3/9] \\cup [6/9,7/9] \\cup [8/9,1].$$\n",
      "\n",
      "In general, $F_n$ is a union of closed intervals and $F_{n+1}$ is obtained from $F_n$ by removing the middle third of these intervals. Then by definition, $C = \\bigcap_{1}^{\\infty} F_n$.\n",
      "\n",
      "For each $n$, we have $v(F_n) = (2/3)^n$. So for $\\epsilon > 0$, there exists $n$ large enough such that $v(F_n) < \\epsilon /2$. Show that there exists a finite covering of $F_n$ by rectangles of total volume less than $\\epsilon$. This covering of $F_n$ also encloses $C$ and has total volume less than $\\epsilon$. So $C$ has volume zero, in particular, $C$ has measure zero. $\\Box$"
     ]
    },
    {
     "cell_type": "markdown",
     "metadata": {},
     "source": [
      "**8.** Let $f:[0,1]\\to \\mathbb{R}$ be a bounded and $f^2$ is a Riemann integrable function. Does it follow that $f$ is a Riemann integrable function too?"
     ]
    },
    {
     "cell_type": "markdown",
     "metadata": {},
     "source": [
      "**Sketch of proof.** No. Let $f$ be defined by $f(x) = 1$ if $x \\in \\mathbb{Q}$ and $f(x) = -1$ otherwise. $\\Box$"
     ]
    },
    {
     "cell_type": "markdown",
     "metadata": {},
     "source": [
      "**9.** Let $p$ and $q$ be positive real numbers such that $p^{-1}+q^{-1} =1$. Prove the following statements.\n",
      "\n",
      "$(a)$ If $u\\ge 0$ and $v\\ge 0$, then\n",
      "$$uv \\le \\frac{u^p}{p} + \\frac{v^q}{q}.$$\n",
      "\n",
      "Equality holds if and only if $u^p = v^q$.\n",
      "\n",
      "$(b)$ Let $f:A\\subset \\mathbb{R}^n \\to \\mathbb{R}$ and $g:A\\subset \\mathbb{R}^n \\to \\mathbb{R}$ be non-negative integrable functions. Prove that if\n",
      "$$\\int_A f^p = \\int_A g^q = 1,$$\n",
      "then\n",
      "$$\\int_A fg \\le 1.$$\n",
      "\n",
      "$(c)$ Prove that if $f:A \\subset \\mathbb{R}^n \\to \\mathbb{R}$ and $g:A\\subset \\mathbb{R}^n \\to \\mathbb{R}$ are integrable functions, then\n",
      "$$\\left|\\int_A fg\\right| \\le \\left(\\int_A |f|^p\\right)^{1/p} \\left(\\int_A |g|^q\\right)^{1/q}.$$"
     ]
    },
    {
     "cell_type": "markdown",
     "metadata": {},
     "source": [
      "**Sketch of proof.** See Problem 6 of HW#7. $\\Box$"
     ]
    },
    {
     "cell_type": "markdown",
     "metadata": {},
     "source": [
      "**10.** Let $f,g,h:A\\subset \\mathbb{R}^n \\to \\mathbb{R}$ be integrable functions. Define\n",
      "$$\\|f\\|_2 := \\left(\\int_A|f|^2\\right)^{1/2}.$$\n",
      "\n",
      "Prove the following inequality,\n",
      "$$\\|f-h\\|_2 \\le \\|f-g\\|_2 + \\|g- h\\|_2.$$"
     ]
    },
    {
     "cell_type": "markdown",
     "metadata": {},
     "source": [
      "**Sketch of proof.** It is enough to show that if $u,v :A \\to \\mathbb{R}$ be integrable functions, then $\\|u + v\\|_2 \\le \\|u\\|_2 + \\|v\\|_2$. Indeed, we have\n",
      "$$\\|u+v\\|_2^2 \\le \\int_A |u+v| (|u|+|v|)= \\int_A|u+v||u| + \\int_A |u+v||v|  \\le  \\|u+v\\|_2(\\|u\\|_2 + \\|v\\|_2).\\Box$$"
     ]
    }
   ],
   "metadata": {}
  }
 ]
}