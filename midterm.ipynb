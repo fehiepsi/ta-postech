{
 "metadata": {
  "name": "",
  "signature": "sha256:4b3e723b785a676e1fb9a1b4f60e1c07eb55b346483ba416e854b31ea7c71ff4"
 },
 "nbformat": 3,
 "nbformat_minor": 0,
 "worksheets": [
  {
   "cells": [
    {
     "cell_type": "markdown",
     "metadata": {},
     "source": [
      "**2.** (10 points) Let $F_k$ $(k=1,2,3,\\ldots)$ be a sequence of non-empty sets in $\\mathbb{R}^n$ with the finite intersection property (i.e. any finite subcollection of $F_k$ has a non-empty intersection.)\n",
      "\n",
      "$(i)$ (5 points) If every $F_k$ is compact, then prove or disprove (by giving a counterexample) that $\\cup_{k=1}^{\\infty} F_k$ is non-empty.\n",
      "\n",
      "$(ii)$ (5 points) If the compact sets in $(i)$ are replaced by closed sets, does the same conclusion hold? Prove or give a counterexample.\n",
      "\n",
      "**Proof.** $(i)$ Suppose on the contrary that $\\cap_{k=1}^{\\infty} F_k =\\varnothing$. For each $k$, let $U_k = \\mathbb{R}^n \\backslash F_k$. Then we have $\\cup_{k=1}^{\\infty} U_k = \\mathbb{R}^n$. For each $k$, by $F_k$ compact, so closed, we have $U_k$ is open. So $\\{U_k\\}$ is an open cover of $\\mathbb{R}^n$ and, in particular, of $F_1$. By the compactness of $F_1$, there exists $k_1,k_2,\\ldots,k_n$ such that $F_1 \\subset \\cup_{i=1}^n U_{k_i }$ **(2 points)**. This means that\n",
      "$$ F_1 \\subset \\bigcup_{i=1}^n (\\mathbb{R}^n \\backslash F_{k_i}) = \\mathbb{R}^n \\backslash \\bigcap_{i=1}^n F_{k_i},$$\n",
      "which means that **(2 points)**\n",
      "$$ F_1 \\cap \\left(\\bigcap_{i=1}^n F_{k_i}\\right) = \\varnothing.$$\n",
      "\n",
      "We get a contradiction with the finite intersection property of $\\{F_k\\}$ **(1 point)**.\n",
      "\n",
      "$(ii)$ Counterexample **(5 points)**: In $\\mathbb{R}$, let $F_k = [k,\\infty)$. Then $F_k$ is closed for each $k$ and $\\cap_{k=1}^{\\infty} F_k=  \\varnothing$. $\\Box$"
     ]
    },
    {
     "cell_type": "markdown",
     "metadata": {},
     "source": [
      "**3.** **(10 points)** A real-valued function $f$ defined on $(a,b)$ is said to be convex if\n",
      "$$ f(\\lambda x + (1-\\lambda)y) \\le \\lambda f(x) + (1-\\lambda)f(y),$$\n",
      "whenever $a < x < b,a < y < b, 0 < \\lambda < 1$. Prove that every convex function is continuous.\n",
      "\n",
      "**Proof.** Let $f$ is a convex function in $(a,b)$. Let $x\\in (a,b)$. It is enough to show that $f$ is right continuous at $x$ (the left continuity is similar). Let $y, z \\in (a,b)$ such that $z < x < y$ and a sequence $\\{x_n\\}\\subset (x,y)$ which converges to $x$. Let $\\lambda_n,\\alpha_n\\in (0,1)$ be such that $x_n = \\lambda_n x + (1-\\lambda_n)y$ and $x = \\alpha_n z + (1-\\alpha_n)x_n$. We have $\\lambda_n = (y-x_n)/(y-x)$, hence converges to $1$ as $n\\to \\infty$; and $\\alpha_n = (x_n-x)/(x_n-z)$, hence converges to $0$ as $n\\to \\infty$. By the convexity of $f$, we have **(4 points)**\n",
      "$$\n",
      "f(x_n) \\le \\lambda_n f(x) + (1-\\lambda_n)f(y)\n",
      "$$\n",
      "and\n",
      "$$\n",
      "f(x) \\le \\alpha_n f(z) + (1-\\alpha_n) f(x_n).\n",
      "$$\n",
      "\n",
      "The second inequality is equivalent to **(2 points)**\n",
      "$$\n",
      "\\frac{f(x) - \\alpha_n f(z)}{1-\\alpha_n} \\le f(x_n).\n",
      "$$\n",
      "\n",
      "So we have **(2 points)**\n",
      "$$\n",
      "\\frac{f(x) - \\alpha_n f(z)}{1-\\alpha_n} \\le f(x_n) \\le \\lambda_n f(x) + (1-\\lambda_n)f(y).\n",
      "$$\n",
      "\n",
      "Both the left sequence and the right sequence converges to $f(x)$ as $n \\to\\infty$. So $f(x_n) \\to f(x)$ as $n\\to \\infty$ **(2 points)**. We conclude. $\\Box$"
     ]
    },
    {
     "cell_type": "markdown",
     "metadata": {},
     "source": [
      "**6.** **(10 points)** Let $f_n:[a,b]\\to \\mathbb{R}$ be uniformly bounded continuous functions and let\n",
      "$$F_n(x) = \\int_0^x f_n(t)\\,dt,\\quad a\\le x \\le b.$$\n",
      "\n",
      "Prove $F_n$ has a uniformly convergent subsequence.\n",
      "\n",
      "**Proof.** Suppose that $|f_n(x)| < M$ for all $x\\in [a,b]$, for all $n$. First, we will show that $\\{F_n\\}$ is bounded in $\\mathcal{C}([a,b],\\mathbb{R}^m)$. Indeed, we have **(4 points)**\n",
      "$$\\begin{aligned}\n",
      "|F_n(x)| &= \\left| \\int_a^x f_n(y) \\,dy\\right| \\\\\n",
      "&\\le \\int_a^x |f_n(y)|\\,dy \\le M(x-a)\\le M(b-a)\n",
      "\\end{aligned}$$\n",
      "for all $x\\in [a,b]$. So $\\|F_n\\| \\le M(b-a)$ for all $n$.\n",
      "\n",
      "Now, we will show that $\\{F_n\\}$ is equicontinous. Indeed, for $\\epsilon > 0$, choose $\\delta= \\epsilon / M$. Then for all $n$ and for all $x,y\\in [a,b]$ such that $|x-y| < \\delta$, we have **(4 points)**\n",
      "$$\\begin{aligned}\n",
      "|F_n(x) - F_n(y)| &= \\left| \\int_a^x f_n(t)\\, dt - \\int_a^y f_n(t)\\,dt\\right|\\\\\n",
      "&= \\left|\\int_x^y f_n(t)\\,dt\\right| \\le |y-x|M < \\epsilon.\n",
      "\\end{aligned}$$\n",
      "\n",
      "We have $[a,b]$ is compact and $\\{F_n\\} \\subset \\mathcal{C}([a,b] ,\\mathbb{R}^m)$ is bounded and equicontinuous. Applying Arzela-Ascoli's theorem **(2 points)**, $\\{F_n\\}$ has a uniformly convergent subsequence. $\\Box$"
     ]
    }
   ],
   "metadata": {}
  }
 ]
}