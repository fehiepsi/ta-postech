{
 "metadata": {
  "name": "",
  "signature": "sha256:1fca0429cb2e87aa4042c9972b0fbfd7261adf7a62f1e8c2c1f4f2df440279e2"
 },
 "nbformat": 3,
 "nbformat_minor": 0,
 "worksheets": [
  {
   "cells": [
    {
     "cell_type": "markdown",
     "metadata": {},
     "source": [
      "## Analysis I - homework - week 9 {-}"
     ]
    },
    {
     "cell_type": "markdown",
     "metadata": {},
     "source": [
      "**1.** Let $f(x,y)$ be a real-valued function on $\\mathbb{R}^2$. Use the proof of Theorem 6.9 to show that if $f$ is of class $C^1$ and $\\partial^2 f/\\partial x \\partial y$ exists and is continuous, then $\\partial^2f /\\partial y \\partial x$ exists, and\n",
      "$$\\frac{\\partial^2 f}{\\partial x \\partial y} = \\frac{\\partial^2f }{\\partial y \\partial x}.$$"
     ]
    },
    {
     "cell_type": "markdown",
     "metadata": {},
     "source": [
      "**Sketch of proof.** Put\n",
      "$$S_{h,k} = f(x+h,y+k) + f(x,y) - f(x+h,y) - f(x,y+k).$$\n",
      "\n",
      "By Theorem 6.9, we have\n",
      "$$S_{h,k} = \\frac{\\partial^2 f}{\\partial x \\partial y}(c_{h,k},d_{h,k}).hk=\\left( \\frac{\\partial f}{\\partial x}(e_{h,k}, y + k) - \\frac{\\partial f}{\\partial x}(e_{h,k}, y )\\right).h $$\n",
      "for some $c_{h,k},e_{h,k}$ between $x$ and $x+h$, $d_{h_k}$ between $y$ and $y+k$. So we have\n",
      "$$ \\frac{\\partial^2 f}{\\partial x \\partial y}(c_{h,k},d_{h,k})=\\left( \\frac{\\partial f}{\\partial x}(e_{h,k}, y + k) - \\frac{\\partial f}{\\partial x}(e_{h,k}, y )\\right)/k. $$\n",
      "\n",
      "Let $h \\to 0$, then let $k\\to 0$. Conclude. $\\Box$"
     ]
    },
    {
     "cell_type": "markdown",
     "metadata": {},
     "source": [
      "**2.** Let $f:A\\to \\mathbb{R}$ be continuous, $A\\subset \\mathbb{R}^n$ open. Assume that all directional derivatives exist and define, at each $x_0\\in A$, a linear map $Df(x_0)$. Must $f$ be differentiable?"
     ]
    },
    {
     "cell_type": "markdown",
     "metadata": {},
     "source": [
      "**Sketch of proof.** No. For example, let $f : \\mathbb{R}^2 \\to \\mathbb{R}$ be defined by $f(0,0) = 0$ and $f(x,y) = x^2y\\sqrt{x^2+y^2}/(x^4+y^2)$ if $(x,y)\\ne (0,0)$. Show that at $(0,0)$, all directional derivatives exist and be zero, hence define the linear map $Df(0,0) (x,y) = 0$. But $f$ is not differentiable at $(0,0)$. Indeed, we have\n",
      "$$\\lim_{(h,k)\\to (0,0)}\\frac{|f(h,k) - f(0,0) - Df(0,0)(h,k)|}{\\|(h,k)\\|} = \\lim_{(h,k)\\to (0,0)} \\frac{h^2k}{h^4+ k^2},$$\n",
      "which does not exists. $\\Box$"
     ]
    },
    {
     "cell_type": "markdown",
     "metadata": {},
     "source": [
      "**3.** Suppose $f$ and $g$ are real differentiable in $(a,b)$, and $g'(x) \\ne 0$ for all $x\\in (a,b)$. Suppose\n",
      "$$\\lim_{x\\to a}\\frac{f'(x)}{g'(x)} = A.$$\n",
      "Prove that if \n",
      "$$\\tag{*}\\lim_{x\\to a} f(x) = \\lim_{x\\to a}g(x) = 0$$\n",
      "or if\n",
      "$$\\tag{**}\\lim_{x\\to a} g(x) \\to +\\infty$$\n",
      "then \n",
      "$$\\lim_{x\\to a} \\frac{f(x)}{g(x)} = A.$$"
     ]
    },
    {
     "cell_type": "markdown",
     "metadata": {},
     "source": [
      "**Sketch of proof.** Suppose we have $(*)$, first show that for any $c\\in (a,b)$, there exists $d_c \\in (a,c)$ such that\n",
      "$$\\frac{f'(d_c)}{g'(d_c)} = \\frac{f(c) - f(a)}{g(c) - g(a)}.$$\n",
      "\n",
      "Then end proof for $(*)$ by showing that\n",
      "$$\\lim_{x \\to a} \\frac{f(x)}{g(x)} = \\lim_{x \\to a^+} \\left(\\frac{f(x) - f(a)}{x-a}\\cdot \\frac{x-a}{f(x) - f(a)} \\right)= \\lim_{x\\to a^+}\\frac{f'(d_x)}{g'(d_x)} = A.$$\n",
      "\n",
      "Now, we suppose $(**)$. For $0<\\epsilon < 1$, there exists $c \\in (a,b)$ such that $|f'(x)/g'(x) - A| < \\epsilon/2$ for all $x\\in (a,c)$. By $(**)$, we may suppose that $g(x) > 0$ for all $x\\in (a,c)$. Now, for each $x \\in (a,c)$, as above, there exists $d_x \\in (x,c)$ such that\n",
      "$$\\frac{f'(d_x)}{g'(d_x)} = \\frac{f(c) - f(x)}{g(c) - g(x)}.$$\n",
      "\n",
      "We have\n",
      "$$\\begin{aligned}\n",
      "\\frac{f(x)}{g(x)} &= \\frac{f(c) - f(x)}{g(c) - g(x)}\\left(1 - \\frac{g(c)}{g(x) }\\right) + \\frac{f(c)}{g(x)}\\\\\n",
      "&=\\frac{f'(d_x)}{g'(d_x)}\\left(1 - \\frac{g(c)}{g(x) }\\right) + \\frac{f(c)}{g(x)} .\n",
      "\\end{aligned}$$\n",
      "\n",
      "Hence\n",
      "$$\\begin{aligned}\n",
      "\\left|\\frac{f(x)}{g(x)} - \\frac{f'(d_x)}{g'(d_x)}\\right|&= \\left|-\\frac{f'(d_x)}{g'(d_x)}\\cdot \\frac{g(c)}{g(x)} + \\frac{f(c)}{g(x)}\\right|\\\\\n",
      "&\\le \\frac{ (|A| + 1)|g(c)|+ |f(c)|}{|g(x)|}.\n",
      "\\end{aligned}$$\n",
      "\n",
      "By $g(x) \\to +\\infty$ as $x \\to a$, there exists $e \\in (a,b)$ such that\n",
      "$$ \\frac{ (|A| + 1)|g(c)|+ |f(c)|}{|g(x)|} < \\epsilon /2$$\n",
      "for all $x \\in (a,e)$. Put $m = \\min \\{c,e\\}$, then conclude. $\\Box$"
     ]
    },
    {
     "cell_type": "markdown",
     "metadata": {},
     "source": [
      "**4.** Let $f:(-1,1)\\to \\mathbb{R}$ is continuous function and $f'(x)$ exists for all $x\\in (-1,1)\\backslash \\{0\\}$. Prove that if $\\lim_{x\\to 0^+} f'(x)$ and $\\lim_{x\\to 0^-} f'(x)$ exist and\n",
      "$$\\lim_{x\\to 0^+} f'(x) = \\lim_{x\\to 0^-} f'(x),$$\n",
      "then $f'(0)$ exists."
     ]
    },
    {
     "cell_type": "markdown",
     "metadata": {},
     "source": [
      "**Sketch of proof.** We have $f'(0) = \\lim_{h\\to 0}(f(h)-f(0))/h = \\lim_{h\\to 0} f'(c_h)$ for some $c_h$ between $0$ and $h$ (by Mean Value Theorem). $\\Box$"
     ]
    },
    {
     "cell_type": "markdown",
     "metadata": {},
     "source": [
      "**5.** Let $f$ be defined for all real $x$, and suppose that\n",
      "$$|f(x) - f(y)| \\le (x-y)^2$$\n",
      "for all real $x$ and $y$. Prove that $f$ is constant."
     ]
    },
    {
     "cell_type": "markdown",
     "metadata": {},
     "source": [
      "**Sketch of proof.** First use Mean Value Theorem to show that $f'$ is $0$. Then conclude $f$ is constant. $\\Box$"
     ]
    },
    {
     "cell_type": "markdown",
     "metadata": {},
     "source": [
      "**6.** If\n",
      "$$C_0 + \\frac{C_1}{2} + \\cdots + \\frac{C_{n-1}}{n} + \\frac{C_n}{n+1} = 0,$$\n",
      "where $C_0,\\ldots,C_n$ are real constants, prove that the equation\n",
      "$$C_0 + C_1x + \\cdots + C_{n-1} x^{n-1} + C_nx^n = 0$$\n",
      "has at least one real root between $0$ and $1$."
     ]
    },
    {
     "cell_type": "markdown",
     "metadata": {},
     "source": [
      "**Sketch of proof.** Put $f(x) = C_0 + C_1x + \\cdots +  C_nx^n$ and $g(x) = C_0 x + C_1 x^2/2 + \\cdots + C_nx^{n+1}/(n+1)$. Use Mean Value Theorem. $\\Box$"
     ]
    },
    {
     "cell_type": "markdown",
     "metadata": {},
     "source": [
      "**7.** Let $f$ be a differentiable real function defined in $(a,b)$. Prove that $f$ is convex if and only if $f'$ is monotonically increasing."
     ]
    },
    {
     "cell_type": "markdown",
     "metadata": {},
     "source": [
      "**Sketch of proof.** For the $(\\Rightarrow)$ side, let $x< y \\in (a,b)$. Let $h > 0$ such that $x + h < y < y+h < b$. We have\n",
      "$$\\frac{f(x+h) - f(x)}{h} \\le \\frac{f(y)-f(x+h)}{y -x-h} \\le \\frac{f(y+h)-f(y)}{h}.$$\n",
      "\n",
      "Let $h \\to 0$, we get $f'(x) \\le f'(y)$. So $f'$ is monotonically increasing.\n",
      "\n",
      "For the $(\\Leftarrow)$ side, note that for $a < x < y < b$ and $\\lambda \\in (0,1)$, we have\n",
      "$$f(\\lambda x + (1-\\lambda)y) \\le \\lambda f(x) + (1-\\lambda) f(y) \\iff \\frac{f(\\lambda x + (1-\\lambda)y) - f(x)}{1-\\lambda} \\le \\frac{f(y) -f(\\lambda x + (1-\\lambda)y) }{\\lambda}.$$\n",
      "\n",
      "Use Mean Value Theorem, and the assumption that $f'$ is monotonically increasing, we conclude that $f(\\lambda x + (1-\\lambda)y) \\le \\lambda f(x) + (1-\\lambda) f(y)$. $\\Box$"
     ]
    },
    {
     "cell_type": "markdown",
     "metadata": {},
     "source": [
      "**8.** Let $L:\\mathbb{R}^n \\to \\mathbb{R}^n$ be a linear isomorphism, and $f(x) = L(x) + g(x)$, where $\\|g(x)\\| \\le M \\|x\\|^2$ and $f$ is $C^1$. Show $f$ is locally invertible near $0$."
     ]
    },
    {
     "cell_type": "markdown",
     "metadata": {},
     "source": [
      "**Sketch of proof.** By $L$ is a linear isomorphism, we have $\\det (L) \\ne 0$, the Jacobian determinant of $L$ at $0$ is $JL(0) = \\det(DL(0)) = \\det(L) \\ne 0$.\n",
      "\n",
      "Now, by $\\|g(x)\\| \\le M\\|x\\|^2$, we have $g(0) = 0$, then show that $Dg(0) = 0$. So we have\n",
      "$$Jf(0) = \\det(Df(0)) = \\det(DL(0) + Dg(0)) = \\det(DL(0)) \\ne 0.$$\n",
      "\n",
      "By Inverse Function Theorem, we conclude $f$ is locally invertible near $0$. $\\Box$"
     ]
    },
    {
     "cell_type": "markdown",
     "metadata": {},
     "source": [
      "**9.** Show that the system of equations\n",
      "$$\\begin{aligned}\n",
      "3x+y -z + u^2 &= 0\\\\\n",
      "x-y+2z+u &= 0\\\\\n",
      "2x+2y - z + u^2 &= 0\\\\\n",
      "\\end{aligned}$$\n",
      "can be solved for $x,y,u$ in terms of $z$; but not for $x,y,z$ in terms of $u$."
     ]
    },
    {
     "cell_type": "markdown",
     "metadata": {},
     "source": [
      "**Sketch of proof.** The latter claim is wrong. Indeed, the matrix\n",
      "$$\\begin{pmatrix}\n",
      "3 & 1 & -1\\\\\n",
      "1 & -1 & 2 \\\\\n",
      "2 & 2 & -1\n",
      "\\end{pmatrix}$$\n",
      "has determinant $-8$, so the system can be solved for $x,y,z$ in terms of $u$.\n",
      "\n",
      "Now we solve $x,y,u$ in terms of $z$. This is quite elementary. $\\Box$"
     ]
    },
    {
     "cell_type": "markdown",
     "metadata": {},
     "source": [
      "**10.** Let $f(x) = x+2x^2\\sin(1/x)$, $x\\ne 0$, $f(0) = 0$. Show that $f'(0) = 1$, $f'$ is bounded in $(-1,1)$, but $f$ is not one-to-one in any neighborhood of $0$."
     ]
    },
    {
     "cell_type": "markdown",
     "metadata": {},
     "source": [
      "**Sketch of proof.** To show that $f$ is not one-to-one in any neighborhood of $0$, it is enough to consider neighborhoods having the form $(-\\epsilon,\\epsilon)$ with $0 < \\epsilon < 1/2$. If $f$ is one-to-one in $(0,\\epsilon)$, then by $f(0) = 0$ and $f(\\epsilon) = \\epsilon(1 + 2\\epsilon \\sin(1/\\epsilon)) > 0$, $f$ must be nondecreasing on $(0, \\epsilon)$. So $f'(x) \\ge 0$ for all $x\\in (0,\\epsilon)$. Put $x_n =1/( \\pi/2 + 2n \\pi)$, we have\n",
      "$$f(x_n) = 1 + \\frac{4}{\\pi/2 + 2n\\pi} -2 < 0$$\n",
      "for all $n\\in \\mathbb{N}$. So if we take $n$ large enough such that $1/( \\pi/2 + 2n \\pi)< \\epsilon$, then $x_n \\in (0,\\epsilon)$ and $f'(x_n) < 0$. We get a contradiction. $\\Box$"
     ]
    }
   ],
   "metadata": {}
  }
 ]
}